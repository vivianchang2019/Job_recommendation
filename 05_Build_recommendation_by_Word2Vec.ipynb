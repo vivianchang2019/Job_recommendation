{
 "cells": [
  {
   "cell_type": "markdown",
   "metadata": {},
   "source": [
    "# 建立推薦程式(用CV推薦職缺)，使用訓練好的模型分類，計算相似度\n",
    "\n",
    "程式步驟 (使用 scikit-learn, Word2Vec)\n",
    "\n",
    "> 1. 使用者輸入CV，以及工作條件\n",
    "\n",
    "> 2. 清洗CV，轉換成BOW， 丟入訓練模型，顯示預測分類結果。\n",
    "\n",
    "> 3. 利用預測分類結果，與使用者輸入工作條件，從mongoDB撈取職缺\n",
    "\n",
    "> 4. 將CV轉換成Word2Vec可用BOW\n",
    "\n",
    "> 5. 計算CV與職缺的相似度，推薦相似度最近的10筆工作 (使用Word2Vec模型)\n"
   ]
  },
  {
   "cell_type": "markdown",
   "metadata": {},
   "source": [
    "效果展示\n",
    "\n",
    "> 測試CV內容\n",
    "\n",
    "    '''最近工作\\n\\n公司：\\tXX醫院\\t行業：\\t醫療/護理/衛生\\n職位：\\t醫生\\n最高學歷\\t\\n\n",
    "    最高學歷\\n\\n學校：\\t中醫藥大學\\n學歷：\\t本科\\t專業：\\t\\n醫藥學\\n工作經驗\\t\\n工作經驗\\n\\n公司：\\t\\n\n",
    "    XX醫院\\n2012/7–2017/7\\n職位：\\t醫生\\n行業：\\t醫療/護理/衛生\\n部門：\\t醫藥部\\n工作內容：\\n1.\n",
    "    了解各種儀器設備的使用方法。2.參與手術工作，鍛煉手術操作能力。3.熟悉實際操作中所出現的問題並通過各種\n",
    "    方法避免和克服。4.勤學好問，大膽展示自我，學會了要禮貌待人，要踏實幹事，要提高個人綜合素質。\\n教育經歷\\t\\n\n",
    "    教育經歷\\n\\n學校：\\t\\n中醫藥大學\\n2007/9–2011/6\\n專業：\\t醫藥學\\t本科\\t\\n自我評價\\t\\n自我評價\\n\\n在校期\n",
    "    間，學習了解剖學、生物化學、生理學、病理學、精神學等等課程，在校成績優異，擔任學生幹部的職務，曾多次獲得過\n",
    "    學校獎學金，平時積極主動參加校內活動，曾負責在專業內組織過醫學演講。學習態度端正，能夠主動學習，認真對待每\n",
    "    一次學習的機會，我希望在學習理論知識的同時，能夠增強自己的實踐經驗，我 相信沒有做不到，只有不想做。\\n求職\n",
    "    意向\\t\\n求職意向\\n\\n到崗時間：\\t一個月之內\\n工作性質：\\t全職\\n希望行業：\\t醫療/護理/衛生\\n目標地點：\\t\n",
    "    北京\\n期望月薪：\\t面議/月\\n目標職能：\\t醫生\\n語言能力\\t\\n語言能力\\n\\n英語：\\t\\n良好\\n\\n聽說：\\t\\n良好\n",
    "    \\n\\n讀寫：\\t\\n良好\\n\\n證書\\t\\n證書\\n\\n大學英語四級'''\n",
    "\n",
    "> 推薦結果\n",
    "\n",
    "    0. 超音波師/醫檢師(台北分部) 送子鳥診所\n",
    "    --------------------\n",
    "    1. [北]產後護理-哺育顧問/泌乳指導/泌乳諮詢(薪資優渥) 宣捷幹細胞生技股份有限公司\n",
    "    --------------------\n",
    "    2. 北區臨床專員 服杏企業有限公司\n",
    "    --------------------\n",
    "    3. 景美德威-牙醫助理 德威國際口腔醫療體系_德威生物科技股份有限公司\n",
    "    --------------------\n",
    "    4. 臨床牙體技術師牙醫助理 長島牙醫診所\n"
   ]
  },
  {
   "cell_type": "markdown",
   "metadata": {},
   "source": [
    "## 1. Clean User input CV"
   ]
  },
  {
   "cell_type": "markdown",
   "metadata": {},
   "source": [
    "模擬用戶輸入數據"
   ]
  },
  {
   "cell_type": "code",
   "execution_count": 86,
   "metadata": {},
   "outputs": [],
   "source": [
    "# User input data\n",
    "\n",
    "test_cv = '''最近工作\\n\\n公司：\\tXX醫院\\t行業：\\t醫療/護理/衛生\\n職位：\\t醫生\\n最高學歷\\t\\n\n",
    "最高學歷\\n\\n學校：\\t中醫藥大學\\n學歷：\\t本科\\t專業：\\t\\n醫藥學\\n工作經驗\\t\\n工作經驗\\n\\n公司：\\t\\n\n",
    "XX醫院\\n2012/7–2017/7\\n職位：\\t醫生\\n行業：\\t醫療/護理/衛生\\n部門：\\t醫藥部\\n工作內容：\\n1.\n",
    "了解各種儀器設備的使用方法。2.參與手術工作，鍛煉手術操作能力。3.熟悉實際操作中所出現的問題並通過各種\n",
    "方法避免和克服。4.勤學好問，大膽展示自我，學會了要禮貌待人，要踏實幹事，要提高個人綜合素質。\\n教育經歷\\t\\n\n",
    "教育經歷\\n\\n學校：\\t\\n中醫藥大學\\n2007/9–2011/6\\n專業：\\t醫藥學\\t本科\\t\\n自我評價\\t\\n自我評價\\n\\n在校期\n",
    "間，學習了解剖學、生物化學、生理學、病理學、精神學等等課程，在校成績優異，擔任學生幹部的職務，曾多次獲得過\n",
    "學校獎學金，平時積極主動參加校內活動，曾負責在專業內組織過醫學演講。學習態度端正，能夠主動學習，認真對待每\n",
    "一次學習的機會，我希望在學習理論知識的同時，能夠增強自己的實踐經驗，我 相信沒有做不到，只有不想做。\\n求職\n",
    "意向\\t\\n求職意向\\n\\n到崗時間：\\t一個月之內\\n工作性質：\\t全職\\n希望行業：\\t醫療/護理/衛生\\n目標地點：\\t\n",
    "北京\\n期望月薪：\\t面議/月\\n目標職能：\\t醫生\\n語言能力\\t\\n語言能力\\n\\n英語：\\t\\n良好\\n\\n聽說：\\t\\n良好\n",
    "\\n\\n讀寫：\\t\\n良好\\n\\n證書\\t\\n證書\\n\\n大學英語四級'''\n",
    "\n",
    "test_work_area = '台北市'\n",
    "test_work_exp = 6\n",
    "test_edu = '大學'\n"
   ]
  },
  {
   "cell_type": "markdown",
   "metadata": {},
   "source": [
    "定義清洗函數"
   ]
  },
  {
   "cell_type": "code",
   "execution_count": 87,
   "metadata": {},
   "outputs": [],
   "source": [
    "import jieba\n",
    "import re"
   ]
  },
  {
   "cell_type": "code",
   "execution_count": 88,
   "metadata": {},
   "outputs": [],
   "source": [
    "# data cleaning\n",
    "def string_clean(CV_data): \n",
    "    '''\n",
    "    input: string (original CV description)\n",
    "    output: string (clean CV description)\n",
    "    '''\n",
    "    job_desc = CV_data.split('\\n') # 根據換行符號轉乘 List格式\n",
    "    job_words = ''\n",
    "    \n",
    "    for words in job_desc:\n",
    "        words = words.replace('\\t', ' ').replace('\\r', ' ')\n",
    "        words = re.sub(r'[^\\w\\s]',' ', words)  # remove all punctuations\n",
    "        words = re.sub(r'\\d+', ' ', words)  # remove all numbers\n",
    "        words = words.strip() # remove white space\n",
    "        words += ' '\n",
    "        job_words += words\n",
    "        \n",
    "    return (job_words)"
   ]
  },
  {
   "cell_type": "code",
   "execution_count": 89,
   "metadata": {},
   "outputs": [],
   "source": [
    "jieba.load_userdict('jieba_data/Jobcontent_dict.txt') # 指定辭典檔"
   ]
  },
  {
   "cell_type": "code",
   "execution_count": 90,
   "metadata": {},
   "outputs": [],
   "source": [
    "# 排除字元表單 stopword, 開啟 'Jobcontent_stopwords.txt'檔案\n",
    "\n",
    "with open(file='jieba_data/Jobcontent_stopwords.txt',mode='r', encoding=\"UTF-8\") as file:\n",
    "    stop_words = file.read().split('\\n')\n",
    "    stop_words = [i.strip() for i in stop_words]"
   ]
  },
  {
   "cell_type": "code",
   "execution_count": 91,
   "metadata": {},
   "outputs": [],
   "source": [
    "def isEnglish(s): # 檢查字元是否為英文\n",
    "    try:\n",
    "        s.encode(encoding='utf-8').decode('ascii')\n",
    "    except UnicodeDecodeError:\n",
    "        return False\n",
    "    else:\n",
    "        return True\n",
    "\n",
    "def jieba_cut(data, stop_words):\n",
    "    \n",
    "    # 使用結巴斷詞\n",
    "    seg_result = jieba.cut(data, cut_all=False)\n",
    "\n",
    "    # 篩選斷詞，去掉單一中文字\n",
    "    lst_seg = []\n",
    "    \n",
    "    for i in list(seg_result):\n",
    "        i = i.strip()\n",
    "        if len(i) < 1:  #排除空值\n",
    "            continue\n",
    "        elif i in stop_words: # 排除stopwords\n",
    "            continue\n",
    "        elif isEnglish(i) == False and len(i) == 1: #排除單一中文字\n",
    "            continue\n",
    "        else:\n",
    "            lst_seg.append(i)\n",
    "   \n",
    "    return lst_seg"
   ]
  },
  {
   "cell_type": "code",
   "execution_count": 92,
   "metadata": {},
   "outputs": [],
   "source": [
    "test_cv_clean = string_clean(test_cv)\n",
    "test_cv_clean = jieba_cut(test_cv_clean, stop_words)\n",
    "test_cv_clean = [' '.join(test_cv_clean)]"
   ]
  },
  {
   "cell_type": "code",
   "execution_count": 93,
   "metadata": {},
   "outputs": [
    {
     "data": {
      "text/plain": [
       "['XX 醫院 行業 醫療 護理 衛生 職位 醫生 學歷 學歷 學校 醫藥 大學 學歷 本科 專業 醫藥 XX 醫院 職位 醫生 行業 醫療 護理 衛生 部門 醫藥 儀器 設備 方法 手術 鍛煉 手術 操作能力 操作 通過 方法 避免 克服 勤學 好問 展示 幹事 教育 經歷 教育 經歷 學校 醫藥 大學 專業 醫藥 本科 評價 評價 解剖 生物 化學 病理 課程 成績 擔任 學生 幹部 職務 獲得過 學校 參加校 專業 組織 醫學 演講 對待 理論 知識 增強 到崗 全職 行業 醫療 護理 衛生 期望 醫生 語言 語言 英語 讀寫 證書 證書 大學 英語']"
      ]
     },
     "execution_count": 93,
     "metadata": {},
     "output_type": "execute_result"
    }
   ],
   "source": [
    "test_cv_clean"
   ]
  },
  {
   "cell_type": "markdown",
   "metadata": {},
   "source": [
    "## 2. Transform data, and predict the classification"
   ]
  },
  {
   "cell_type": "code",
   "execution_count": 94,
   "metadata": {},
   "outputs": [],
   "source": [
    "from sklearn.feature_extraction.text import CountVectorizer\n",
    "from sklearn.naive_bayes import MultinomialNB\n",
    "from sklearn import preprocessing\n",
    "from joblib import dump, load\n",
    "import pickle"
   ]
  },
  {
   "cell_type": "code",
   "execution_count": 95,
   "metadata": {
    "scrolled": true
   },
   "outputs": [],
   "source": [
    "# The scikit-learn version is 0.22.1."
   ]
  },
  {
   "cell_type": "code",
   "execution_count": 96,
   "metadata": {},
   "outputs": [],
   "source": [
    "def cv_category_predict(cv_data):\n",
    "\n",
    "    vectorizer = pickle.load(open(\"model/vectorizer.pickel\", \"rb\")) \n",
    "    transform_content = vectorizer.transform(cv_data) # CountVectorizer transform\n",
    "    X_test = transform_content.toarray()\n",
    "    # vectorizer.inverse_transform(X_test)\n",
    "\n",
    "    model = load('model/MultinomialNB.joblib') \n",
    "    y_pred = model.predict(X_test)  # MultinomialNB transform\n",
    "\n",
    "    le = pickle.load(open(\"model/le.pickel\", \"rb\"))\n",
    "    y_pred_category = le.inverse_transform(y_pred)\n",
    "    y_pred_category = y_pred_category[0]\n",
    "    \n",
    "    return y_pred_category"
   ]
  },
  {
   "cell_type": "code",
   "execution_count": 97,
   "metadata": {},
   "outputs": [],
   "source": [
    "test_cv_category = cv_category_predict(test_cv_clean)"
   ]
  },
  {
   "cell_type": "markdown",
   "metadata": {},
   "source": [
    "顯示預測結果"
   ]
  },
  {
   "cell_type": "code",
   "execution_count": 98,
   "metadata": {},
   "outputs": [
    {
     "name": "stdout",
     "output_type": "stream",
     "text": [
      "CV data after jieba:  ['XX 醫院 行業 醫療 護理 衛生 職位 醫生 學歷 學歷 學校 醫藥 大學 學歷 本科 專業 醫藥 XX 醫院 職位 醫生 行業 醫療 護理 衛生 部門 醫藥 儀器 設備 方法 手術 鍛煉 手術 操作能力 操作 通過 方法 避免 克服 勤學 好問 展示 幹事 教育 經歷 教育 經歷 學校 醫藥 大學 專業 醫藥 本科 評價 評價 解剖 生物 化學 病理 課程 成績 擔任 學生 幹部 職務 獲得過 學校 參加校 專業 組織 醫學 演講 對待 理論 知識 增強 到崗 全職 行業 醫療 護理 衛生 期望 醫生 語言 語言 英語 讀寫 證書 證書 大學 英語']\n",
      "====================\n",
      "Predicted category:  醫療╱保健服務類\n"
     ]
    }
   ],
   "source": [
    "print('CV data after jieba: ', test_cv_clean) \n",
    "print('='*20)\n",
    "print('Predicted category: ', test_cv_category)"
   ]
  },
  {
   "cell_type": "markdown",
   "metadata": {},
   "source": [
    "\n",
    "## 3. 連線至職缺，利用條件篩選"
   ]
  },
  {
   "cell_type": "markdown",
   "metadata": {},
   "source": [
    "#### 使用 mongoDB 連線篩選職缺"
   ]
  },
  {
   "cell_type": "code",
   "execution_count": 99,
   "metadata": {},
   "outputs": [],
   "source": [
    "import pymongo\n",
    "import pandas as pd\n",
    "from secrets import HOST"
   ]
  },
  {
   "cell_type": "code",
   "execution_count": 100,
   "metadata": {},
   "outputs": [],
   "source": [
    "def mongo_select_jobs(category, area = None,  workExp = None, edu = None): \n",
    "    \n",
    "    global mycol\n",
    "    client = pymongo.MongoClient(HOST) \n",
    "\n",
    "    db = client['final_104'] \n",
    "    mycol = db['final_data'] \n",
    "\n",
    "    \n",
    "    filter_dict = {'jobCat_main': category} # create filter for mongoDB\n",
    "    \n",
    "    if area != None:  \n",
    "        filter_dict['Work_area_clean'] = area # filter data by area\n",
    "\n",
    "    data = mycol.find(filter_dict,{'_id':0}) # get data from mongoDB\n",
    "    output = [i for i in data]\n",
    "    \n",
    "    # turn output into dataframe\n",
    "    df = pd.DataFrame(output)\n",
    "    \n",
    "     # filter data by work experience\n",
    "    if workExp is not None:\n",
    "        lst_workExp = list(i for i in range(0, workExp+1))\n",
    "        df = df[df['workExp_clean'].astype(int).isin(lst_workExp)]    \n",
    "    \n",
    "    # filter data by education status\n",
    "    if edu is not None:\n",
    "        df = df[df['Edu_clean'].str.contains(\"大學\")]\n",
    "\n",
    "    filter_result = df.values.tolist()\n",
    "\n",
    "    # 將資料儲存成flask可用的dictionary格式\n",
    "\n",
    "    dict_data = {} \n",
    "\n",
    "    for i in filter_result:\n",
    "        jobURL, Job_Name, Company, Job_Description, concate_jieba = i[0], i[1], i[2], i[8], i[9]\n",
    "        dict_data[jobURL] = { \n",
    "        'Job_Name': Job_Name,\n",
    "        'Company': Company,\n",
    "        'Job_Description': Job_Description,\n",
    "        'concate_jieba': concate_jieba }\n",
    "        \n",
    "    return dict_data    "
   ]
  },
  {
   "cell_type": "code",
   "execution_count": 101,
   "metadata": {},
   "outputs": [
    {
     "name": "stdout",
     "output_type": "stream",
     "text": [
      "總共有幾筆資料:  921\n"
     ]
    }
   ],
   "source": [
    "# 利用預測分類結果，與使用者輸入工作條件，從mongoDB撈取職缺\n",
    "jobs_query = mongo_select_jobs(test_cv_category, test_work_area, test_work_exp, test_edu)\n",
    "print('總共有幾筆資料: ' , len(jobs_query))"
   ]
  },
  {
   "cell_type": "markdown",
   "metadata": {},
   "source": [
    "## 4. 將結巴後的職缺轉換成BOW"
   ]
  },
  {
   "cell_type": "code",
   "execution_count": 102,
   "metadata": {},
   "outputs": [],
   "source": [
    " # 將結巴後的斷詞，利用CountVectorizer轉換減少字詞數量\n",
    "def turn_content_BOW(content):\n",
    "    X_content = [ \" \".join(content)]\n",
    "    vectorizer = pickle.load(open(\"model/vectorizer.pickel\", \"rb\")) \n",
    "    transform_content = vectorizer.transform(X_content) \n",
    "    X_content_array = transform_content.toarray()\n",
    "    return X_content_array"
   ]
  },
  {
   "cell_type": "markdown",
   "metadata": {},
   "source": [
    "## 6. 計算相似度，使用 Word2Vec similarity"
   ]
  },
  {
   "cell_type": "code",
   "execution_count": 103,
   "metadata": {},
   "outputs": [],
   "source": [
    "from gensim.models import Word2Vec"
   ]
  },
  {
   "cell_type": "code",
   "execution_count": 104,
   "metadata": {},
   "outputs": [],
   "source": [
    " # 將結巴後的斷詞，利用CountVectorizer轉換，確認字詞在模型內\n",
    "def turn_content_BOW(content):\n",
    "    X_content = [ \" \".join(content)]\n",
    "    vectorizer = pickle.load(open(\"model/vectorizer.pickel\", \"rb\")) \n",
    "    transform_content = vectorizer.transform(X_content) \n",
    "    X_content = vectorizer.inverse_transform(transform_content)[0].tolist()\n",
    "    return X_content"
   ]
  },
  {
   "cell_type": "code",
   "execution_count": 105,
   "metadata": {},
   "outputs": [],
   "source": [
    "# 計算 Word2Vec similarity\n",
    "def compute_similarity(cv_BOW, job_BOW, model_train):\n",
    "    job_prob = model_train.wv.n_similarity(cv_BOW, job_BOW)    \n",
    "    return job_prob"
   ]
  },
  {
   "cell_type": "code",
   "execution_count": 106,
   "metadata": {},
   "outputs": [],
   "source": [
    "# 定義 recommendation function，顯示10筆結果\n",
    "def show_recommendation_result(cv_clean, jobs_query, model_train):\n",
    "    cv_BOW = turn_content_BOW(cv_clean)\n",
    "    \n",
    "    # 將職缺資料轉成 Word2Vec格式\n",
    "    lst_jobs_content = []\n",
    "    lst_jobs_url = []\n",
    "\n",
    "    for k,v in jobs_query.items():\n",
    "        split_data = v['concate_jieba'][0].split(',')\n",
    "        lst_jobs_content.append(split_data)\n",
    "        lst_jobs_url.append(k)\n",
    "\n",
    "    # 計算所有CV與職缺的similarity，排序後儲存10筆相關度最高職缺\n",
    "    dict_prob_id = {}\n",
    "\n",
    "    for i, j in enumerate(lst_jobs_content):\n",
    "        job_url = lst_jobs_url[i]\n",
    "        job_prob = compute_similarity(cv_BOW, j, model_train)\n",
    "        dict_prob_id[job_prob] = job_url\n",
    "        result = [(k, dict_prob_id[k]) for k in sorted(dict_prob_id.keys(), reverse = True)[0:10]]\n",
    "    \n",
    "    # 顯示結果為list\n",
    "    list_ten_result = []\n",
    "\n",
    "    for i in result:\n",
    "        prob, url = i[0], i[1]\n",
    "        job_dict = jobs_query[url]\n",
    "        lst_result = [prob, job_dict['Job_Name'], job_dict['Company'], job_dict['Job_Description'], url]\n",
    "        list_ten_result.append(lst_result)\n",
    "        \n",
    "    return list_ten_result"
   ]
  },
  {
   "cell_type": "markdown",
   "metadata": {},
   "source": [
    "顯示預測結果"
   ]
  },
  {
   "cell_type": "code",
   "execution_count": 107,
   "metadata": {},
   "outputs": [],
   "source": [
    "model_train = Word2Vec.load('model/Word2Vec.model') # 載入訓練好的Word2Vec模型\n",
    "recommendation = show_recommendation_result(test_cv_clean, jobs_query, model_train) #計算推薦結果，顯示前10筆推薦"
   ]
  },
  {
   "cell_type": "code",
   "execution_count": 109,
   "metadata": {},
   "outputs": [
    {
     "name": "stdout",
     "output_type": "stream",
     "text": [
      "0 超音波師/醫檢師(台北分部) 送子鳥診所\n",
      "--------------------\n",
      "1 [北]產後護理-哺育顧問/泌乳指導/泌乳諮詢(薪資優渥) 宣捷幹細胞生技股份有限公司\n",
      "--------------------\n",
      "2 北區臨床專員 服杏企業有限公司\n",
      "--------------------\n",
      "3 景美德威-牙醫助理 德威國際口腔醫療體系_德威生物科技股份有限公司\n",
      "--------------------\n",
      "4 臨床牙體技術師牙醫助理 長島牙醫診所\n",
      "--------------------\n",
      "5 北區專業植牙跟刀 鼎昕實業有限公司\n",
      "--------------------\n",
      "6 芳香療法認證培訓講師 禾場國際有限公司\n",
      "--------------------\n",
      "7 跟診助理 新禾牙醫診所\n",
      "--------------------\n",
      "8 儲備護理主管 (專科護理師)(無夜班/薪資高) 臺北市北投健康管理醫院\n",
      "--------------------\n",
      "9 語言治療師 安兒康小兒專科診所\n",
      "--------------------\n"
     ]
    }
   ],
   "source": [
    "for i, j in enumerate(recommendation):\n",
    "    print(i, j[1], j[2])\n",
    "    print('-'*20)"
   ]
  },
  {
   "cell_type": "code",
   "execution_count": null,
   "metadata": {},
   "outputs": [],
   "source": []
  }
 ],
 "metadata": {
  "kernelspec": {
   "display_name": "Python 3",
   "language": "python",
   "name": "python3"
  },
  "language_info": {
   "codemirror_mode": {
    "name": "ipython",
    "version": 3
   },
   "file_extension": ".py",
   "mimetype": "text/x-python",
   "name": "python",
   "nbconvert_exporter": "python",
   "pygments_lexer": "ipython3",
   "version": "3.7.6"
  }
 },
 "nbformat": 4,
 "nbformat_minor": 4
}
