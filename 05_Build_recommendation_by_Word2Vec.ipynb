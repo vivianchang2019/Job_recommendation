{
 "cells": [
  {
   "cell_type": "markdown",
   "metadata": {},
   "source": [
    "# 建立推薦程式(用CV推薦職缺)，使用訓練好的模型分類，計算相似度\n",
    "\n",
    "程式步驟 (使用 scikit-learn, Word2Vec)\n",
    "\n",
    "> 1. 使用者輸入CV，以及工作條件\n",
    "\n",
    "> 2. 清洗CV，轉換成BOW， 丟入訓練模型，顯示預測分類結果。\n",
    "\n",
    "> 3. 利用預測分類結果，與使用者輸入工作條件，從mongoDB撈取職缺\n",
    "\n",
    "> 4. 將CV轉換成Word2Vec可用BOW\n",
    "\n",
    "> 5. 計算CV與職缺的相似度，推薦相似度最近的10筆工作 (使用Word2Vec模型)\n"
   ]
  },
  {
   "cell_type": "markdown",
   "metadata": {},
   "source": [
    "效果展示\n",
    "\n",
    "> 測試CV內容\n",
    "\n",
    "    '''最近工作\\n\\n公司：\\tXX醫院\\t行業：\\t醫療/護理/衛生\\n職位：\\t醫生\\n最高學歷\\t\\n\n",
    "    最高學歷\\n\\n學校：\\t中醫藥大學\\n學歷：\\t本科\\t專業：\\t\\n醫藥學\\n工作經驗\\t\\n工作經驗\\n\\n公司：\\t\\n\n",
    "    XX醫院\\n2012/7–2017/7\\n職位：\\t醫生\\n行業：\\t醫療/護理/衛生\\n部門：\\t醫藥部\\n工作內容：\\n1.\n",
    "    了解各種儀器設備的使用方法。2.參與手術工作，鍛煉手術操作能力。3.熟悉實際操作中所出現的問題並通過各種\n",
    "    方法避免和克服。4.勤學好問，大膽展示自我，學會了要禮貌待人，要踏實幹事，要提高個人綜合素質。\\n教育經歷\\t\\n\n",
    "    教育經歷\\n\\n學校：\\t\\n中醫藥大學\\n2007/9–2011/6\\n專業：\\t醫藥學\\t本科\\t\\n自我評價\\t\\n自我評價\\n\\n在校期\n",
    "    間，學習了解剖學、生物化學、生理學、病理學、精神學等等課程，在校成績優異，擔任學生幹部的職務，曾多次獲得過\n",
    "    學校獎學金，平時積極主動參加校內活動，曾負責在專業內組織過醫學演講。學習態度端正，能夠主動學習，認真對待每\n",
    "    一次學習的機會，我希望在學習理論知識的同時，能夠增強自己的實踐經驗，我 相信沒有做不到，只有不想做。\\n求職\n",
    "    意向\\t\\n求職意向\\n\\n到崗時間：\\t一個月之內\\n工作性質：\\t全職\\n希望行業：\\t醫療/護理/衛生\\n目標地點：\\t\n",
    "    北京\\n期望月薪：\\t面議/月\\n目標職能：\\t醫生\\n語言能力\\t\\n語言能力\\n\\n英語：\\t\\n良好\\n\\n聽說：\\t\\n良好\n",
    "    \\n\\n讀寫：\\t\\n良好\\n\\n證書\\t\\n證書\\n\\n大學英語四級'''\n",
    "\n",
    "> 推薦結果\n",
    "\n",
    "    0. 超音波師/醫檢師(台北分部) 送子鳥診所\n",
    "    --------------------\n",
    "    1. [北]產後護理-哺育顧問/泌乳指導/泌乳諮詢(薪資優渥) 宣捷幹細胞生技股份有限公司\n",
    "    --------------------\n",
    "    2. 北區臨床專員 服杏企業有限公司\n",
    "    --------------------\n",
    "    3. 景美德威-牙醫助理 德威國際口腔醫療體系_德威生物科技股份有限公司\n",
    "    --------------------\n",
    "    4. 臨床牙體技術師牙醫助理 長島牙醫診所\n"
   ]
  },
  {
   "cell_type": "markdown",
   "metadata": {},
   "source": [
    "## 1. Clean User input CV"
   ]
  },
  {
   "cell_type": "markdown",
   "metadata": {},
   "source": [
    "模擬用戶輸入數據"
   ]
  },
  {
   "cell_type": "code",
   "execution_count": 1,
   "metadata": {},
   "outputs": [],
   "source": [
    "# User input data\n",
    "\n",
    "test_cv = '''最近工作\\n\\n公司：\\tXX醫院\\t行業：\\t醫療/護理/衛生\\n職位：\\t醫生\\n最高學歷\\t\\n\n",
    "最高學歷\\n\\n學校：\\t中醫藥大學\\n學歷：\\t本科\\t專業：\\t\\n醫藥學\\n工作經驗\\t\\n工作經驗\\n\\n公司：\\t\\n\n",
    "XX醫院\\n2012/7–2017/7\\n職位：\\t醫生\\n行業：\\t醫療/護理/衛生\\n部門：\\t醫藥部\\n工作內容：\\n1.\n",
    "了解各種儀器設備的使用方法。2.參與手術工作，鍛煉手術操作能力。3.熟悉實際操作中所出現的問題並通過各種\n",
    "方法避免和克服。4.勤學好問，大膽展示自我，學會了要禮貌待人，要踏實幹事，要提高個人綜合素質。\\n教育經歷\\t\\n\n",
    "教育經歷\\n\\n學校：\\t\\n中醫藥大學\\n2007/9–2011/6\\n專業：\\t醫藥學\\t本科\\t\\n自我評價\\t\\n自我評價\\n\\n在校期\n",
    "間，學習了解剖學、生物化學、生理學、病理學、精神學等等課程，在校成績優異，擔任學生幹部的職務，曾多次獲得過\n",
    "學校獎學金，平時積極主動參加校內活動，曾負責在專業內組織過醫學演講。學習態度端正，能夠主動學習，認真對待每\n",
    "一次學習的機會，我希望在學習理論知識的同時，能夠增強自己的實踐經驗，我 相信沒有做不到，只有不想做。\\n求職\n",
    "意向\\t\\n求職意向\\n\\n到崗時間：\\t一個月之內\\n工作性質：\\t全職\\n希望行業：\\t醫療/護理/衛生\\n目標地點：\\t\n",
    "北京\\n期望月薪：\\t面議/月\\n目標職能：\\t醫生\\n語言能力\\t\\n語言能力\\n\\n英語：\\t\\n良好\\n\\n聽說：\\t\\n良好\n",
    "\\n\\n讀寫：\\t\\n良好\\n\\n證書\\t\\n證書\\n\\n大學英語四級'''\n",
    "\n",
    "test_work_area = '台北市'\n",
    "test_work_exp = 6\n",
    "test_edu = '大學'\n"
   ]
  },
  {
   "cell_type": "markdown",
   "metadata": {},
   "source": [
    "定義清洗函數"
   ]
  },
  {
   "cell_type": "code",
   "execution_count": 2,
   "metadata": {},
   "outputs": [],
   "source": [
    "import jieba\n",
    "import re"
   ]
  },
  {
   "cell_type": "code",
   "execution_count": 3,
   "metadata": {},
   "outputs": [],
   "source": [
    "# data cleaning\n",
    "def string_clean(CV_data): \n",
    "    '''\n",
    "    input: string (original CV description)\n",
    "    output: string (clean CV description)\n",
    "    '''\n",
    "    job_desc = CV_data.split('\\n') # 根據換行符號轉乘 List格式\n",
    "    job_words = ''\n",
    "    \n",
    "    for words in job_desc:\n",
    "        words = words.replace('\\t', ' ').replace('\\r', ' ')\n",
    "        words = re.sub(r'[^\\w\\s]',' ', words)  # remove all punctuations\n",
    "        words = re.sub(r'\\d+', ' ', words)  # remove all numbers\n",
    "        words = words.strip() # remove white space\n",
    "        words += ' '\n",
    "        job_words += words\n",
    "        \n",
    "    return (job_words)"
   ]
  },
  {
   "cell_type": "code",
   "execution_count": 4,
   "metadata": {},
   "outputs": [
    {
     "name": "stderr",
     "output_type": "stream",
     "text": [
      "Building prefix dict from the default dictionary ...\n",
      "Loading model from cache C:\\Users\\BIGDAT~1\\AppData\\Local\\Temp\\jieba.cache\n",
      "Loading model cost 0.734 seconds.\n",
      "Prefix dict has been built successfully.\n"
     ]
    }
   ],
   "source": [
    "jieba.load_userdict('jieba_data/Jobcontent_dict.txt') # 指定辭典檔"
   ]
  },
  {
   "cell_type": "code",
   "execution_count": 5,
   "metadata": {},
   "outputs": [],
   "source": [
    "# 排除字元表單 stopword, 開啟 'Jobcontent_stopwords.txt'檔案\n",
    "\n",
    "with open(file='jieba_data/Jobcontent_stopwords.txt',mode='r', encoding=\"UTF-8\") as file:\n",
    "    stop_words = file.read().split('\\n')\n",
    "    stop_words = [i.strip() for i in stop_words]"
   ]
  },
  {
   "cell_type": "code",
   "execution_count": 6,
   "metadata": {},
   "outputs": [],
   "source": [
    "def isEnglish(s): # 檢查字元是否為英文\n",
    "    try:\n",
    "        s.encode(encoding='utf-8').decode('ascii')\n",
    "    except UnicodeDecodeError:\n",
    "        return False\n",
    "    else:\n",
    "        return True\n",
    "\n",
    "def jieba_cut(data, stop_words):\n",
    "    \n",
    "    # 使用結巴斷詞\n",
    "    seg_result = jieba.cut(data, cut_all=False)\n",
    "\n",
    "    # 篩選斷詞，去掉單一中文字\n",
    "    lst_seg = []\n",
    "    \n",
    "    for i in list(seg_result):\n",
    "        i = i.strip()\n",
    "        if len(i) < 1:  #排除空值\n",
    "            continue\n",
    "        elif i in stop_words: # 排除stopwords\n",
    "            continue\n",
    "        elif isEnglish(i) == False and len(i) == 1: #排除單一中文字\n",
    "            continue\n",
    "        else:\n",
    "            lst_seg.append(i)\n",
    "   \n",
    "    return lst_seg"
   ]
  },
  {
   "cell_type": "code",
   "execution_count": 7,
   "metadata": {},
   "outputs": [],
   "source": [
    "test_cv_clean = string_clean(test_cv)\n",
    "test_cv_clean = jieba_cut(test_cv_clean, stop_words)\n",
    "test_cv_clean = [' '.join(test_cv_clean)]"
   ]
  },
  {
   "cell_type": "code",
   "execution_count": 8,
   "metadata": {},
   "outputs": [
    {
     "data": {
      "text/plain": [
       "['XX 醫院 行業 醫療 護理 衛生 職位 醫生 學歷 學歷 學校 醫藥 大學 學歷 本科 專業 醫藥 XX 醫院 職位 醫生 行業 醫療 護理 衛生 部門 醫藥 儀器 設備 方法 手術 鍛煉 手術 操作能力 操作 通過 方法 避免 克服 勤學 好問 展示 幹事 教育 經歷 教育 經歷 學校 醫藥 大學 專業 醫藥 本科 評價 評價 解剖 生物 化學 病理 課程 成績 擔任 學生 幹部 職務 獲得過 學校 參加校 專業 組織 醫學 演講 對待 理論 知識 增強 到崗 全職 行業 醫療 護理 衛生 期望 醫生 語言 語言 英語 讀寫 證書 證書 大學 英語']"
      ]
     },
     "execution_count": 8,
     "metadata": {},
     "output_type": "execute_result"
    }
   ],
   "source": [
    "test_cv_clean"
   ]
  },
  {
   "cell_type": "markdown",
   "metadata": {},
   "source": [
    "## 2. Transform data, and predict the classification"
   ]
  },
  {
   "cell_type": "code",
   "execution_count": 9,
   "metadata": {},
   "outputs": [],
   "source": [
    "from sklearn.feature_extraction.text import CountVectorizer\n",
    "from sklearn.naive_bayes import MultinomialNB\n",
    "from sklearn import preprocessing\n",
    "from joblib import dump, load\n",
    "import pickle"
   ]
  },
  {
   "cell_type": "code",
   "execution_count": 10,
   "metadata": {
    "scrolled": true
   },
   "outputs": [],
   "source": [
    "# The scikit-learn version is 0.22.1."
   ]
  },
  {
   "cell_type": "code",
   "execution_count": 11,
   "metadata": {},
   "outputs": [],
   "source": [
    "def cv_category_predict(cv_data):\n",
    "\n",
    "    vectorizer = pickle.load(open(\"model/vectorizer.pickel\", \"rb\")) \n",
    "    transform_content = vectorizer.transform(cv_data) # CountVectorizer transform\n",
    "    X_test = transform_content.toarray()\n",
    "    # vectorizer.inverse_transform(X_test)\n",
    "\n",
    "    model = load('model/MultinomialNB.joblib') \n",
    "    y_pred = model.predict(X_test)  # MultinomialNB transform\n",
    "\n",
    "    le = pickle.load(open(\"model/le.pickel\", \"rb\"))\n",
    "    y_pred_category = le.inverse_transform(y_pred)\n",
    "    y_pred_category = y_pred_category[0]\n",
    "    \n",
    "    return y_pred_category"
   ]
  },
  {
   "cell_type": "code",
   "execution_count": 12,
   "metadata": {},
   "outputs": [],
   "source": [
    "test_cv_category = cv_category_predict(test_cv_clean)"
   ]
  },
  {
   "cell_type": "markdown",
   "metadata": {},
   "source": [
    "顯示預測結果"
   ]
  },
  {
   "cell_type": "code",
   "execution_count": 13,
   "metadata": {},
   "outputs": [
    {
     "name": "stdout",
     "output_type": "stream",
     "text": [
      "CV data after jieba:  ['XX 醫院 行業 醫療 護理 衛生 職位 醫生 學歷 學歷 學校 醫藥 大學 學歷 本科 專業 醫藥 XX 醫院 職位 醫生 行業 醫療 護理 衛生 部門 醫藥 儀器 設備 方法 手術 鍛煉 手術 操作能力 操作 通過 方法 避免 克服 勤學 好問 展示 幹事 教育 經歷 教育 經歷 學校 醫藥 大學 專業 醫藥 本科 評價 評價 解剖 生物 化學 病理 課程 成績 擔任 學生 幹部 職務 獲得過 學校 參加校 專業 組織 醫學 演講 對待 理論 知識 增強 到崗 全職 行業 醫療 護理 衛生 期望 醫生 語言 語言 英語 讀寫 證書 證書 大學 英語']\n",
      "====================\n",
      "Predicted category:  醫療╱保健服務類\n"
     ]
    }
   ],
   "source": [
    "print('CV data after jieba: ', test_cv_clean) \n",
    "print('='*20)\n",
    "print('Predicted category: ', test_cv_category)"
   ]
  },
  {
   "cell_type": "markdown",
   "metadata": {},
   "source": [
    "\n",
    "## 3. 連線至職缺，利用條件篩選"
   ]
  },
  {
   "cell_type": "markdown",
   "metadata": {},
   "source": [
    "#### 使用 mongoDB 連線篩選職缺"
   ]
  },
  {
   "cell_type": "code",
   "execution_count": 14,
   "metadata": {},
   "outputs": [],
   "source": [
    "import pymongo\n",
    "import pandas as pd\n",
    "from secrets import HOST"
   ]
  },
  {
   "cell_type": "code",
   "execution_count": 15,
   "metadata": {},
   "outputs": [],
   "source": [
    "def mongo_select_jobs(category, area = None,  workExp = None, edu = None): \n",
    "    \n",
    "    global mycol\n",
    "    client = pymongo.MongoClient(HOST) \n",
    "\n",
    "    db = client['final_104'] \n",
    "    mycol = db['final_data'] \n",
    "\n",
    "    \n",
    "    filter_dict = {'jobCat_main': category} # create filter for mongoDB\n",
    "    \n",
    "    if area != None:  \n",
    "        filter_dict['Work_area_clean'] = area # filter data by area\n",
    "\n",
    "    data = mycol.find(filter_dict,{'_id':0}) # get data from mongoDB\n",
    "    output = [i for i in data]\n",
    "    \n",
    "    # turn output into dataframe\n",
    "    df = pd.DataFrame(output)\n",
    "    \n",
    "     # filter data by work experience\n",
    "    if workExp is not None:\n",
    "        lst_workExp = list(i for i in range(0, workExp+1))\n",
    "        df = df[df['workExp_clean'].astype(int).isin(lst_workExp)]    \n",
    "    \n",
    "    # filter data by education status\n",
    "    if edu is not None:\n",
    "        df = df[df['Edu_clean'].str.contains(\"大學\")]\n",
    "\n",
    "    filter_result = df.values.tolist()\n",
    "\n",
    "    # 將資料儲存成flask可用的dictionary格式\n",
    "\n",
    "    dict_data = {} \n",
    "\n",
    "    for i in filter_result:\n",
    "        jobURL, Job_Name, Company, Job_Description, concate_jieba = i[0], i[1], i[2], i[8], i[9]\n",
    "        dict_data[jobURL] = { \n",
    "        'Job_Name': Job_Name,\n",
    "        'Company': Company,\n",
    "        'Job_Description': Job_Description,\n",
    "        'concate_jieba': concate_jieba }\n",
    "        \n",
    "    return dict_data    "
   ]
  },
  {
   "cell_type": "code",
   "execution_count": 16,
   "metadata": {},
   "outputs": [
    {
     "name": "stdout",
     "output_type": "stream",
     "text": [
      "總共有幾筆資料:  921\n"
     ]
    }
   ],
   "source": [
    "# 利用預測分類結果，與使用者輸入工作條件，從mongoDB撈取職缺\n",
    "jobs_query = mongo_select_jobs(test_cv_category, test_work_area, test_work_exp, test_edu)\n",
    "print('總共有幾筆資料: ' , len(jobs_query))"
   ]
  },
  {
   "cell_type": "markdown",
   "metadata": {},
   "source": [
    "## 4. 將結巴後的職缺轉換成BOW"
   ]
  },
  {
   "cell_type": "code",
   "execution_count": 17,
   "metadata": {},
   "outputs": [],
   "source": [
    " # 將結巴後的斷詞，利用CountVectorizer轉換減少字詞數量\n",
    "def turn_content_BOW(content):\n",
    "    X_content = [ \" \".join(content)]\n",
    "    vectorizer = pickle.load(open(\"model/vectorizer.pickel\", \"rb\")) \n",
    "    transform_content = vectorizer.transform(X_content) \n",
    "    X_content_array = transform_content.toarray()\n",
    "    return X_content_array"
   ]
  },
  {
   "cell_type": "markdown",
   "metadata": {},
   "source": [
    "## 6. 計算相似度，使用 Word2Vec similarity"
   ]
  },
  {
   "cell_type": "code",
   "execution_count": 18,
   "metadata": {},
   "outputs": [],
   "source": [
    "from gensim.models import Word2Vec"
   ]
  },
  {
   "cell_type": "code",
   "execution_count": 19,
   "metadata": {},
   "outputs": [],
   "source": [
    " # 將結巴後的斷詞，利用CountVectorizer轉換，確認字詞在模型內\n",
    "def turn_content_BOW(content):\n",
    "    X_content = [ \" \".join(content)]\n",
    "    vectorizer = pickle.load(open(\"model/vectorizer.pickel\", \"rb\")) \n",
    "    transform_content = vectorizer.transform(X_content) \n",
    "    X_content = vectorizer.inverse_transform(transform_content)[0].tolist()\n",
    "    return X_content"
   ]
  },
  {
   "cell_type": "code",
   "execution_count": 20,
   "metadata": {},
   "outputs": [],
   "source": [
    "# 計算 Word2Vec similarity\n",
    "def compute_similarity(cv_BOW, job_BOW, model_train):\n",
    "    job_prob = model_train.wv.n_similarity(cv_BOW, job_BOW)    \n",
    "    return job_prob"
   ]
  },
  {
   "cell_type": "code",
   "execution_count": 21,
   "metadata": {},
   "outputs": [],
   "source": [
    "# 定義 recommendation function，顯示10筆結果\n",
    "def show_recommendation_result(cv_clean, jobs_query, model_train):\n",
    "    cv_BOW = turn_content_BOW(cv_clean)\n",
    "    \n",
    "    # 確認BOW內的字詞包含在模型內\n",
    "    cv_BOW_for_Word2Vec = []\n",
    "    for i in cv_BOW:\n",
    "        if i in list(model_train.wv.vocab.keys()):\n",
    "            cv_BOW_for_Word2Vec.append(i)\n",
    "    \n",
    "    cv_BOW = cv_BOW_for_Word2Vec\n",
    "    \n",
    "    # 將職缺資料轉成 Word2Vec格式\n",
    "    lst_jobs_content = []\n",
    "    lst_jobs_url = []\n",
    "\n",
    "    for k,v in jobs_query.items():\n",
    "        split_data = v['concate_jieba'][0].split(',')\n",
    "        lst_jobs_content.append(split_data)\n",
    "        lst_jobs_url.append(k)\n",
    "\n",
    "    # 計算所有CV與職缺的similarity，排序後儲存10筆相關度最高職缺\n",
    "    dict_prob_id = {}\n",
    "\n",
    "    for i, j in enumerate(lst_jobs_content):\n",
    "        job_url = lst_jobs_url[i]\n",
    "        job_prob = compute_similarity(cv_BOW, j, model_train)\n",
    "        dict_prob_id[job_prob] = job_url\n",
    "        result = [(k, dict_prob_id[k]) for k in sorted(dict_prob_id.keys(), reverse = True)[0:10]]\n",
    "    \n",
    "    # 顯示結果為list\n",
    "    list_ten_result = []\n",
    "\n",
    "    for i in result:\n",
    "        prob, url = i[0], i[1]\n",
    "        job_dict = jobs_query[url]\n",
    "        lst_result = [prob, job_dict['Job_Name'], job_dict['Company'], job_dict['Job_Description'], url]\n",
    "        list_ten_result.append(lst_result)\n",
    "        \n",
    "    return list_ten_result"
   ]
  },
  {
   "cell_type": "markdown",
   "metadata": {},
   "source": [
    "顯示預測結果"
   ]
  },
  {
   "cell_type": "code",
   "execution_count": 23,
   "metadata": {},
   "outputs": [],
   "source": [
    "model_train = Word2Vec.load('model/Word2Vec.model') # 載入訓練好的Word2Vec模型\n",
    "recommendation = show_recommendation_result(test_cv_clean, jobs_query, model_train) #計算推薦結果，顯示前10筆推薦"
   ]
  },
  {
   "cell_type": "code",
   "execution_count": 24,
   "metadata": {},
   "outputs": [
    {
     "name": "stdout",
     "output_type": "stream",
     "text": [
      "0 超音波師/醫檢師(台北分部) 送子鳥診所\n",
      "1. 人工生殖及試管嬰兒技術、藥物使用、婦科相關、檢查說明等生殖醫學諮詢 2. 超音波影像操作相關訓練及影像報告處理  3. 門診抽血4. 開刀房業務支援與訓練5. 公司活動 、專案策劃執行 ，培育第二專長與發展個人舞台6. 教育訓練、升遷制度完善，多項專業技能發展，培養多方位人才7. 免上大夜班、排班制度完善，週日固定休假、每月一次三天連休8. 工作環境一流、生活品質好、待遇好福利佳、享季獎金及績效獎金 9. 適合各醫學院醫技系，須有醫檢師執照 10.錄取後需於新竹總部受訓3~6個月，提供宿舍或租屋補助金\n",
      " \n",
      "1.醫事檢驗師，或具醫用超音波婦產科技術師認證資格尤佳2.具備電腦操作能力、態度積極主動\n",
      "--------------------\n",
      "1 [北]產後護理-哺育顧問/泌乳指導/泌乳諮詢(薪資優渥) 宣捷幹細胞生技股份有限公司\n",
      "【本職位負責宣捷集團關係企業之相關工作】1. 協助母乳哺育，針對哺乳相關問題提供熟練及專業的處理。 2. 提供專業的哺育資訊和協助。 3. 薪資結構:每月底薪NT$25,000~35,000(依學經歷及證照調整)+優渥獎金。 \n",
      " \n",
      "1. 具產兒或泌乳相關知識、技巧及服務經驗尤佳。2. 完成泌乳專業培訓課程者尤佳。3. 抗壓性高，具備溝通協調及團隊合作能力。4. 工作地點為新北市、台北市。\n",
      "--------------------\n",
      "2 北區臨床專員 服杏企業有限公司\n",
      "1. 協助新產品研究報告。2. 臨床案例記錄。3.客戶端之教育訓練與Demo 。需具備職能：英文聽說讀寫能力、物理治療師職能、文書處理能力、溝通協調能力。個性特質：細心獨立、認真負責、具有耐心及毅力、有團隊意識、樂於學習成長、互助合作與分享。\n",
      " \n",
      "醫工畢業佳 物理治療師,護士佳\n",
      "--------------------\n",
      "3 景美德威-牙醫助理 德威國際口腔醫療體系_德威生物科技股份有限公司\n",
      "1.擔心大學畢業沒有一技之長嗎?本院提供完整在職教育訓練，無經驗者可，在院可學得一技之長，提升自己職場能力。2.周日固定休診，遇國定假日休診3.協助醫師看診與跟診4.協助患者做好口腔衛生及保健5.清潔、消毒器械6.勤奮具上進心，有意願接受院所長期培訓成為優秀專業人員佳8.本院為全省最完整口腔醫療體系，擁有牙科各相關產業，有興趣者可朝多元發展**試用期過後依考核調整薪資**\n",
      " \n",
      "1.具服務業經驗者佳2.笑容親切，樂於服務人群3.願意接受培訓臨床管理職者歡迎您的加入4.具護理師執照/口腔衛生學系/護理科相關背景者提供薪資加給\n",
      "--------------------\n",
      "4 臨床牙體技術師牙醫助理 長島牙醫診所\n",
      "履歷自傳務必請附上相片合則通知面談勿直接電聯窗口~~~高薪聘請~~~具備牙體技術師資格之社會新鮮人男女不拘履歷自傳請附照片寄送電子郵件至islandmlsf@gmail.com李特助收【獎金制度】1. 全勤獎金2. 正職加津3. 三節獎金/禮4. 勤務加給5. 主管職務加給6. 不定期分紅7. 年終獎金優渥發展遠景：如今,厚植實力的長島持續擴展當中需要能團隊合作、有服務熱忱的新夥伴加入一起打拼幫助更多需要被幫助的患者期待您熱情參與長島的未來。成就樂趣：助人為快樂之本,協助更多需要幫助的患者。位於民生社區便利 舒適環境我們重視每一位團隊成員並提供良好的工作環境及學習成長空間有經驗佳，無經驗者也沒關係只要有心好學且能與團隊合作都有機會成為長島的新夥伴提供完善支薪培訓及伙食津貼上班時間可面談 薪資則視能力而定。\n",
      " \n",
      "每週工時40小時,排休制.上班地點:民生東路\n",
      "--------------------\n",
      "5 北區專業植牙跟刀 鼎昕實業有限公司\n",
      "1.醫院組專業醫療產品推廣拜訪2.植牙排刀、跟刀備貨等相關事宜3.具護理背景或醫院&診所實際植牙跟刀經驗尤佳4.獨立能力抗壓性強,能自主管理者佳5.具統整思考能力,接受專業訓練6.完成主管交辦事宜\n",
      " \n",
      "\n",
      "--------------------\n",
      "6 芳香療法認證培訓講師 禾場國際有限公司\n",
      "想成為一位專業的芳療講師？你可以不用單打獨鬥！ 16年來，禾場是台灣第一個用講師團隊的形式實現芳療理想的芳療教育機構。我們重視團隊成員個別特質的發展，也很重視團隊彼此協同發揮戰力，就像精油裡面的化學分子，各自有各自的特質，但組合起來卻是異常強大的力量。 2019年，禾場再度徵召適合禾場教育團隊體系的專職芳療講師，如果你喜歡與人合作，喜歡成為團隊的一份子，相信互相幫助，互相激勵的效果大於單打獨鬥，那你很可能是我們渴望的夥伴！ 從沒有經驗開始，禾場開始一路陪伴妳成為芳療講師，讓妳在禾場優質的環境下成長茁壯，成為講師之後，還會提供進修的機會，甚至成為一位成熟的芳療學校校長。 歡迎熱愛芳療、勇於挑戰的熱血芳療人加入我們，與夢想團隊就只是一張履歷表的距離。 適合對象：至少完成中階課程（約36小時課程）並想要成為芳療講師的學員認同禾場國際芳療學苑的理念、願景與目標對芳香療法有旁人不能理解的熱情喜歡與學生、陌生人互動並幫助他人成長勇於接受挑戰，並能對新事物抱持高度學習熱忱喜歡團隊合作，對於溝通有耐性具有醫療護理、文字編輯、行銷企劃相關背景者加分 專職講師培訓方式說明：面試錄取後開始培訓培訓期間（約4~6個月）於禾場教學部門任職。培訓期完成通過考核後，於學苑從事專職講師工作。專職講師薪資4萬起（含底薪、獎金、津貼）培訓期費用全免。（認證、高階教育訓練、講師訓練）培訓期薪資3-4萬（按職能專業） 面談討論的重點* 試教10分鐘，任何領域題目皆可，不限芳療，請自備PPT（如需要）* 介紹您對禾場國際芳療學苑及AromaHarvest品牌的印象以及您最喜歡的部分* 您喜歡團隊合作嗎？過去工作經歷是否有團隊合作經驗，對於團隊合作您最挫折的經驗是？是否有溝通不良的經驗？* 在您加入團隊之後，您個人認為您將會扮演的角色是？您的個人特質能夠幫助（提升）團隊哪方面的特質或優點，或補足團隊哪方面的缺點，或者，您能提供哪方面的價值與觀點？* 在一個講師團隊中，除了教學以外，另外需肩負的知識管理相關工作需要分工，類似像產品探索研發、相關課程研發聯繫執行、（國際）芳療資訊彙整編輯、芳療內容企劃出版、講師管理、芳療發展策略企劃等等，您認為除了教學以外，您能夠在哪些方面為團隊及芳療做出貢獻？* 您認為自己成為芳療老師的優勢及特質是什麼？*  您是否有自己關於想藉由芳香療法實現的個人計畫？您希望禾場能幫助您的部分？未來工作內容：* 接受公司培訓成為國際芳療師及芳療講師* 教授國際芳療認證課程* 芳療專業領域研究* 準備教材* 研發課程* 協調講師團隊運作* 配合公司其他部門進行協調、規劃、執行相關工作\n",
      " \n",
      "歡迎具備醫療背景之專業人士轉職其他相關背景如心理師、諮商類專業人員亦有加分。\n",
      "--------------------\n",
      "7 跟診助理 新禾牙醫診所\n",
      "歡迎有具有護理專業背景加入，有護理師執照更優，起薪40,000以上.隔週六休，月休8天，無需輪大、小夜班，國定及例假日正常休假。★ 有牙醫經驗一年以上(會獨立跟刀及臨時牙套製作)，起薪35,000以上★ 福利 : 1.三節獎金(禮品)，        2.年終獎金        3.不定期考核績效獎金        4.供餐我們有優渥的薪獎制度(基本底薪+高額績效獎金)，表現優異者，還有機會提拔晉升為儲備幹部喔！能力表現優良者，薪資彈性調整快，半年以上牙醫助理經驗,月薪可達32,000~40,000元。★ 職務需求: 跟診助理:1.主要任務為協助醫師執行牙齒口腔診斷治療、手術，以及設備、材料的前置準備，並於診療後提供病人口腔衛生教育。透過跟診，您可獲得牙醫診療器材的操作專業，實際了解各種牙齒口腔治療過程。2.上班時間：週一至週五9:00~18:00 ； 11:30~20:30兩班制 ,週六 09:00~17:00、可長期培訓者，無經驗亦可，要求能穩定配合長期投入者抗壓性高、具溝通能力、要有服務熱忱,無誠者勿試\n",
      " \n",
      "1.週一至週六2.牙齒整齊3.樂觀、活潑、進取\n",
      "--------------------\n",
      "8 儲備護理主管 (專科護理師)(無夜班/薪資高) 臺北市北投健康管理醫院\n",
      "本院為全面自費醫院，有別於一般醫院的環境及臨床工作，我們擁有完善激勵制度及福利措施，且工作環境優質舒適，工作時段分為午、晚班，不需輪值大小夜班，讓您兼顧家庭及生活品質。1.客戶健檢帶檢、跟診活動(客戶報到、詢問病史、檢查前後衛教)。2.操作檢查儀器。3.提供各項護理指導與諮詢。4.客戶餐點之準備。5.工作環境及設備之維護。6.協助申購、請領相關材料、耗材。7.客戶健康管理\n",
      " \n",
      "1.具內、外科專科護理師相關經驗者。2.具教學醫院專科護理師訓練通過或取得專科護理師認證者優先錄用。\n",
      "--------------------\n",
      "9 語言治療師 安兒康小兒專科診所\n",
      "本診所於2020年1月開幕，目前為全台首創兒科結合復健團隊，包含小兒專科、新生兒科、小兒腸胃科、家庭醫學等兒童專科，與職能治療、物理治療與語言治療，為多專業團隊合作，採治療師一對一方式進行治療，不同專科醫師與治療團隊間互相學習討論，有良好溝通合作機會。目前增聘正職語言治療師，歡迎有志開發自費小兒語言治療領域治療師一同加入。# 徵募條件：1. 具證照；有2年臨床治療經驗或研究所學歷尤佳2.  對小兒語言治療領域有熱忱# 薪資福利1. 月底薪依經歷面議。另有考核獎金與工作績效獎金2. 部門康樂補助3. 三節禮金（年終獎金） 4. 公會常年會費全額補助5. 院外教育訓練補助(4000~6000/年度)6. 院內教育訓練課程（邀請院內醫師，資深治療師，或外聘客座講師） 7. 教育訓練進修假(2-6天/年度)8. 勞、健保及勞退，團保 9. 員工春酒與抽獎 10.員工制服\n",
      " \n",
      "\n",
      "--------------------\n"
     ]
    }
   ],
   "source": [
    "for i, j in enumerate(recommendation):\n",
    "    print(i, j[1], j[2])\n",
    "    print(j[3])\n",
    "    print('-'*20)"
   ]
  },
  {
   "cell_type": "code",
   "execution_count": null,
   "metadata": {},
   "outputs": [],
   "source": []
  }
 ],
 "metadata": {
  "kernelspec": {
   "display_name": "Python 3",
   "language": "python",
   "name": "python3"
  },
  "language_info": {
   "codemirror_mode": {
    "name": "ipython",
    "version": 3
   },
   "file_extension": ".py",
   "mimetype": "text/x-python",
   "name": "python",
   "nbconvert_exporter": "python",
   "pygments_lexer": "ipython3",
   "version": "3.7.6"
  }
 },
 "nbformat": 4,
 "nbformat_minor": 4
}
