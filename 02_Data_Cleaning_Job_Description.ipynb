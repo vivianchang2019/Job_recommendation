{
 "cells": [
  {
   "cell_type": "markdown",
   "metadata": {},
   "source": [
    "# 清洗104人力銀行職缺的\"職缺內容\"資料，使其適合模型訓練使用\n",
    "\n",
    "包含下列步驟 \n",
    "> 字串清洗\n",
    "\n",
    "> 資串整合\n",
    "\n",
    "> Jieba結巴斷詞"
   ]
  },
  {
   "cell_type": "markdown",
   "metadata": {},
   "source": [
    "#### 效果展示\n",
    "\n",
    "清洗前: \n",
    "\n",
    "    1.負責介紹及銷售商品。\n",
    "    2.提供顧客之接待與需求服務（如：電話諮詢、調貨、修改、包裝及退換貨處理）。\n",
    "    3.負責商品進貨入庫、銷售管理及庫存管理。\n",
    "    4.負責商品包裝、陳列及促銷品換檔工作。\n",
    "    5.維持店櫃週遭整潔。\n",
    "    6.提升業績。\n",
    "    需符合以下條件，無經驗勿投履歷~\n",
    "    1.具備少淑女服飾一年以上銷售經驗\n",
    "    2.充滿活力並有服務熱忱\n",
    "\n",
    "清洗後: \n",
    "\n",
    "    介紹/銷售/商品/顧客/接待/服務/電話/諮詢/調貨/包裝/退換貨/商品/進貨/入庫/銷售/管理/庫存/管理/商品/包裝/陳列/促銷品/換檔/維持/店櫃/週遭/整潔/提升/業績/淑女/服飾/銷售/服務/門市/店員/專櫃"
   ]
  },
  {
   "cell_type": "markdown",
   "metadata": {},
   "source": [
    "## 1. read data from MongoDB"
   ]
  },
  {
   "cell_type": "code",
   "execution_count": 1,
   "metadata": {},
   "outputs": [],
   "source": [
    "import pymongo\n",
    "from secrets import HOST"
   ]
  },
  {
   "cell_type": "code",
   "execution_count": 2,
   "metadata": {},
   "outputs": [],
   "source": [
    "def mongo_connect_build(db_name, col_name):\n",
    "    \n",
    "    global mycol\n",
    "    client = pymongo.MongoClient(HOST) # 跟mongodb建立連\n",
    "\n",
    "    db = client[db_name] \n",
    "    mycol = db[col_name] \n",
    "    \n",
    "def data_find():\n",
    "    # 尋找多筆資料，排除 id\n",
    "    return mycol.find({}, {\"_id\":0})"
   ]
  },
  {
   "cell_type": "code",
   "execution_count": 3,
   "metadata": {},
   "outputs": [],
   "source": [
    "# connect to mongoDB to get data\n",
    "mongo_connect_build('Topic_104', 'job_clean_test') \n",
    "lst_jobdata = [i for i in data_find()] # store the data to list"
   ]
  },
  {
   "cell_type": "code",
   "execution_count": 4,
   "metadata": {},
   "outputs": [
    {
     "name": "stdout",
     "output_type": "stream",
     "text": [
      "所有資料數量:  135384\n"
     ]
    }
   ],
   "source": [
    "print('所有資料數量: ', len(lst_jobdata))"
   ]
  },
  {
   "cell_type": "markdown",
   "metadata": {},
   "source": [
    "顯示兩筆清洗前資料"
   ]
  },
  {
   "cell_type": "code",
   "execution_count": 5,
   "metadata": {},
   "outputs": [
    {
     "name": "stdout",
     "output_type": "stream",
     "text": [
      "1.負責介紹及銷售商品。\r\n",
      "2.提供顧客之接待與需求服務（如：電話諮詢、調貨、修改、包裝及退換貨處理）。\r\n",
      "3.負責商品進貨入庫、銷售管理及庫存管理。\r\n",
      "4.負責商品包裝、陳列及促銷品換檔工作。\r\n",
      "5.維持店櫃週遭整潔。\r\n",
      "6.提升業績。\n",
      "需符合以下條件，無經驗勿投履歷~\r\n",
      "1.具備少淑女服飾一年以上銷售經驗\r\n",
      "2.充滿活力並有服務熱忱\n",
      "--------------------\n",
      "歐德傢俱連鎖事業鼓勵對系統傢俱設計有濃厚的有志之士加入，透過完整的晉升制度及各項多元職系發展，讓同仁在歐德集團開創自己的事業。\r\n",
      "本職務有業務經驗尤佳，以設計、銷售系統傢俱為主，依業主需求從系統介紹、工地丈量、繪圖、監工等..為業主服務，讓您走向專業發展的設計領域，歡迎您加入歐德集團。\n",
      "自備交通工具\n",
      "--------------------\n"
     ]
    }
   ],
   "source": [
    "# show job description data before cleaning\n",
    "for i in lst_jobdata[0:2]:\n",
    "    print(i['jobDescription'])\n",
    "    print(i['other'])\n",
    "    print(\"-\"*20)"
   ]
  },
  {
   "cell_type": "markdown",
   "metadata": {},
   "source": [
    "## 2. Clean job Description data"
   ]
  },
  {
   "cell_type": "code",
   "execution_count": 6,
   "metadata": {},
   "outputs": [],
   "source": [
    "import re"
   ]
  },
  {
   "cell_type": "markdown",
   "metadata": {},
   "source": [
    "### a. 定義資料清洗 & 欄位整合 function "
   ]
  },
  {
   "cell_type": "code",
   "execution_count": 7,
   "metadata": {},
   "outputs": [],
   "source": [
    "def string_clean(jobDescription): \n",
    "    '''\n",
    "    input: string (original job description)\n",
    "    output: string (clean job description)\n",
    "    '''\n",
    "    job_desc = jobDescription.split('\\n') # 根據換行符號轉乘 List格式\n",
    "    job_words = ''\n",
    "    \n",
    "    for words in job_desc:\n",
    "        words = words.replace('\\t', ' ').replace('\\r', ' ')\n",
    "        words = re.sub(r'[^\\w\\s]',' ', words)  # remove all punctuations\n",
    "        words = re.sub(r'\\d+', ' ', words)  # remove all numbers\n",
    "        words = words.strip() # remove white space\n",
    "        words += ' '\n",
    "        job_words += words\n",
    "        \n",
    "    return (job_words)"
   ]
  },
  {
   "cell_type": "markdown",
   "metadata": {},
   "source": [
    "#### 資料清洗整合"
   ]
  },
  {
   "cell_type": "code",
   "execution_count": 8,
   "metadata": {},
   "outputs": [],
   "source": [
    "# 將不同欄位的資料清洗並整合\n",
    "\n",
    "def concate_clean_data(data):\n",
    "    '''\n",
    "    input: \n",
    "        data: a dictionary of a job\n",
    "    output\n",
    "        jobDescription_clean: a string of a job description after cleaning\n",
    "    '''\n",
    "    \n",
    "    jobDescription = data['jobDescription']\n",
    "    jobOther = data['other']\n",
    "    \n",
    "    job_words = string_clean(jobDescription) # clean string\n",
    "    job_words_other = string_clean(jobOther) # clean string\n",
    "\n",
    "    jobDescription_clean = job_words + job_words_other # add two string\n",
    "    \n",
    "    # add jobCategory\n",
    "    jobDescription_clean = jobDescription_clean + \" \" + data['jobCategory'].replace('／', ' ')\n",
    "    \n",
    "    def add_column_data(colname, jobDescription_clean):\n",
    "        if len(data[colname]) > 0:\n",
    "            for j in data[colname]:\n",
    "                jobDescription_clean = jobDescription_clean + \" \" + j\n",
    "    \n",
    "    add_column_data('major_clean', jobDescription_clean)\n",
    "    add_column_data('language_clean', jobDescription_clean)\n",
    "    add_column_data('skill_clean', jobDescription_clean)\n",
    "    add_column_data('certificate_clean', jobDescription_clean)\n",
    "    add_column_data('specialty', jobDescription_clean)\n",
    "            \n",
    "    return jobDescription_clean\n",
    "    "
   ]
  },
  {
   "cell_type": "markdown",
   "metadata": {},
   "source": [
    "顯示三兩筆清洗整合後資料"
   ]
  },
  {
   "cell_type": "code",
   "execution_count": 9,
   "metadata": {},
   "outputs": [
    {
     "name": "stdout",
     "output_type": "stream",
     "text": [
      "負責介紹及銷售商品 提供顧客之接待與需求服務 如 電話諮詢 調貨 修改 包裝及退換貨處理 負責商品進貨入庫 銷售管理及庫存管理 負責商品包裝 陳列及促銷品換檔工作 維持店櫃週遭整潔 提升業績 需符合以下條件 無經驗勿投履歷 具備少淑女服飾一年以上銷售經驗 充滿活力並有服務熱忱  門市 店員 專櫃人員\n",
      "--------------------\n",
      "歐德傢俱連鎖事業鼓勵對系統傢俱設計有濃厚的有志之士加入 透過完整的晉升制度及各項多元職系發展 讓同仁在歐德集團開創自己的事業 本職務有業務經驗尤佳 以設計 銷售系統傢俱為主 依業主需求從系統介紹 工地丈量 繪圖 監工等  為業主服務 讓您走向專業發展的設計領域 歡迎您加入歐德集團 自備交通工具  國內業務人員\n",
      "--------------------\n",
      "熟悉成本會計 熟悉三角貿易會計 進貨 銷貨 費用單據審核及傳票製作 零用金異動及撥補 應收 應付帳務處理 會計報表編製 有操作系統經驗者佳 採購與庫存管理 進銷存管理 與廠商接洽訂單事宜 須熟悉正航會計軟體 能完成財務報表    公司福利 週休二日 特休 年假 依勞基法規定 須熟悉正航會計軟體  記帳 出納 一般會計\n",
      "--------------------\n"
     ]
    }
   ],
   "source": [
    "for i in lst_jobdata[0:3]:\n",
    "    data = concate_clean_data(i)\n",
    "    if data != None:\n",
    "        print(data)\n",
    "        print(\"-\"*20)"
   ]
  },
  {
   "cell_type": "markdown",
   "metadata": {},
   "source": [
    "### b. 使用 Jieba 分詞"
   ]
  },
  {
   "cell_type": "code",
   "execution_count": 10,
   "metadata": {},
   "outputs": [],
   "source": [
    "import jieba"
   ]
  },
  {
   "cell_type": "code",
   "execution_count": 11,
   "metadata": {},
   "outputs": [
    {
     "name": "stderr",
     "output_type": "stream",
     "text": [
      "Building prefix dict from the default dictionary ...\n",
      "Loading model from cache C:\\Users\\BIGDAT~1\\AppData\\Local\\Temp\\jieba.cache\n",
      "Loading model cost 0.724 seconds.\n",
      "Prefix dict has been built successfully.\n"
     ]
    }
   ],
   "source": [
    "# 指定辭典檔\n",
    "jieba.load_userdict('jieba_data/Jobcontent_dict.txt')"
   ]
  },
  {
   "cell_type": "code",
   "execution_count": 12,
   "metadata": {},
   "outputs": [],
   "source": [
    "# 使用結巴斷詞，產生 list of words\n",
    "\n",
    "def isEnglish(s): # 檢查字元是否為英文\n",
    "    try:\n",
    "        s.encode(encoding='utf-8').decode('ascii')\n",
    "    except UnicodeDecodeError:\n",
    "        return False\n",
    "    else:\n",
    "        return True\n",
    "\n",
    "\n",
    "def jieba_cut(data):  \n",
    "    # 使用結巴斷詞\n",
    "    seg_result = jieba.cut(data, cut_all=False)\n",
    "\n",
    "    # 篩選斷詞，去掉單一中文字\n",
    "    lst_seg = []\n",
    "    \n",
    "    for i in list(seg_result):\n",
    "        i = i.strip()\n",
    "        if len(i) < 1:  #排除空值\n",
    "            continue\n",
    "        elif i in stop_words: # 排除stopwords\n",
    "            continue\n",
    "        elif isEnglish(i) == False and len(i) == 1: #排除單一中文字\n",
    "            continue\n",
    "        elif i.isdigit() == True: #排除數字\n",
    "            continue\n",
    "        else:\n",
    "            lst_seg.append(i)\n",
    "   \n",
    "    return lst_seg"
   ]
  },
  {
   "cell_type": "markdown",
   "metadata": {},
   "source": [
    "## 3. 建立Job description 的 stopwords"
   ]
  },
  {
   "cell_type": "code",
   "execution_count": 13,
   "metadata": {},
   "outputs": [],
   "source": [
    "# 載入創建好的stopword表單\n",
    "\n",
    "with open(file='jieba_data/Jobcontent_stopwords.txt',mode='r', encoding=\"UTF-8\") as file:\n",
    "    stop_words = file.read().split('\\n')\n",
    "    stop_words = [i.strip() for i in stop_words]"
   ]
  },
  {
   "cell_type": "code",
   "execution_count": 14,
   "metadata": {},
   "outputs": [
    {
     "name": "stdout",
     "output_type": "stream",
     "text": [
      "{'管理': 236, '服務': 218, '商品': 168, '設計': 150, '業務': 148, '開發': 146, '協助': 133, '系統': 130, '作業': 125, '產品': 124, '顧客': 122, '門市': 122, '客戶': 116, '工程': 103, '銷售': 102, '主管': 101, '維護': 99, '專案': 98, '規劃': 87, '設備': 85, '現場': 79, '溝通': 78, '清潔': 75, '證券': 72, '整理': 72, '證照': 70, '技術': 70, '收銀': 68, '專業': 67, '操作': 67, '分析': 64, '包裝': 63, '專櫃': 62, '店員': 61, '資訊': 61, '測試': 61, '陳列': 56, '軟體': 53, '保險': 53, '教育': 53, '行銷': 52, '辦理': 51, '諮詢': 50, '金融': 46, '網頁': 44, '餐飲': 44, '發展': 43, '資格': 43, '安全': 43, '協調': 42, '資料': 42, '出口': 40, '生產': 40, '企劃': 40, '市場': 39, '行業': 38, '語文': 38, '專員': 38, '行政': 38, '文件': 38, '核定': 37, '理財': 37, '飯店': 37, '介紹': 36, '興捷': 36, '便利商店': 36, '國小': 36, '旅遊': 36, '補貨': 36, 'experience': 36, '進貨': 35, '制度': 35, '機械': 35, '流程': 35, '盤點': 35, '網路': 35, 'management': 35, '品質': 34, '建立': 33, '業績': 32, '食材': 32, '程式': 32, '接待': 31, '保養': 31, '衛生': 31, '傢俱': 30, '事業': 30, '電腦': 30, '結帳': 30, '賣場': 30, 'C': 30, '作業員': 29, '整合': 29, '準備': 29, '細心': 29, '倉儲': 28, '機台': 27, '業主': 26, '關係': 26, '支援': 26, 'ds': 26, 'skills': 26, '製程': 25, '佈置': 25, '說明': 25, '維修': 25, '電話': 24, '報表': 24, '檢驗': 24, '經營': 24, '課程': 24, '工具': 24, '資料庫': 24, '計畫': 24, '形象': 23, '撰寫': 23, '檢查': 23, '維持': 22, '繪圖': 22, '監工': 22, '房屋': 22, '品牌': 22, '研發': 22, '追蹤': 22, '整潔': 21, '服務生': 21, '倉庫': 21, '組裝': 21, '基礎': 21, '庫存': 20, '營運': 20, '搬貨': 20, '區域': 20, '助理': 20, 'etc': 20, '提升': 19, '訂單': 19, '客人': 19, '知識': 19, '排面': 19, '商店': 19, '平台': 19, '事務': 19, '穩定': 19, '考核': 19, '健康': 19, '電子': 18, '解決': 18, '科技': 18, '任務': 18, '確保': 18, '遊戲': 18, '幹部': 18, 'customer': 18, '採購': 17, '安排': 17, '餐具': 17, 'development': 17, '出差': 17, '多元': 16, '電機': 16, '擺盤': 16, '挑戰': 16, '培育': 16, '方案': 16, '責任感': 16, '配合度': 16, '改善': 16, '安裝': 16, '出貨': 16, '維繫': 16, '製造': 16, '監督': 16, '文書': 16, '網站': 16, '社群': 16, 'communication': 16, 'business': 16, '入庫': 15, '交通工具': 15, '業界': 15, '海外': 15, '百貨': 15, '建議': 15, '訊息': 15, 'A': 15, '進度': 15, 'product': 15, '提撥': 15, 'service': 15, '連鎖': 14, '審核': 14, '規定': 14, '飲品': 14, '食品': 14, '汽車': 14, '點餐': 14, '產業': 14, '通路': 14, '耐心': 14, '評估': 14, '英文': 14, '回收': 14, '國外': 14, 'port': 14, '輔導': 14, '程序': 14, 'sales': 14, '前端': 14, '會計': 13, '夜班': 13, '拓展': 13, '行動': 13, '店長': 13, '廚師': 13, 'Excel': 13, '規格': 13, '部門': 13, '指導': 13, '職務': 13, '室內': 13, '廣告': 13, 'IC': 13, '週遭': 12, '內外場': 12, '推廣': 12, '數位': 12, '抗壓性': 12, '導入': 12, '潛在': 12, '傳達': 12, '護理': 12, '內部': 12, 'ISO': 12, 'Go': 12, '策略': 12, '完善': 12, '標準': 12, '優化': 12, '驗證': 12, '勞工': 12, '投遞': 12, '施工': 12, '品管': 12, '簡報': 12, '接洽': 11, '不動產': 11, '創意': 11, '送餐': 11, '人才': 11, '檢測': 11, '加工': 11, '數據': 11, '紀錄': 11, '成本': 11, '推動': 11, '接觸': 11, '電商': 11, '語言': 11, 'Linux': 11, 'OS': 11, '影片': 11, 'performance': 11, 'team': 11, 'han': 11, 'analysis': 11, 'related': 11, '馬達': 11, '客服': 11, '教學': 11, '服裝': 11, '店櫃': 10, '工地丈量': 10, '走向': 10, '費用': 10, '線上': 10, '成品': 10, '料理': 10, '擔任': 10, '資源': 10, '售票': 10, '雲端': 10, '掌握': 10, '輔助': 10, '粉絲團': 10, '廚房': 10, '清洗': 10, '客房': 10, '營業': 10, '拜訪': 10, '展示': 10, '推展': 10, '機車': 10, '接聽': 10, '物料': 10, '規範': 10, '備料': 10, '國際': 10, '美容': 10, '研究': 10, '工廠': 10, '櫃檯': 10, 'Dev': 10, 'substrate': 10, '通過': 10, '保全': 10, '飲料': 10, '調查': 10, '拍攝': 10, '藥師': 10, '店舖': 10, '實習': 10, '嘗試': 10, 'PAUL': 10, 'retail': 10, '剪輯': 10, 'using': 10, '促銷品': 9, '換檔': 9, '廠商': 9, '外場': 9, '文書處理': 9, '土地': 9, '麵包': 9, '清理': 9, '企業': 9, '職業': 9, '排班制': 9, '培養': 9, '零售業': 9, '助手': 9, '餐廳': 9, 'Office': 9, '檔案': 9, 'SQL': 9, '司機': 9, '堆高機': 9, '報價': 9, '菜餚': 9, '創新': 9, '訪客': 9, '建置': 9, '提案': 9, '狀況': 9, '記錄': 9, '帳務': 9, '引擎': 9, '美術': 9, 'ply': 9, 'products': 9, 'process': 9, '消費': 9, 'work': 9, '車輛': 9, '裝潢': 9, '功能': 9, 'design': 9, 'P': 9, '監控': 9, '倉管': 9, '工地': 9, 'js': 9, '調貨': 8, '退換貨': 8, '服飾': 8, '財務': 8, '電路': 8, '調製': 8, '空間': 8, '仲介': 8, '居家': 8, '甜點': 8, '購物': 8, '房地產': 8, '基金': 8, '通知': 8, '測量': 8, '控管': 8, '生產線': 8, '伺服器': 8, '設定': 8, '控制': 8, 'API': 8, '架構': 8, '建檔': 8, '前置': 8, '餐廚': 8, '儀器': 8, '帳款': 8, '配送': 8, '打造': 8, '擅長': 8, '會議': 8, '台灣': 8, '蒐集': 8, '儲備': 8, '物流': 8, 'MD': 8, 'technologies': 8, 'based': 8, 'services': 8, '錄用': 8, '中餐': 8, '大學': 8, '直播': 8, '流行': 8, '搬運': 8, '媒體': 8, '儲能': 8, 'day': 8, 'market': 8, '經歷': 8, '思考': 8, 'Windows': 8, 'AI': 8, '裝配': 7, '日本': 7, '商務': 7, '帶位': 7, '跨部門': 7, '運用': 7, '成交': 7, '烹飪': 7, '文字': 7, '機電': 7, '空調': 7, 'MS': 7, 'Server': 7, 'MySQL': 7, '電控': 7, '自動': 7, '地區': 7, '經銷': 7, '收發': 7, '銀行': 7, '新產品': 7, '化學': 7, '成效': 7, '歸檔': 7, '售後': 7, '稽核': 7, '輪調': 7, 'PM': 7, '招募': 7, '分店': 7, '出勤': 7, 'System': 7, '資深': 7, '填寫': 7, '繪製': 7, 'data': 7, 'elop': 7, 'develop': 7, '驗收': 7, 'SMT': 7, '計算': 7, '申請': 7, '申報': 7, '學歷': 7, 'quality': 7, 'Experience': 7, '作品': 7, 'FB': 7, 'IG': 7, '穿搭': 7, 'knowledge': 7, 'Han': 7, 'customers': 7, '建築': 7, '趨勢': 7, '健檢': 7, '管制': 7, '電力': 7, '技師': 7, '日班': 7, '攝影': 7, '營養': 7, '廚務': 7, '貿易': 7, '幼兒': 7, 'UK': 7, '記帳': 6, '機器': 6, '旅館': 6, '收拾': 6, '碗盤': 6, '計劃': 6, '認證': 6, '結合': 6, '管理職': 6, '努力': 6, '新鮮人': 6, '房產': 6, '直營': 6, '抗壓力': 6, '工作者': 6, '故障': 6, 'Internet': 6, '證書': 6, '樣品': 6, 'Docker': 6, 'Web': 6, '通訊': 6, '擬定': 6, '回覆': 6, 'AM': 6, '晚班': 6, '文化': 6, '制定': 6, '督導': 6, '客訴': 6, '預算': 6, '彙整': 6, '壓力': 6, '階段': 6, '報告': 6, 'Java': 6, 'Python': 6, 'Git': 6, '技巧': 6, '醫院': 6, 'UI': 6, 'maintaining': 6, 'English': 6, 'have': 6, 'manufacturing': 6, 'all': 6, '半導體': 6, '零件': 6, '裝修': 6, '風格': 6, '消防': 6, '新客戶': 6, '反應': 6, '引導': 6, '管道': 6, '開店': 6, '水電': 6, 'cost': 6, 'engineering': 6, 'office': 6, '自動化': 6, 'required': 6, '主任': 6, '勞務': 6, 'HTML': 6, 'CSS': 6, '管控': 6, '檢討': 6, '印刷': 6, '文案': 6, '維運': 6, 'brand': 6, '駕照': 6, 'RF': 6, '基本操作': 6, '照片': 6, '洗碗': 6, '統計': 6, '模具': 6, '報關': 6, 'CNC': 6, 'commodities': 6, '考量': 6, '經理': 6, 'React': 6, '社區': 6, '出納': 5, '警衛': 5, '自然': 5, '商業': 5, '組織': 5, '領導': 5, '建設': 5, '掌控': 5, '重要': 5, '菜單': 5, '餐點': 5, '簡易': 5, '打包': 5, '交付': 5, 'NET': 5, '郵件': 5, '除錯': 5, '模擬': 5, '材料': 5, '邏輯': 5, '模型': 5, 'IP': 5, '裝置': 5, '電信': 5, '經紀': 5, '機構': 5, 'SOP': 5, '店務': 5, '理念': 5, '效率': 5, '硬體': 5, '議題': 5, '公文': 5, '作品集': 5, 'Familiar': 5, 'technology': 5, 'achieve': 5, 'status': 5, 'chain': 5, 'concepts': 5, 'Product': 5, 'ing': 5, '保修': 5, '實施': 5, 'AutoCAD': 5, '結構': 5, 'control': 5, 'information': 5, 'IT': 5, 'industry': 5, '互動': 5, 'responsibility': 5, 'reports': 5, 'amp': 5, 'project': 5, 'operations': 5, 'debugging': 5, '碩士': 5, '團體': 5, '超市': 5, 'Identify': 5, 'Work': 5, 'plus': 5, '性能': 5, '抗壓性強': 5, '零售': 5, '公共': 5, '信件': 5, '合約': 5, '瞭解': 5, '架設': 5, 'CI': 5, '背景': 5, '廠區': 5, 'inventory': 5, '生命': 5, '投資': 5, '查核': 5, '親和力': 5, 'Manage': 5, 'materials': 5, '調度': 5, '品保': 5, '垃圾': 5, '實驗': 5, '日文': 5, '重物': 5, '建築物': 5, 'hardware': 5, 'system': 5, '案件': 5, '全球': 5, 'NPO': 5, 'sellers': 5, '淑女': 4, '進銷存': 4, '責任心': 4, '買賣': 4, '烘焙': 4, '股份': 4, '法式': 4, '跑單': 4, '定位': 4, '電動': 4, '執行力': 4, '高階': 4, '新品': 4, '婚喪': 4, '原料': 4, '短工': 4, '精準': 4, '舉辦': 4, '籃球': 4, '壘球': 4, 'FACEBOOK': 4, '行程': 4, '親切': 4, '遞送': 4, '工作站': 4, 'IIS': 4, 'Word': 4, '大貨車': 4, '護士': 4, '採買': 4, '出菜': 4, '實驗室': 4, '效果': 4, '後端': 4, 'Restful': 4, '跟催': 4, '上市': 4, '統籌': 4, '交代': 4, '願景': 4, '手機': 4, '社會': 4, '住宿': 4, '實體': 4, '風險': 4, '食品安全': 4, '政策': 4, '交通': 4, '編排': 4, '伊莉特': 4, '美國': 4, '大陸': 4, 'Script': 4, 'Microsoft': 4, '運送': 4, '操作員': 4, '廠內': 4, '聯絡': 4, '法令': 4, '規畫': 4, '法務': 4, '行政助理': 4, 'tools': 4, 'metrics': 4, '韌體': 4, 'takes': 4, 'advanced': 4, 'should': 4, 'oral': 4, 'Engineer': 4, 'its': 4, 'other': 4, '折扣': 4, '可行性': 4, '營造': 4, 'Project': 4, '專科': 4, '結婚': 4, '在職': 4, '制服': 4, '同業': 4, '服務業': 4, '加盟店': 4, 'travel': 4, 'manager': 4, 'Active': 4, '醫學': 4, '時尚': 4, 'administrative': 4, 'level': 4, 'programs': 4, 'Responsible': 4, 'resolve': 4, 'stable': 4, 'online': 4, 'focus': 4, '搬家': 4, '超商': 4, '量販': 4, '日用品': 4, '平面': 4, 'execute': 4, 'Corning': 4, 'overall': 4, 'model': 4, 'account': 4, 'strategy': 4, 'working': 4, 'JavaScript': 4, '討論': 4, '食物': 4, '櫃台': 4, '方法': 4, '版面': 4, 'CD': 4, '轉接': 4, '總務': 4, '用戶': 4, 'associates': 4, 'goals': 4, 'standard': 4, 'program': 4, 'systems': 4, '估價': 4, '政府': 4, '講師': 4, '使用者': 4, '圖面': 4, '核對': 4, '表單': 4, '退房': 4, 'Photoshop': 4, '儀表': 4, '器皿': 4, '洗滌': 4, '烘乾': 4, '歸位': 4, '廚餘': 4, '烹調': 4, '塑膠射出': 4, 'algorithms': 4, '進出口': 4, '挑選': 4, '量產': 4, '巡邏': 4, '營建': 4, '個案': 4, 'VMWare': 4, 'Monitoring': 4, 'Nginx': 4, 'Understanding': 4, 'server': 4, '編撰': 4, 'CAD': 4, 'drawings': 4, 'pliers': 4, 'thermal': 4, 'Vue': 4, '跨行': 4, '供應商': 4, '請款': 4, '估算': 4, 'VeryBuy': 4, '準據': 4, '翻譯': 4, '光電': 4, '金融業': 4, '咖啡': 3, 'category': 3, '冷凍': 3, '傳統': 3, '美食': 3, '檢定': 3, '羽毛球': 3, '座位': 3, '做餐': 3, '吧台': 3, '容量': 3, '備品': 3, '餐食': 3, '舒適': 3, '修繕': 3, '編寫': 3, 'PHP': 3, '串接': 3, '文具用品': 3, '改良': 3, '公關': 3, '審查': 3, '科學': 3, '化妝品': 3, '設施': 3, 'MariaDB': 3, 'MongoDB': 3, 'TCP': 3, '效益': 3, '文檔': 3, '訪店': 3, '精品': 3, '原廠': 3, '改裝': 3, '用心': 3, '商圈': 3, '發送': 3, '生技': 3, '專利': 3, '生物科技': 3, '成果': 3, '謹慎': 3, 'Native': 3, '介接': 3, '收集': 3, 'PowerPoint': 3, '學生': 3, '法律': 3, '理貨': 3, 'Cocos': 3, 'PLC': 3, '控制工程': 3, '預約': 3, '庶務': 3, '動作': 3, '敏捷': 3, 'app': 3, 'testing': 3, 'software': 3, 'applications': 3, 'flow': 3, 'skill': 3, 'ability': 3, 'At': 3, 'innovation': 3, 'computing': 3, 'passion': 3, 'opportunities': 3, 'join': 3, 'bring': 3, 'approach': 3, 'ES': 3, 'NPI': 3, 'environment': 3, 'recruitment': 3, 'agencies': 3, '供餐': 3, '氣氛': 3, '教導': 3, '家具': 3, '西餐': 3, 'projects': 3, '元件': 3, '交車': 3, '追加': 3, '外送': 3, 'KPI': 3, '職前': 3, '商場': 3, '法規': 3, '美食街': 3, '簽約': 3, '代書': 3, '產權': 3, '製圖': 3, 'complex': 3, 'od': 3, '關懷': 3, 'ACL': 3, '語法': 3, '熟練': 3, '美感': 3, '帳號': 3, 'general': 3, 'internal': 3, 'action': 3, 'solid': 3, 'financial': 3, 'Ability': 3, 'managers': 3, 'Maintain': 3, 'Qualifications': 3, 'tasking': 3, 'Data': 3, 'running': 3, 'production': 3, '自傳': 3, '過程': 3, '行政院': 3, '保護': 3, '基金會': 3, '據點': 3, '送貨': 3, '負責任': 3, '美編': 3, 'actions': 3, 'review': 3, 'delivery': 3, 'trend': 3, 'understanding': 3, 'Lead': 3, 'technical': 3, 'visit': 3, 'engagement': 3, 'network': 3, 'Build': 3, 'relationships': 3, '宣傳': 3, '學校': 3, '傳遞': 3, '測驗': 3, '尺寸': 3, '聆聽': 3, '辦公室': 3, '簡介': 3, '衍生性': 3, '參數': 3, 'Jenkins': 3, '運動': 3, 'strategies': 3, 'operation': 3, 'frontline': 3, 'company': 3, 'marketing': 3, 'VF': 3, 'Ensure': 3, 'prepare': 3, 'keep': 3, 'plan': 3, 'annual': 3, '軟硬體': 3, '障礙': 3, '發包': 3, '契約': 3, '工程圖': 3, '節目': 3, '電視': 3, '查帳': 3, 'factory': 3, 'timely': 3, 'clear': 3, 'when': 3, 'oriented': 3, '房客': 3, '日語': 3, '分類': 3, '修圖': 3, '指揮': 3, '訂席': 3, 'w': 3, '技能': 3, '詳細': 3, '影音': 3, '編輯': 3, '收尾': 3, '日式': 3, '調配': 3, '菜色': 3, '人資': 3, '婚禮': 3, '日系': 3, '廠務': 3, 'AD': 3, '分配': 3, '出入': 3, '構造': 3, '巡視': 3, '值班': 3, '技術士': 3, 'cell': 3, 'ESD': 3, '防護': 3, 'PCB': 3, 'Network': 3, 'DNS': 3, 'Storage': 3, 'Wireshark': 3, 'configuring': 3, 'PC': 3, '實業': 3, 'PXPay': 3, '會員': 3, '協同': 3, '主力': 3, '驅動': 3, 'procurement': 3, 'purchase': 3, 'orders': 3, 'Execute': 3, 'manner': 3, '電洽': 3, '皮包': 3, '鞋類': 3, '搜集': 3, '廢棄物': 3, '承攬': 3, '精進': 3, '販售': 3, '備份': 3, '商社': 3, '版本控制': 3, '喪禮': 3, '高中職': 3, '權限': 3, '輸出': 3, '預計': 3, '研修': 3, '晶片': 3, '解說': 3, 'Sketch': 3, '切版': 3, '調酒': 3, 'bar': 3, '店鋪': 3, '資安': 3, '演算法': 3, '模組': 3, '電池': 3, '研測': 3, '太陽能': 3, '醫事': 3, '放射': 3, '外向': 3, '工藝': 3, '農業': 3, '艱辛': 3, 'Security': 3, '單據': 2, '傳票': 2, '配件': 2, '配線': 2, '吧檯': 2, 'concept': 2, '麵糰': 2, '印月': 2, '人文': 2, '概述': 2, '模式': 2, '職人': 2, '藍圖': 2, '操作能力': 2, '假排': 2, 'OP': 2, '酒杯': 2, '外帶': 2, '資產': 2, '指派': 2, '焊接': 2, '點菜': 2, '手冊': 2, '外派': 2, 'ASP': 2, 'VB': 2, '運輸': 2, '配管': 2, '程式碼': 2, '展場': 2, '註明': 2, '試驗': 2, '成分': 2, '生物': 2, '精通': 2, '底層': 2, '機制': 2, 'Socket': 2, 'mail': 2, '全系列': 2, '主推': 2, '保固': 2, '換貨': 2, '分發': 2, '歷練': 2, '全天班': 2, '打破': 2, '才能': 2, '購屋': 2, '創業': 2, '競賽': 2, '社團': 2, '平衡': 2, '促進': 2, 'Sourcing': 2, 'HACCP': 2, '促銷': 2, '編列': 2, '餐飲部': 2, '決議': 2, '保健品': 2, '加盟': 2, '跨境': 2, '面膜': 2, '接送': 2, 'Design': 2, 'Android': 2, '電玩': 2, '效能': 2, '客戶端': 2, '葡萄酒': 2, '威士忌': 2, '酒品': 2, '宅配': 2, '酒類': 2, '品酒': 2, '美酒': 2, '過量': 2, '表達': 2, '加工品': 2, '堆疊': 2, '站點': 2, '貨品': 2, 'DQV': 2, '外文': 2, '事務所': 2, '點貨': 2, '共享': 2, '網址': 2, '播放': 2, 'experiences': 2, 'test': 2, 'which': 2, 'Preferred': 2, 'changes': 2, 'push': 2, 'boundaries': 2, 'better': 2, 'driving': 2, 'collaboration': 2, 'look': 2, 'THE': 2, 'candidate': 2, 'track': 2, 'Fabless': 2, 'IDM': 2, 'ecosystem': 2, 'He': 2, 'she': 2, 'excellent': 2, 'Technology': 2, 'these': 2, 'reliability': 2, 'efficient': 2, 'Master': 2, 'Solid': 2, 'equivalent': 2, 'opportunity': 2, '餐桌': 2, '遞交': 2, '上菜': 2, '帳單': 2, '付款': 2, '簽字': 2, '進料': 2, '大自然': 2, '熬煮': 2, '擺設': 2, '機能': 2, '合法': 2, '施工圖': 2, '器具': 2, '當地': 2, 'Management': 2, 'Program': 2, 'registration': 2, 'Non': 2, 'Works': 2, 'win': 2, 'focused': 2, 'SI': 2, 'user': 2, '資管': 2, '明細': 2, '檢查表': 2, '區域性': 2, '五金': 2, '與人相處': 2, '萃茶機': 2, '多元化': 2, '熱心': 2, '權益': 2, '空班': 2, '自強': 2, '外訓': 2, '訂定': 2, '招商': 2, '特賣': 2, '移轉': 2, '稅務': 2, '總部': 2, '展店': 2, 'Solidworks': 2, 'Marketing': 2, 'survey': 2, 'background': 2, 'over': 2, 'experienced': 2, 'style': 2, '觀念': 2, '能功': 2, 'word': 2, 'excel': 2, '無塵室': 2, '能看懂': 2, '組裝圖': 2, '全職': 2, 'function': 2, 'specific': 2, 'department': 2, 'compiles': 2, 'special': 2, 'presentations': 2, 'Communication': 2, 'tasks': 2, 'initiates': 2, 'maximize': 2, 'Provides': 2, 'individual': 2, 'staff': 2, 'le': 2, 'budget': 2, 'requisitions': 2, 'language': 2, 'computer': 2, 'application': 2, 'discuss': 2, 'stability': 2, 'avoid': 2, 'recurrence': 2, 'Communicate': 2, 'collaborate': 2, 'front': 2, 'back': 2, 'security': 2, 'Perform': 2, 'comply': 2, 'regulations': 2, 'HA': 2, 'reporting': 2, 'environments': 2, 'Plus': 2, 'implementing': 2, '藥學': 2, '執照': 2, '進階': 2, '調劑': 2, '核發': 2, '大夜班': 2, '搬動': 2, '裝載': 2, '體能': 2, '體魄': 2, '消保': 2, '授證': 2, '全國': 2, '外務': 2, '生鮮': 2, 'recovery': 2, 'until': 2, 'clarify': 2, 'returns': 2, 'Quality': 2, 'Value': 2, 'nee': 2, 'advantages': 2, 'capabilities': 2, 'qualification': 2, 'side': 2, 'Coordinate': 2, 'audit': 2, 'align': 2, 'TFT': 2, 'LCD': 2, 'y': 2, 'analytical': 2, 'flexible': 2, 'time': 2, '實木': 2, '美學': 2, '支持': 2, '建構': 2, '耗材': 2, '貨物': 2, '開拓': 2, '習學': 2, '窗口': 2, '螺絲': 2, '寶藏': 2, '味蕾': 2, '嘗鮮': 2, 'Welcome': 2, 'Join': 2, 'Laravel': 2, 'Cent': 2, 'Facebook': 2, '流量': 2, '業務部': 2, '精緻': 2, '作戰': 2, 'Agile': 2, '店內': 2, '清點': 2, '退貨': 2, '支付': 2, '液體': 2, '烤漆': 2, 'JAVA': 2, '評價': 2, 'Market': 2, '信用': 2, 'Grid': 2, '契機': 2, '疾病': 2, '醫師': 2, '醫療': 2, 'base': 2, 'Appium': 2, 'Purpose': 2, 'minimize': 2, 'appropriate': 2, 'but': 2, 'limited': 2, 'maintenance': 2, 'promotion': 2, 'discount': 2, 'Stay': 2, 'tren': 2, 'each': 2, 'commission': 2, 'via': 2, 'Business': 2, 'stock': 2, 'transfer': 2, 'global': 2, '職安署': 2, '國健署': 2, '管理局': 2, '委辦': 2, '派訓': 2, '博士': 2, '細胞': 2, '巡檢': 2, '電匠': 2, '設備士': 2, '計畫書': 2, '標單': 2, '剪接': 2, 'Sales': 2, 'maintains': 2, 'Based': 2, 'drive': 2, 'Negotiate': 2, 'transitions': 2, 'Support': 2, 'Prepare': 2, 'consumer': 2, 'negotiation': 2, 'goal': 2, 'driven': 2, '傾聽': 2, '收送貨': 2, '雜項': 2, '秘書': 2, '距離': 2, '推行': 2, 'CC': 2, '美工': 2, '強為': 2, '工安': 2, '健身': 2, '燃燒': 2, '全能': 2, '樣樣': 2, '身上': 2, '脂肪': 2, '牢固': 2, '衛教': 2, '國際觀': 2, 'MAC': 2, '投放': 2, '拉麵': 2, '開放式': 2, '檔期': 2, '調理': 2, '影像': 2, '圖片': 2, 'Define': 2, 'manage': 2, 'Equipped': 2, 'care': 2, 'Team': 2, '受理': 2, '催收': 2, '中式': 2, '西式': 2, '檢視': 2, '選用': 2, '點單': 2, '預防': 2, '損壞': 2, '新建': 2, '給水': 2, '訂房': 2, '旅行': 2, '接待客人': 2, '產測': 2, '洽談': 2, '固定式': 2, '高仰層': 2, '教案': 2, '議價': 2, 'CDN': 2, '拍照': 2, 'Research': 2, 'audio': 2, 'processing': 2, 'learning': 2, 'image': 2, '國貿': 2, '樣本': 2, 'Intel': 2, '量測': 2, '療程': 2, '診所': 2, '藥局': 2, '產能': 2, '監視': 2, '客情': 2, '能量': 2, '汽機車': 2, '板材': 2, '裁切': 2, '乙級': 2, '土木': 2, 'Conduct': 2, 'circuit': 2, 'layout': 2, '辨識': 2, '口齒清晰': 2, '手術': 2, '工務': 2, 'App': 2, 'Troubleshooting': 2, 'Multi': 2, 'networking': 2, 'protocols': 2, 'UDP': 2, 'CMP': 2, 'Virtualization': 2, 'iDrac': 2, 'iLO': 2, 'Passion': 2, 'managing': 2, 'large': 2, 'fleets': 2, 'Shell': 2, 'Redis': 2, 'Direct': 2, 'oy': 2, 'WSUS': 2, 'LDAP': 2, 'R': 2, 'IUS': 2, 'NAT': 2, 'SSL': 2, 'VPN': 2, 'switching': 2, 'Routing': 2, 'MTR': 2, 'Prometheus': 2, 'Gafana': 2, 'Zabbix': 2, 'Cacti': 2, 'nd': 2, 'MPIO': 2, 'iSCSi': 2, 'DA': 2, 'SAN': 2, 'DRS': 2, 'Motion': 2, 'Cluster': 2, 'vCenter': 2, 'increase': 2, 'AWS': 2, 'container': 2, 'popular': 2, 'orchestration': 2, 'engines': 2, 'g': 2, 'Swarm': 2, 'Mesos': 2, 'Kubernetes': 2, 'managed': 2, 'annually': 2, 'IDS': 2, 'vernment': 2, '金管會': 2, 'auditing': 2, '突破': 2, '生態': 2, '收付': 2, 'Proposal': 2, '訪談': 2, 'built': 2, '拼版': 2, '液晶面板': 2, '視圖': 2, '架機': 2, '刀具': 2, '補正': 2, '工件': 2, '職訓': 2, '機動性': 2, '設置': 2, 'conditions': 2, 'prices': 2, 'expertise': 2, 'sources': 2, 'optimize': 2, 'obtain': 2, 'price': 2, 'comprehensive': 2, 'functional': 2, 'value': 2, 'initiatives': 2, 'BS': 2, 'mechanical': 2, '規章': 2, '補習班': 2, '導師': 2, 'FMCG': 2, '多益': 2, 'Adobe': 2, 'Illustrator': 2, '主機': 2, '標示': 2, '委外': 2, '演練': 2, '檢修': 2, '職安': 2, '招攬': 2, '縫製機台': 2, '布巾': 2, '美味': 2, '廚藝': 2, '半成品': 2, '期望': 2, 'Javascript': 2, 'jQuery': 2, '框架': 2, '配置': 2, '子公司': 2, '責任': 2, '借重': 2, '進出': 2, '儲值': 2, '識別證': 2, '救助': 2, '帳戶': 2, '轉帳': 2, '提款': 2, '手續費': 2, '開戶': 2, '權利': 2, '共創': 2, '保全公司': 2, '核心': 2, '國民': 2, '身分證': 2, '私章': 2, '用品': 2, 'CFD': 2, 'Flotherm': 2, 'Icepak': 2, 'validation': 2, '商用': 2, '流體': 2, '美甲': 2, '瀏覽器': 2, '筆記型': 2, 'Amazon': 2, '資工': 2, '船務': 2, '圖表': 2, '銑床': 2, '塑膠': 2, 'ZENSHO': 2, '人事行政': 2, '計價': 2, '用戶端': 2, 'relative': 2, '手持': 2, 'LINE': 2, '粉絲': 2, '設計稿': 2, '視覺': 2, '理解': 2, '模板': 2, '成績': 2, '部署': 2, '丙級': 2, 'alcohol': 2, 'guest': 2, '歷史': 2, '鐵板燒': 2, 'Taipei': 2, '運轉': 2, 'react': 2, 'native': 2, 'Typescript': 2, 'PX': 2, 'GA': 2, '臉書': 2, '關鍵字': 2, '大表': 2, '深度學習': 2, '主廚': 2, '即時性': 2, '汽修': 2, '壓鑄': 2, '智慧': 2, '培訓期': 2, '排放': 2, '管理制度': 2, '菁英': 2, '外觀': 2, '教材': 2, '考題': 2, '老師': 2, '婚宴': 2, '新娘': 2, '制程': 2, '替代': 2, '無毒農': 2, '藝術': 2, '農推': 2, '收貨': 2, '堆高': 2, '投入': 2, '經提報': 2, '審計': 2, '三電': 2, '控制器': 2, '廠辦': 2, '所得': 2, '表演': 2, '音樂': 2, '演奏': 2, '送審': 2, '成本會計': 1, '三角貿易': 1, '銷貨': 1, '異動': 1, '撥補': 1, '應付帳': 1, '編製': 1, '常識': 1, '及展務': 1, 'tldc': 1, 'arki': 1, '客源': 1, '租賃': 1, '點進行': 1, '山鯨': 1, '燒肉': 1, '食法': 1, '保留': 1, '解放': 1, '肉欲': 1, '炭火': 1, '餐旅': 1, '東方宴': 1, '法月': 1, '當代': 1, 'cake': 1, 'house': 1, '心月': 1, '天月': 1, '簡愛': 1, '時逢': 1, '釋出': 1, '職務調': 1, '繳交': 1, '合格': 1, '併板': 1, '包膠膜': 1, '物流箱': 1, '夜間': 1, '學者': 1, '拖板車': 1, '二十四年': 1, '預見': 1, '開創性': 1, '具具': 1, '穩定性': 1, '鑽孔': 1, '海港': 1, '團務及': 1, '出團': 1, '結團': 1, '領隊': 1, '得體': 1, '旅行社': 1, '遞給': 1, '衣物': 1, '補充': 1, '夜床': 1, '線速': 1, '重覆': 1, '手測': 1, '烙鐵': 1, '顯微鏡': 1, '送菜': 1, '撤桌': 1, '開餐': 1, '補齊': 1, '善後': 1, '文編': 1, '校對': 1, 'UPS': 1, '擴充': 1, '區潭陽里': 1, 'DB': 1, 'WEB': 1, 'WinForm': 1, 'Powerpoint': 1, 'OutLook': 1, '防火牆': 1, '路由器': 1, '舊機': 1, '流利': 1, '意識': 1, '親子': 1, '母嬰': 1, '月子中心': 1, '寵物': 1, '病嬰': 1, '兒科': 1, '病房': 1, '照護': 1, '依職務及': 1, '商品形象': 1, '動物': 1, '送件': 1, '摘要': 1, '營銷': 1, '重新制定': 1, '構想': 1, '批次': 1, '防腐': 1, '臨床': 1, '相容': 1, '物理性': 1, '物理': 1, '揭露': 1, '批量': 1, '連線': 1, '協議': 1, '分散式': 1, 'Service': 1, 'HTTP': 1, '協定': 1, '話術': 1, '進貨單': 1, '下訂': 1, 'Mi': 1, '打拼': 1, '買房': 1, '重金': 1, 'Ipad': 1, '連升': 1, '翻轉': 1, '按摩': 1, '考取': 1, '配對': 1, '看房': 1, '成本分析': 1, '訂席組': 1, '機票': 1, '簽核': 1, '四十七年': 1, '上中下游': 1, '產業鏈': 1, '新藥': 1, '行上': 1, '興櫃': 1, '大美麗': 1, '認股權': 1, '沿革': 1, '創始': 1, '醫藥': 1, '醫美': 1, '沙龍': 1, '媒體譽': 1, '保健食品': 1, 'SS': 1, '動儀': 1, '奈米': 1, '傳輸': 1, '萬倍': 1, '透皮': 1, '皮膚': 1, '基因': 1, '量子': 1, 'SPA': 1, '戮力': 1, '獲得德': 1, '多國': 1, '洽公': 1, '公務': 1, 'MVC': 1, 'Pattern': 1, 'Rest': 1, 'git': 1, 'LUA': 1, 'iOS': 1, 'SDK': 1, '功能性': 1, '使用性': 1, '相容性': 1, '部屬': 1, 'Bug': 1, 'Tracking': 1, '電訪': 1, '面訪': 1, '競爭': 1, '導覽': 1, '校務': 1, '家長': 1, '教務面': 1, '吊車': 1, '起重機': 1, '待測': 1, 'Labview': 1, '懂類': 1, '全檢員': 1, '視力': 1, '受傷': 1, '主持': 1, '餐券': 1, '印製': 1, '排序': 1, '洗錢': 1, '打擊': 1, '資恐': 1, '財經': 1, '律師': 1, '核銷': 1, '事務機': 1, '叫修': 1, '特效': 1, '骨骼': 1, '專案組': 1, '深入': 1, '畫面': 1, '及場景': 1, 'Studio': 1, '硬碟': 1, '丈量': 1, '自我管理': 1, 'especially': 1, 'accessibility': 1, 'apps': 1, 'documentation': 1, 'presentation': 1, 'slides': 1, 'sprea': 1, 'heets': 1, 'Manual': 1, 'Experienced': 1, 'cases': 1, 'walk': 1, 'details': 1, 'programming': 1, 'write': 1, 'read': 1, 'What': 1, 'everything': 1, 'what': 1, 'possible': 1, 'believe': 1, 'changing': 1, 'graphics': 1, 'visualization': 1, 'building': 1, 'blocks': 1, 'gaming': 1, 'Immersive': 1, 'platforms': 1, 'center': 1, 'eloping': 1, 'great': 1, 'than': 1, 'it': 1, 'amazing': 1, 'respect': 1, 'go': 1, 'extra': 1, 'mile': 1, 'unthinkable': 1, 'It': 1, 'desire': 1, 'disr': 1, 'quo': 1, 'deliver': 1, 'change': 1, 'If': 1, 'type': 1, 'invite': 1, 'available': 1, 'come': 1, 'ROLE': 1, 'Drive': 1, 'PERSON': 1, 'proven': 1, 'record': 1, 'bringing': 1, 'vendors': 1, 'ideas': 1, 'Partners': 1, 'Colleagues': 1, 'architects': 1, 'KEY': 1, 'RESPONSIBIL': 1, 'ITI': 1, 'productize': 1, 'Select': 1, 'partners': 1, 'invest': 1, 'Partner': 1, 'Manufacturing': 1, 'demonstrate': 1, 'smoothly': 1, 'transition': 1, 'though': 1, 'Transfer': 1, 'yielding': 1, 'volume': 1, 'PREFERRED': 1, 'EX': 1, 'PER': 1, 'IE': 1, 'NCE': 1, 'familiar': 1, 'ACA': 1, 'DEMIC': 1, 'CREDENTIALS': 1, 'State': 1, 'Physics': 1, 'Chemistry': 1, 'Materials': 1, 'Science': 1, 'Chemical': 1, 'OCA': 1, 'TION': 1, 'Hsinchu': 1, 'does': 1, 'accept': 1, 'unsolicited': 1, 'resumes': 1, 'headhunters': 1, 'fee': 1, 'subsidiaries': 1, 'equal': 1, 'employers': 1, 'consider': 1, 'applicants': 1, 'without': 1, 'regard': 1, 'race': 1, 'marital': 1, 'sex': 1, 'age': 1, 'color': 1, 'religion': 1, 'national': 1, 'origin': 1, 'veteran': 1, 'disability': 1, 'characteristic': 1, 'protected': 1, 'law': 1, '夜間部': 1, '人事': 1, '假卡': 1, '領料單': 1, '分裝': 1, '書面': 1, '無毒': 1, '種植': 1, '店名': 1, 'moment': 1, '將傳授': 1, '肉類': 1, '切法': 1, '刀藝': 1, '鮮嫩': 1, '肥美': 1, '肉品': 1, '高湯': 1, '湯底': 1, '鍋物': 1, '審美觀': 1, '窗簾': 1, '飾品': 1, '居住': 1, '櫥窗': 1, '會議室': 1, '統馭': 1, '失約': 1, '佔有率': 1, '經銷商': 1, 'Distributors': 1, 'integration': 1, 'Channel': 1, 'op': 1, 'Rebate': 1, 'Spiffs': 1, 'Incentive': 1, 'Programs': 1, 'Integrator': 1, 'For': 1, 'Resale': 1, 'Distributor': 1, '托益': 1, '料表': 1, 'NPM': 1, '新機': 1, '點膠': 1, 'APC': 1, '產出': 1, '資處': 1, 'PCBA': 1, '入廠': 1, '委修': 1, '現車': 1, '交車並': 1, '送行': 1, '營業處': 1, '案場': 1, 'DIY': 1, '制短時': 1, '情報': 1, '意見': 1, '貸款': 1, '地政': 1, '指標': 1, '品牌形象': 1, '拓點': 1, '不動產業': 1, '經記': 1, '來函': 1, 'Spec': 1, 'accessory': 1, 'Competitor': 1, 'Expo': 1, 'event': 1, 'TW': 1, 'region': 1, 'sometimes': 1, 'Required': 1, 'Education': 1, 'science': 1, 'Skills': 1, 'normal': 1, 'editing': 1, 'writing': 1, 'Interested': 1, 'display': 1, 'Accept': 1, 'hurry': 1, 'rush': 1, 'temper': 1, 'Have': 1, 'school': 1, 'clubs': 1, 'sketch': 1, '依北': 1, '劃分': 1, '結訓': 1, '救護': 1, '外科': 1, '盤配': 1, '電氣': 1, '現地': 1, '身材': 1, '鞋號': 1, 'secretarial': 1, 'assistance': 1, 'country': 1, 'Main': 1, 'Accountabilities': 1, 'Admin': 1, 'istrative': 1, 'Performs': 1, 'delivering': 1, 'Documentation': 1, 'Researches': 1, 'organization': 1, 'charts': 1, 'correspondence': 1, 'area': 1, 'ensuring': 1, 'shared': 1, 'keeping': 1, 'others': 1, 'date': 1, 'Processes': 1, 'Implements': 1, 'ABB': 1, 'continuous': 1, 'improvement': 1, 'procedures': 1, 'efficiency': 1, 'effectiveness': 1, 'Confidential': 1, 'Acts': 1, 'point': 1, 'contact': 1, 'enquiries': 1, 'phone': 1, 'makes': 1, 'judgments': 1, 'urgency': 1, 'confidential': 1, 'executives': 1, 'ervision': 1, 'Coaches': 1, 'may': 1, 'line': 1, 'junior': 1, 'administration': 1, 'Events': 1, 'Arranges': 1, 'critical': 1, 'events': 1, 'arrangements': 1, 'itineraries': 1, 'accommodation': 1, 'conference': 1, 'visiting': 1, 'speakers': 1, 'Financial': 1, 'monitoring': 1, 'spend': 1, 'raising': 1, 'approving': 1, 'invoices': 1, 'Bachelor': 1, 'SAP': 1, 'logistical': 1, 'independently': 1, 'challenging': 1, 'Troubleshoot': 1, 'deployments': 1, 'Reproduce': 1, 'developers': 1, 'laws': 1, 'rules': 1, 'databases': 1, 'shape': 1, 'proactively': 1, 'willing': 1, 'call': 1, 'rotations': 1, 'depth': 1, 'areas': 1, 'warehouse': 1, 'DR': 1, 'replication': 1, 'cluster': 1, '簽約金': 1, '續簽': 1, '約介': 1, '學分須': 1, '執業': 1, '薪級': 1, '公立': 1, '公職者': 1, '藥品': 1, '藥事': 1, '影本': 1, '郵寄': 1, '科洪坤毅': 1, '退回': 1, '旗山': 1, 'chis': 1, 'mohw': 1, 'gov': 1, '編置': 1, '車隊': 1, '台車': 1, '設計圖': 1, '材料板': 1, 'resolution': 1, 'define': 1, 'Deliver': 1, 'promptly': 1, 'monitor': 1, 'closure': 1, 'desired': 1, 'return': 1, 'approval': 1, 'compensation': 1, 'Resolve': 1, 'suggest': 1, 'disposition': 1, 'Set': 1, 'priority': 1, 'resolved': 1, 'Present': 1, 'glass': 1, 'Promote': 1, 'prioritize': 1, 'according': 1, 'concerns': 1, 'document': 1, 'thorough': 1, 'perspective': 1, 'rational': 1, 'spec': 1, 'setting': 1, 'Find': 1, 'resources': 1, 'channels': 1, 'between': 1, 'bank': 1, 'establishment': 1, 'Establish': 1, 'linkage': 1, 'persons': 1, 'command': 1, 'KT': 1, 'Domestic': 1, '電器': 1, '磁路': 1, '新聞稿': 1, '主責': 1, '旅展': 1, '檢核': 1, 'Quickcad': 1, '策劃': 1, '運營': 1, 'cocos': 1, 'creater': 1, '狀態': 1, '週邊': 1, 'PCBASE': 1, '物流配送': 1, '變化': 1, '競爭力': 1, '關注': 1, '動向': 1, '火鍋店': 1, '演員': 1, '扮演者': 1, '角色': 1, '內用': 1, '一年制': 1, '實習生': 1, 'php': 1, 'jquery': 1, 'bootstrap': 1, 'mysql': 1, 'apache': 1, '路口': 1, '掃瞄': 1, '補摺': 1, '對帳': 1, '禮盒': 1, '談吐好': 1, '本科': 1, '求部': 1, '微電網': 1, '素養': 1, '后以': 1, '細緻': 1, '愛鑽研': 1, '開展': 1, 'Instagram': 1, '發印彩盒': 1, 'ppt': 1, '小樹苗': 1, '茁壯成': 1, '檢視磚': 1, '走線': 1, '碰撞': 1, '缺角': 1, '彙報': 1, '排版': 1, 'PMP': 1, '跟國定': 1, '擺放': 1, '管理性': 1, '郵務': 1, '收發文': 1, '例行性': 1, '房租': 1, '氟碳': 1, '鋁板': 1, '不銹鋼板': 1, '金屬板': 1, '傳產': 1, '無近': 1, '視者': 1, '近視者': 1, '隱型': 1, '眼鏡': 1, 'Pricing': 1, 'Zero': 1, 'Curve': 1, 'Greeks': 1, '市值': 1, 'VaR': 1, '即期': 1, 'SPOT': 1, '遠期': 1, 'Forward': 1, '選擇權': 1, 'Option': 1, 'SWAP': 1, '匯率': 1, '利率': 1, '貨幣': 1, '債券': 1, '交易': 1, '拆借': 1, '計量': 1, 'ops': 1, 'Memory': 1, 'Container': 1, '醫務': 1, '駐廠': 1, 'Issue': 1, 'Selenium': 1, '廚具': 1, '木工': 1, '新創': 1, 'Fintech': 1, 'Reports': 1, 'CEO': 1, '代理商': 1, '消品': 1, 'Consumer': 1, '民生': 1, 'CRM': 1, 'CDP': 1, '有創意': 1, 'xSPA': 1, 'Job': 1, 'aim': 1, 'profits': 1, 'costs': 1, 'Area': 1, 'Responsibility': 1, 'Accountable': 1, 'Retail': 1, 'Profit': 1, 'Loss': 1, 'ervise': 1, 'oversee': 1, 'WD': 1, 'sites': 1, 'replenishment': 1, 'quantity': 1, 'Primary': 1, 'imize': 1, 'VM': 1, 'Formulate': 1, 'Partnership': 1, 'training': 1, 'train': 1, 'coach': 1, 'mystery': 1, 'shopper': 1, 'Closely': 1, 'Planning': 1, 'Allocation': 1, 'Buying': 1, 'Manager': 1, 'abreast': 1, 'property': 1, 'result': 1, 'Intelligent': 1, 'accurate': 1, 'Monitor': 1, 'monthly': 1, 'target': 1, 'inform': 1, 'Update': 1, 'perform': 1, 'POS': 1, 'relation': 1, 'frequent': 1, 'leaders': 1, 'Budget': 1, 'workforce': 1, 'incentive': 1, 'smooth': 1, 'daily': 1, 'basis': 1, 'interim': 1, 'defect': 1, 'clearance': 1, 'procedure': 1, 'per': 1, 'apply': 1, 'sound': 1, 'acumen': 1, 'principles': 1, 'Always': 1, 'bright': 1, 'Being': 1, 'effectively': 1, 'Organized': 1, 'planners': 1, 'troubleshooters': 1, 'mentally': 1, 'tough': 1, 'deal': 1, 'variations': 1, '理貨具': 1, '理貨佳': 1, '材質': 1, '古屋': 1, '調遣': 1, '案實': 1, '解讀': 1, '深度': 1, '配給': 1, '發料': 1, '儲位': 1, '供應': 1, '乙種': 1, '水匠': 1, '甲乙': 1, '身心障礙': 1, '分條機': 1, '依案': 1, '數日': 1, '判讀': 1, 'SAVE': 1, '民間': 1, '修理': 1, '廠拜訪': 1, '油卡': 1, '勞動部': 1, '節目帶': 1, '外景': 1, '訪問': 1, '花絮': 1, '傳播': 1, 'Edius': 1, 'VisTitle': 1, 'Effect': 1, 'ertek': 1, 'offers': 1, 'unique': 1, 'fosters': 1, 'teamwork': 1, 'growth': 1, 'seeking': 1, 'energetic': 1, 'professional': 1, 'Operations': 1, 'This': 1, 'autonomous': 1, 'creates': 1, 'communicates': 1, 'clients': 1, 'get': 1, 'assignments': 1, 'accomplished': 1, 'contacts': 1, 'inside': 1, 'engineers': 1, 'r': 1, 'act': 1, 'proactive': 1, 'liaison': 1, 'personnel': 1, 'regular': 1, 'dates': 1, 'completion': 1, 'CTB': 1, 'confirmation': 1, 'meets': 1, 'deman': 1, 'liabilities': 1, 'retrieve': 1, 'PO': 1, 'applicable': 1, 'excess': 1, 'obsolete': 1, 'plans': 1, 'falls': 1, 'short': 1, 'demand': 1, 'actively': 1, 'retrieving': 1, 'Over': 1, 'electronics': 1, 'Prior': 1, 'FATP': 1, 'Module': 1, 'Hardware': 1, 'Detail': 1, 'quotation': 1, 'Travel': 1, 'Amount': 1, 'Demonstrated': 1, 'Persistent': 1, 'deadline': 1, 'strongly': 1, 'Available': 1, 'China': 1, 'necessary': 1, '特定': 1, '保存': 1, '財會': 1, '旅客': 1, '走動式': 1, '客務部': 1, '職涯': 1, '展覽': 1, '入檔': 1, '保管': 1, '系統性': 1, '人手不足': 1, '助成物': 1, '去背': 1, 'illustrator': 1, 'photoshop': 1, '辦公': 1, '字卡': 1, '雜誌': 1, '自攜帶': 1, '油漆': 1, '手續': 1, '房帳': 1, '疑難雜症': 1, '食譜': 1, '錄影': 1, '兼差': 1, '打工': 1, 'Apple': 1, 'Final': 1, 'Cut': 1, 'ProX': 1, 'Lightroom': 1, '中西': 1, '輪職': 1, '擬訂': 1, 'ig': 1, '短片': 1, '操具': 1, '電子報': 1, 'EDM': 1, '配製': 1, '並肯': 1, '錄製': 1, 'Youtube': 1, '創造力': 1, '相簿': 1, '部落格': 1, '威力': 1, '導演': 1, 'Innovation': 1, 'launch': 1, 'aign': 1, 'aigns': 1, 'aligned': 1, 'PR': 1, 'media': 1, 'creative': 1, 'Brand': 1, 'JTBD': 1, 'Jobs': 1, 'Done': 1, 'BMP': 1, 'next': 1, 'Category': 1, 'skin': 1, 'insights': 1, 'PCS': 1, 'sensitive': 1, 'competitor': 1, 'dynamics': 1, 'Internal': 1, 'Act': 1, 'owner': 1, 'internally': 1, 'External': 1, 'Connect': 1, 'Rafra': 1, 'asset': 1, 'yrs': 1, 'MKT': 1, 'exp': 1, 'Skin': 1, '良率': 1, '委託': 1, '債權': 1, '內勤': 1, '整貨': 1, '點收': 1, '原物料': 1, '小客車': 1, '及學識': 1, 'Western': 1, 'blot': 1, 'IHC': 1, 'ELISA': 1, '蛋白': 1, 'TS': 1, 'IATF': 1, '推演': 1, '解析': 1, '損失': 1, '備貨': 1, '分工合作': 1, '工讀生': 1, '制訂': 1, '薪酬': 1, '熟飛騰': 1, 'HR': 1, '缺失': 1, '研擬': 1, '汰換': 1, '申購': 1, '增設': 1, '工業': 1, '缺氧': 1, '全天候': 1, '機動': 1, '待命': 1, '及動員': 1, '之管線': 1, '閘閥': 1, '分佈': 1, '下能': 1, '房間': 1, '收款': 1, '核帳': 1, '行李': 1, '泊車': 1, 'LTE': 1, '產線': 1, '禮俗': 1, '上機': 1, '調模': 1, '需可日': 1, '前製': 1, '主輔料': 1, '大貨': 1, '授課': 1, '教練': 1, '談判': 1, '交涉': 1, '機房': 1, '轉調': 1, '居住地': 1, '以新北市': 1, '出國': 1, '寄貨': 1, '徵才': 1, '彩妝': 1, '後台': 1, '韓文': 1, 'EDIUS': 1, 'PHOT': 1, 'HOP': 1, 'ILLASTRATOR': 1, 'AFTER': 1, 'EFFECT': 1, '炮爐': 1, '自助式': 1, 'ktv': 1, '小費': 1, '收錢': 1, 'architecture': 1, 'exploration': 1, 'calibration': 1, 'acoustic': 1, 'Implement': 1, 'real': 1, 'denoise': 1, 'beamforming': 1, 'ASR': 1, 'low': 1, 'power': 1, 'Introduce': 1, 'deep': 1, 'approaches': 1, 'video': 1, 'Matlab': 1, 'digital': 1, 'vision': 1, 'machine': 1, 'Collaborative': 1, 'positive': 1, 'min': 1, 'et': 1, '繕打': 1, '英語': 1, '測量儀器': 1, '尺規': 1, '禁菸': 1, '未抽菸': 1, '主機板': 1, '美體': 1, '體雕': 1, '瘦身': 1, '示範': 1, '來信': 1, '追朔': 1, '稽查': 1, '排程': 1, '機架模': 1, '將所': 1, '率時': 1, '領班': 1, '進入': 1, '房務': 1, '開夜': 1, '班型': 1, '線索': 1, '門窗': 1, '警報器': 1, '警鈴': 1, '器畫': 1, '面監': 1, '水刀': 1, '熟識': 1, '派單': 1, '店務成': 1, '調撥員': 1, '頒布': 1, '供貨': 1, '業成': 1, '專才者': 1, '噸半': 1, '貨車': 1, '染料': 1, '打色': 1, '配色': 1, '化驗': 1, '並無登錄': 1, '它案': 1, '高職': 1, 'library': 1, 'methodology': 1, 'mass': 1, 'Standard': 1, 'characterization': 1, 'Optimize': 1, '電子廠': 1, 'BGA': 1, 'RAY': 1, '跨單位': 1, '判斷': 1, '風趣': 1, '保健': 1, '農畜': 1, '策盟': 1, '策略性': 1, '需有植': 1, 'Switch': 1, 'Firewall': 1, 'Load': 1, 'balancer': 1, 'developer': 1, 'complete': 1, 'web': 1, 'deployment': 1, 'Write': 1, 'formulate': 1, 'documents': 1, 'various': 1, 'construction': 1, 'openSSL': 1, 'cryptographic': 1, 'certificate': 1, 'Ubuntu': 1, 'series': 1, 'Cisco': 1, 'Juniper': 1, 'Fortinet': 1, 'Paloalto': 1, 'servers': 1, 'Ansible': 1, 'SLB': 1, 'NLB': 1, 'iRules': 1, 'icinga': 1, 'tuning': 1, 'Par': 1, 'EQL': 1, 'NetApp': 1, 'HSM': 1, 'devices': 1, 'GCP': 1, 'cloud': 1, 'Log': 1, 'collector': 1, 'ELK': 1, 'Greylog': 1, 'Splunk': 1, '領導者': 1, '營收': 1, '數位化': 1, '改變': 1, 'APP': 1, 'maven': 1, 'spring': 1, 'hibernate': 1, 'tomcat': 1, 'linux': 1, 'redis': 1, 'memcached': 1, 'quartz': 1, 'log': 1, 'j': 1, 'lab': 1, '實踐過': 1, '代理': 1, '電子支付': 1, '印刷品': 1, '裝盒': 1, '紙盒': 1, '職責': 1, 'Aruba': 1, 'Ruckus': 1, 'Fortigate': 1, '售前': 1, '導向': 1, '驅控': 1, '車廠': 1, '談吐佳': 1, '小型車': 1, '油壓': 1, '氣壓': 1, '約診': 1, '病歷': 1, '術前': 1, '術後照': 1, '側拍': 1, 'Site': 1, 'measurement': 1, 'Equipment': 1, 'Space': 1, 'Document': 1, 'submit': 1, 'Revision': 1, 'Paper': 1, 'CAM': 1, '自排': 1, '資生堂': 1, '哥德式': 1, '美髮': 1, '客來': 1, '組版': 1, '製版': 1, '出版': 1, '通信': 1, 'General': 1, 'aspects': 1, 'finished': 1, 'order': 1, 'going': 1, 'optimum': 1, 'Monitors': 1, 'analyzes': 1, 'economic': 1, 'purchased': 1, 'competitive': 1, 'Position': 1, 'Summary': 1, 'Expectations': 1, 'commodity': 1, 'Continuously': 1, 'enhance': 1, 'purchasing': 1, 'strategic': 1, 'Purchase': 1, 'involves': 1, 'variety': 1, 'responsibilities': 1, 'researching': 1, 'catalog': 1, 'comparing': 1, 'locating': 1, 'items': 1, 'negotiating': 1, 'reps': 1, 'performing': 1, 'alternative': 1, 'most': 1, 'favorable': 1, 'terms': 1, 'Follows': 1, 'expedite': 1, 'shipment': 1, 'credits': 1, 'replacements': 1, 'handled': 1, 'Department': 1, 'close': 1, 'discrepancy': 1, 'corrective': 1, 'Participate': 1, 'contract': 1, 'involving': 1, 'material': 1, 'evaluations': 1, 'visits': 1, 'statements': 1, 'audits': 1, 'users': 1, 'while': 1, 'minimizing': 1, 'risk': 1, 'maximizing': 1, 'Participates': 1, 'introduction': 1, 'concurrent': 1, 'savings': 1, 'efforts': 1, 'Frequently': 1, 'interact': 1, 'individuals': 1, 'executive': 1, 'positions': 1, 'organizations': 1, 'consults': 1, 'problems': 1, 'requiring': 1, 'judgment': 1, 'tact': 1, 'develops': 1, 'Company': 1, 'Code': 1, 'Ethics': 1, 'Guidelines': 1, 'Purchasing': 1, 'Policies': 1, 'Procedures': 1, 'legal': 1, 'ethical': 1, 'practices': 1, 'Demonstrate': 1, 'broad': 1, 'Procurement': 1, 'objectives': 1, 'drives': 1, 'met': 1, 'BA': 1, 'practical': 1, 'verbal': 1, 'findings': 1, 'structured': 1, 'Significant': 1, 'diverse': 1, 'tooling': 1, 'Knowing': 1, 'mechnicial': 1, 'pc': 1, 'components': 1, 'assembly': 1, 'Advanced': 1, '產婦': 1, '基石': 1, '工務性質': 1, '飾材': 1, '創作': 1, '兒童': 1, '交流': 1, '教課': 1, '及才藝': 1, '餐單': 1, '管理工作': 1, '切菜': 1, '配菜': 1, 'AMADA': 1, '折床': 1, '品味': 1, '眼光': 1, '挑布': 1, '造型': 1, '驗証': 1, 'UML': 1, 'OA': 1, '競品': 1, '美妝': 1, '行事曆': 1, '喜慶': 1, '品等': 1, '樣衣': 1, '排訂': 1, '交通費': 1, '嬰兒': 1, '身體': 1, '產婦育': 1, '沐浴': 1, '防止': 1, '檢點': 1, '含新': 1, '機入': 1, '品入': 1, '危害性': 1, '含新進': 1, '器材': 1, '消防器材': 1, '案例': 1, '通報': 1, '機具': 1, '呈報': 1, '空氣污染': 1, '防治': 1, '清除': 1, '保單': 1, '保險費': 1, '欄位': 1, '紀載': 1, '調教': 1, '間備': 1, '及公做': 1, '收送': 1, '匯整': 1, '撤櫃': 1, '紡紗': 1, '備製': 1, '西點': 1, '蛋糕': 1, '存檔': 1, '交貨期': 1, '菌種室': 1, '微生物': 1, '發酵槽': 1, '發酵': 1, '產物': 1, '觀察': 1, 'GMP': 1, '換班': 1, '計入': 1, '比照': 1, '進廠': 1, '內裝': 1, '鍍膜': 1, '魚貨': 1, '壽司': 1, '內務': 1, '日本料理': 1, '調達': 1, '年後會': 1, '報價單': 1, '關聯': 1, '美洲': 1, '中東': 1, '頻繁': 1, '用英': 1, '法定': 1, '男性': 1, '子女教育': 1, '前後發放': 1, 'rcntw': 1, 'jobs': 1, 'search': 1, '初級': 1, '會戶': 1, 'TOEIC': 1, '應酬': 1, '日商': 1, '套版': 1, '指令': 1, 'UX': 1, '室外': 1, '水系統': 1, '電線': 1, '照明': 1, '家電': 1, '廚衛': 1, '食包': 1, '食安': 1, '評鑑': 1, 'ERP': 1, '議與': 1, '並他': 1, 'Cross': 1, 'simulation': 1, 'heat': 1, 'natural': 1, 'forced': 1, 'convection': 1, 'active': 1, 'passive': 1, 'tests': 1, 'during': 1, 'stage': 1, 'meet': 1, 'targets': 1, '動機': 1, '熱流': 1, '組者': 1, '論文': 1, '研究所': 1, 'Fortran': 1, '散熱': 1, '熱傳學': 1, '工人': 1, '建造': 1, '承包商': 1, '商量': 1, '檢閱': 1, '遵守': 1, '章程': 1, 'PT': 1, '薩人': 1, '療法': 1, '翅膀': 1, '豐滿': 1, '體味': 1, '脊柱': 1, '舊傷': 1, '彩繪師': 1, '青成': 1, '伯樂': 1, '任由': 1, '揮灑': 1, '擅用': 1, '企劃書': 1, '兼容': 1, '就讀': 1, '動畫': 1, '上線': 1, '發佈': 1, 'MIS': 1, 'Win': 1, 'Mac': 1, '無線': 1, 'DBA': 1, 'RDS': 1, 'Aurora': 1, '主修': 1, '數學': 1, '商管': 1, '海空': 1, '交期': 1, '裝櫃': 1, 'CA': 1, '比對': 1, '帳冊': 1, '調閱': 1, '車床': 1, '磨床': 1, '放電': 1, '射出': 1, '原理': 1, '輔銷物': 1, '監測': 1, '直屬': 1, '宿舍': 1, 'SUKIYA': 1, '轉赴海': 1, '複數': 1, 'Trainee': 1, '升等': 1, '工作鞋': 1, '電影': 1, '補助金': 1, '租屋': 1, '採溝': 1, '估驗': 1, '承商': 1, '清圖': 1, 'timing': 1, 'controller': 1, 'panel': 1, 'functions': 1, 'algorithm': 1, 'MOBILE': 1, '觸控': 1, 'TDDI': 1, '指紋': 1, 'MCU': 1, 'Digital': 1, 'EDA': 1, 'coding': 1, '掛牌': 1, '顧戶': 1, '禮儀': 1, '店內外': 1, '後勤': 1, '幕前': 1, '區澄': 1, '觀路': 1, 'AUTO': 1, '之訂購': 1, '抽成': 1, 'view': 1, 'PD': 1, 'Programmer': 1, '主流': 1, 'know': 1, '擅長將': 1, '為靜態': 1, '稱為': 1, '還會用': 1, 'Pug': 1, 'Scss': 1, '涉獵': 1, '求取': 1, '用過': 1, '露天': 1, '拍賣': 1, 'Net': 1, 'Framework': 1, '校驗': 1, 'ICP': 1, 'XRF': 1, 'socket': 1, 'golang': 1, 'Queue': 1, 'NGINX': 1, 'shell': 1, 'script': 1, '開源': 1, '特質': 1, 'non': 1, 'beverages': 1, 'restaurant': 1, 'patrons': 1, 'Interact': 1, 'serve': 1, 'snacks': 1, 'drinks': 1, 'Assess': 1, 'preferences': 1, 'recommendations': 1, 'Mix': 1, 'ingredients': 1, 'cocktails': 1, 'present': 1, 'menu': 1, 'Restock': 1, 'replenish': 1, 'plies': 1, 'nurture': 1, 'Comply': 1, 'food': 1, 'beverage': 1, '之初': 1, '純熟': 1, '精湛': 1, '版圖': 1, '董事長': 1, '客座': 1, '代價': 1, '來台': 1, '契合': 1, '燒烤': 1, '行館': 1, '週年': 1, '創立': 1, '高級': 1, '著名': 1, 'Yasumichi': 1, 'Morita': 1, 'Ukai': 1, '精雕': 1, '琢成': 1, '窗景': 1, '俯瞰': 1, '美景': 1, '蜿蜒': 1, '姿態': 1, 'Motul': 1, '油品': 1, '潤滑油': 1, '代步': 1, '滑劑': 1, '選購': 1, '檔次': 1, '點子': 1, '說出': 1, '冒險': 1, '飲黃湯': 1, '交給': 1, 'bnyFx': 1, 'linkedin': 1, 'Kad': 1, 'rW': 1, 'Redux': 1, 'unit': 1, 'Single': 1, 'Page': 1, 'Application': 1, 'performace': 1, 'node': 1, 'redux': 1, 'JQuery': 1, 'jest': 1, 'Auto': 1, '速成': 1, '轉型繼': 1, '第二支': 1, '購不僅': 1, '優勢': 1, '到家': 1, '招兵': 1, '買馬': 1, 'YouTube': 1, 'Line': 1, '廣及': 1, '小編': 1, '為運': 1, '整季': 1, '回樣': 1, '試穿': 1, '布料': 1, '模特兒': 1, '備註': 1, '務實且': 1, '義又能': 1, '題有': 1, '明怡': 1, '非營利': 1, '扁平': 1, '探索': 1, '跨領域': 1, '精采': 1, '為共創': 1, 'Lean': 1, 'Start': 1, '專長': 1, '設限': 1, 'thinking': 1, 'prototyping': 1, 'fit': 1, '奠定': 1, '改褲': 1, '電容': 1, '則做': 1, '純水': 1, '再生水': 1, '回收水': 1, '打帶': 1, '土木工程': 1, '水利工程': 1, '全社': 1, 'DM': 1, 'POP': 1, '眉睫': 1, '交接': 1, '部落客': 1, '緣故': 1, 'JSP': 1, '接待工作': 1, '訂桌': 1, '腳踏車': 1, '院所': 1, '憑據': 1, '監理': 1, '所旁': 1, 'CITYLINK': 1, '環球': 1, '一塵': 1, '樹苗': 1, '人工智慧': 1, 'Pytorch': 1, 'Tensorflow': 1, 'Keras': 1, 'Caffe': 1, 'mxnet': 1, 'Chainer': 1, '機器學習': 1, 'ONNX': 1, 'Runtime': 1, 'OpenVINO': 1, 'WinML': 1, '射頻': 1, '佈局': 1, '備貨量': 1, '庫存量': 1, '購量': 1, '樣板': 1, '圖像': 1, '構成': 1, 'Animate': 1, 'cc': 1, '僅用': 1, '隨線': 1, '制作': 1, '換線': 1, 'Feeder': 1, '審閱': 1, '商標': 1, '來訊': 1, '車體': 1, 'AUTOCAD': 1, 'CREO': 1, '圖形': 1, 'D圖面': 1, '早中班': 1, '早中晚': 1, '熔壓': 1, '車台': 1, '油箱': 1, '縫焊': 1, '塗裝': 1, '噴塗': 1, '車架': 1, '製品': 1, '需耐熱': 1, '揀貨': 1, '重機': 1, '駕駛': 1, '電動車': 1, '科等': 1, '成績單': 1, '需載明': 1, '操行': 1, 'XP': 1, '表排': 1, '膳食': 1, '到職': 1, '警用': 1, '公部門': 1, '高清': 1, 'NVR': 1, 'ip': 1, 'cam': 1, '機關': 1, 'Newegg': 1, 'NEW': 1, 'EGG': 1, 'lence': 1, '萬注冊': 1, '社交': 1, '訂閱': 1, '爆炸式': 1, '增長': 1, '培植': 1, '跨國': 1, 'Recruit': 1, 'grow': 1, 'targeting': 1, 'Global': 1, 'Expand': 1, 'categories': 1, 'explore': 1, 'seller': 1, 'Sellers': 1, 'research': 1, 'escalate': 1, 'relations': 1, 'Effectively': 1, 'cross': 1, 'scalable': 1, 'promotions': 1, 'GMV': 1, 'Minimum': 1, 'qualifications': 1, 'Seller': 1, 'Capability': 1, 'al': 1, 'adapt': 1, 'motivate': 1, 'personal': 1, 'career': 1, 'path': 1, 'player': 1, 'enjoy': 1, 'fast': 1, 'paced': 1, 'ambience': 1, 'sense': 1, 'savvy': 1, '規格書': 1, 'Ex': 1, 'RESTful': 1, '知能': 1, '信心': 1, '價格': 1, '核算': 1, '基本概念': 1, 'FPGA': 1, '面板': 1, '資科': 1, '醫勤': 1, '化工': 1, '年後可': 1, '淨化': 1, '日誌': 1, '污染': 1, '空氣': 1, '汙泥': 1, '訂期': 1, '環保': 1, '口試': 1, '個資': 1, 'CISSP': 1, 'SSCP': 1, 'CCSP': 1, 'CISA': 1, 'CISM': 1, 'ECIH': 1, '主導': 1, 'Auditor': 1, 'bankchb': 1, 'frontend': 1, 'mash': 1, 'funcId': 1, 'f': 1, 'ddf': 1, '皮件': 1, '夏季': 1, '電路板': 1, '目視': 1, 'pcb': 1, '盤飾': 1, '搜尋': 1, 'FORE': 1, 'Restaurant': 1, '膠合封邊帶': 1, '板料': 1, '肯學': 1, '合建': 1, '都更': 1, '轉移': 1, '簽訂': 1, '建照': 1, '講授': 1, '教科書': 1, '教具': 1, '試題': 1, '歷屆': 1, '課業': 1, '班主任': 1, '指定': 1, '裙襬': 1, '主持人': 1, '禮服': 1, '物擺設': 1, 'Alibaba': 1, 'Cloud': 1, '串流': 1, '熱處理': 1, '新材質': 1, '專用機': 1, '研磨': 1, 'GreenBox': 1, '農民': 1, '挖掘': 1, '寫作': 1, '罐頭': 1, '刪除': 1, '觀光': 1, '文學': 1, '論壇': 1, '文筆': 1, '或遊記': 1, '博碩士生': 1, '藝文素': 1, '養佳': 1, '正規': 1, '西菜': 1, '餐前湯': 1, '前菜': 1, '主菜': 1, '冷凍庫': 1, '孩童': 1, '園長': 1, '園園': 1, '聽書讀': 1, '幼教': 1, '訂位': 1, '相片': 1, '美化': 1, '机電': 1, '園區': 1, '工項': 1, '操作者': 1, '住戶': 1, '費收繳': 1, '案點': 1, '各案點': 1, '物業': 1, '海報': 1, '標示語': 1, '科專': 1, '評核者': 1, '交車期': 1, '試乘車': 1, '俱佳': 1, '次要': 1, '通報並': 1, '物性': 1, '工單': 1, '備查': 1, '循環': 1, '推銷': 1, '中文': 1, '客服部': 1, '推播': 1, '函數': 1, '英打': 1, '口譯': 1, 'Exchange': 1, 'Sharepoint': 1, 'troubleshooting': 1, 'NAS': 1, 'EMail': 1, 'Laptop': 1, 'FTP': 1, 'techniques': 1, 'Director': 1, 'provision': 1, 'andI': 1, 'commuication': 1, 'RD': 1, 'device': 1, 'capability': 1, 'speaking': 1, 'writng': 1, 'nm': 1, 'prefered': 1, '存貨': 1, '智慧型': 1, '相機': 1, '液晶': 1, '帶客': 1, '入座': 1, '健談': 1, '外語': 1, 'driver': 1, '帶回': 1, '評選': 1, '共舞': 1, '花草': 1, '支點': 1, '裡遨遊': 1, '氣質': 1, '市集': 1, '空想': 1, 'TOWN': 1, '首座': 1, '立體': 1, '局勢': 1, '大汐': 1, '科地標': 1, '高科技': 1, '黃金': 1, '廊道': 1, '地段': 1, '辦千萬': 1, '愈大': 1, '遠雄千萬星': 1, '資歷': 1, '大激勵': 1, '為百萬': 1, '預銷': 1, '結案': 1, '士氣': 1, '從案': 1, '籌備': 1, '邏輯性': 1, '張老師': 1, '月刊': 1, '簽署': 1, '旅行團': 1, '講座': 1, '兩首': 1, '曲子': 1, '插電': 1, '作曲': 1, '歌唱': 1, '演奏家': 1, '產量': 1, '當完兵': 1, '搬重': 1, '羽球': 1, '爽團': 1, '協商': 1, '圖審': 1, '勘查': 1, '調機': 1, '廠驗': 1, '交機': 1, '組件': 1, '手排車': 1}\n"
     ]
    }
   ],
   "source": [
    "# 建立stopwords用: 顯示字詞頻率，將不適合的字放入stopwords\n",
    "\n",
    "dict_words_frequency = {}\n",
    "\n",
    "for i in lst_jobdata[0:500]: # 取500筆展示效果\n",
    "    data = concate_clean_data(i)\n",
    "    if data != None:\n",
    "        \n",
    "        # 使用結巴斷詞\n",
    "        lst_seg = jieba_cut(data)\n",
    "        \n",
    "        # 計算斷詞出現頻率\n",
    "        for i in lst_seg:\n",
    "            if i not in dict_words_frequency:\n",
    "                dict_words_frequency[i] = 1\n",
    "            else:\n",
    "                dict_words_frequency[i] += 1\n",
    "\n",
    "dict_words_frequency = {k: v for k, v in sorted(dict_words_frequency.items(), key=lambda item: item[1], reverse=True)}\n",
    "\n",
    "print(dict_words_frequency) "
   ]
  },
  {
   "cell_type": "markdown",
   "metadata": {},
   "source": [
    "## 4. 顯示使用stopwords之後的斷詞結果"
   ]
  },
  {
   "cell_type": "markdown",
   "metadata": {},
   "source": [
    "顯示兩筆處理後效果"
   ]
  },
  {
   "cell_type": "code",
   "execution_count": 15,
   "metadata": {},
   "outputs": [
    {
     "name": "stdout",
     "output_type": "stream",
     "text": [
      "介紹/銷售/商品/顧客/接待/服務/電話/諮詢/調貨/包裝/退換貨/商品/進貨/入庫/銷售/管理/庫存/管理/商品/包裝/陳列/促銷品/換檔/維持/店櫃/週遭/整潔/提升/業績/淑女/服飾/銷售/服務/門市/店員/專櫃\n",
      "==============================\n",
      "傢俱/連鎖/事業/系統/傢俱/設計/制度/多元/發展/事業/業務/設計/銷售/系統/傢俱/業主/系統/介紹/工地丈量/繪圖/監工/業主/服務/走向/專業/發展/設計/交通工具/業務\n",
      "==============================\n"
     ]
    }
   ],
   "source": [
    "for i in lst_jobdata[0:2]:\n",
    "    data = concate_clean_data(i)\n",
    "    if data != None:\n",
    "        \n",
    "        # 使用結巴斷詞\n",
    "        lst_seg = jieba_cut(data)\n",
    "        \n",
    "        # 顯示斷詞結果    \n",
    "        str_result = '/'.join(lst_seg)\n",
    "        print(str_result)\n",
    "        print(\"=\"*30)"
   ]
  },
  {
   "cell_type": "markdown",
   "metadata": {},
   "source": [
    "## 5. 將結果寫入JSON檔"
   ]
  },
  {
   "cell_type": "code",
   "execution_count": 16,
   "metadata": {},
   "outputs": [],
   "source": [
    "import json"
   ]
  },
  {
   "cell_type": "code",
   "execution_count": 17,
   "metadata": {},
   "outputs": [],
   "source": [
    "def dump_json_file(query_dict, file_name):\n",
    "    dumped_json_cache = json.dumps(query_dict)\n",
    "    fw = open(file_name,\"w\")\n",
    "    fw.write(dumped_json_cache)\n",
    "    fw.close()\n",
    "    print('successfully write down the file: ', file_name)"
   ]
  },
  {
   "cell_type": "code",
   "execution_count": 18,
   "metadata": {},
   "outputs": [
    {
     "name": "stdout",
     "output_type": "stream",
     "text": [
      "successfully write down the file:  json_data/JobDescription_Clean.json\n"
     ]
    }
   ],
   "source": [
    "dump_json_file(lst_jobdata, 'json_data/JobDescription_Clean.json')"
   ]
  }
 ],
 "metadata": {
  "kernelspec": {
   "display_name": "Python 3",
   "language": "python",
   "name": "python3"
  },
  "language_info": {
   "codemirror_mode": {
    "name": "ipython",
    "version": 3
   },
   "file_extension": ".py",
   "mimetype": "text/x-python",
   "name": "python",
   "nbconvert_exporter": "python",
   "pygments_lexer": "ipython3",
   "version": "3.7.6"
  }
 },
 "nbformat": 4,
 "nbformat_minor": 4
}
