{
 "cells": [
  {
   "cell_type": "markdown",
   "metadata": {},
   "source": [
    "# 利用BOW, Naive Bayes, 建立文檔分類模型，並儲存模型 \n",
    "\n",
    "包含下列步驟 (使用 scikit-learn)\n",
    "> 1. 建立 詞袋(BOW) by CountVectorizer \n",
    "\n",
    "> 2. 建立 ML model\n",
    "\n",
    "> 3. 利用 GridSearchCV 尋找最佳參數\n",
    "\n",
    "> 4. 嘗試使用 TfidfVectorizer，比較效果\n",
    "\n",
    "> 5. 顯示模型結果: Confusion Matrix\n",
    "\n",
    "> 6. 顯示模型結果: Classification Report"
   ]
  },
  {
   "cell_type": "markdown",
   "metadata": {},
   "source": [
    "#### 效果展示\n",
    "\n",
    "1. 訓練資料樣式: <br>\n",
    "    Label:  客服╱門市╱業務╱貿易類 <br>\n",
    "    Content: 介紹 銷售 商品 顧客 接待 服務 電話 諮詢 調貨 包裝 退換貨 商品 進貨 入庫 銷售 管理 庫存 管理 商品 包裝 陳列 促銷品 換檔 維持 店櫃 週遭 整潔 提升 業績 淑女 服飾 銷售 服務 門市 店員 專櫃 Windows Outlook\n",
    "<br><br>\n",
    "2. 訓練 MultinomialNB model (Naive Bayes多分類模型) ， GridSearchCV 得到的最佳參數 Alpha = 0.1\n",
    "<br><br>\n",
    "3. 使用 CountVectorizer 的 accuracy : 0.8353739939733761 <br>\n",
    "   使用 TfidfVectorizer 的 accuracy : 0.8451767936834879 <br>\n",
    "   -> TfidfVectorizer 效果比較好一點，大致上差不多"
   ]
  },
  {
   "cell_type": "markdown",
   "metadata": {},
   "source": [
    "## 1. read Job data from MongoDB (data after Jieba)"
   ]
  },
  {
   "cell_type": "code",
   "execution_count": 21,
   "metadata": {},
   "outputs": [],
   "source": [
    "import pymongo\n",
    "from secrets import HOST"
   ]
  },
  {
   "cell_type": "code",
   "execution_count": 22,
   "metadata": {},
   "outputs": [],
   "source": [
    "def mongo_select_jobs(): \n",
    "    \n",
    "    global mycol\n",
    "    client = pymongo.MongoClient(HOST) \n",
    "\n",
    "    db = client['jieba_clean'] \n",
    "    mycol = db['job_clean'] \n",
    "\n",
    "    data = mycol.find({},{'_id':0}) # get data from mongoDB\n",
    "    \n",
    "    output = [i for i in data]\n",
    "    \n",
    "    return output"
   ]
  },
  {
   "cell_type": "code",
   "execution_count": 23,
   "metadata": {},
   "outputs": [],
   "source": [
    "job_data = mongo_select_jobs()"
   ]
  },
  {
   "cell_type": "code",
   "execution_count": 24,
   "metadata": {},
   "outputs": [
    {
     "name": "stdout",
     "output_type": "stream",
     "text": [
      "所有資料數量:  131083\n"
     ]
    }
   ],
   "source": [
    "print('所有資料數量: ', len(job_data))"
   ]
  },
  {
   "cell_type": "code",
   "execution_count": 25,
   "metadata": {
    "scrolled": true
   },
   "outputs": [],
   "source": [
    "# 將數據儲存成模型訓練用 list\n",
    "lst_job_cat = [i['jobCat_main'] for i in job_data]\n",
    "lst_jobs = [' '.join(i['jobDescription_concate_jieba'][0]) for i in job_data]"
   ]
  },
  {
   "cell_type": "markdown",
   "metadata": {},
   "source": [
    "顯示2筆訓練資料樣式"
   ]
  },
  {
   "cell_type": "code",
   "execution_count": 26,
   "metadata": {},
   "outputs": [
    {
     "name": "stdout",
     "output_type": "stream",
     "text": [
      "Label:  客服╱門市╱業務╱貿易類\n",
      "介紹 銷售 商品 顧客 接待 服務 電話 諮詢 調貨 包裝 退換貨 商品 進貨 入庫 銷售 管理 庫存 管理 商品 包裝 陳列 促銷品 換檔 維持 店櫃 週遭 整潔 提升 業績 淑女 服飾 銷售 服務 門市 店員 專櫃 Windows Outlook\n",
      "====================\n",
      "Label:  客服╱門市╱業務╱貿易類\n",
      "傢俱 連鎖 事業 系統 傢俱 設計 制度 多元 發展 事業 業務 設計 銷售 系統 傢俱 業主 系統 介紹 工地丈量 繪圖 監工 業主 服務 走向 專業 發展 設計 交通工具 業務人員 客戶 資料 維護 業務 通路開發 業績 分配 Excel Word\n",
      "====================\n"
     ]
    }
   ],
   "source": [
    "for i, j in list(zip(lst_job_cat, lst_jobs))[0:2]:\n",
    "    print('Label: ', i)\n",
    "    print(j)\n",
    "    print('='*20)"
   ]
  },
  {
   "cell_type": "markdown",
   "metadata": {},
   "source": [
    "## 4. 建立Bag of Words (BOW)，將文本轉換為稀疏矩陣"
   ]
  },
  {
   "cell_type": "markdown",
   "metadata": {},
   "source": [
    "使用CountVectorizer"
   ]
  },
  {
   "cell_type": "code",
   "execution_count": 27,
   "metadata": {},
   "outputs": [],
   "source": [
    "from sklearn.feature_extraction.text import CountVectorizer\n",
    "import pickle"
   ]
  },
  {
   "cell_type": "code",
   "execution_count": 28,
   "metadata": {},
   "outputs": [],
   "source": [
    "# 參數min_df=5表示詞必須要在至少5個文檔中出現過，否則就不考慮。\n",
    "# 限制特徵值上限10000來降低維度\n",
    "vect = CountVectorizer(min_df=10, stop_words=\"english\", max_features=10000).fit(lst_jobs)\n",
    "transform_content = vect.transform(lst_jobs) "
   ]
  },
  {
   "cell_type": "code",
   "execution_count": 29,
   "metadata": {},
   "outputs": [],
   "source": [
    "# 儲存 CountVectorizer 模型 \n",
    "# pickle.dump(vectorizer, open(\"model/vectorizer.pickel\", \"wb\"))"
   ]
  },
  {
   "cell_type": "code",
   "execution_count": 30,
   "metadata": {
    "scrolled": true
   },
   "outputs": [
    {
     "name": "stdout",
     "output_type": "stream",
     "text": [
      "length of features:\n",
      "10000\n",
      "Show 100 features:\n",
      "['引擎', '引擎分析儀', '引擎室', '引流', '引發', '引薦', '引進', '弱勢', '弱勢者', '張貼', '強制', '強項', '彌月', '彙報', '彙整', '彙編', '彙總', '形態', '形成', '形象', '彩券', '彩妝', '彩繪', '彩繪師', '彩色', '影像', '影像處理', '影印', '影印本', '影城', '影本', '影片', '影視', '影音', '待人接物', '待命', '待客', '待客之道', '待辦', '待過', '律師', '後勤', '後台', '後場', '後將', '後期', '後端', '後線人員', '後製', '後製作業', '後須', '得心應手', '得獎', '得體', '從業人員', '復健', '復健科', '復健醫學', '循環', '微信', '微博', '微控制器', '微整', '微機電', '微波', '微波爐', '微生物', '微調', '微軟', '徵人', '徵信', '徵信社', '徵審', '徵才', '徵授信', '徵收', '徵聘', '徵象', '徵選', '德南', '德安飯店', '德文', '心理', '心理學', '心理師', '心臟', '心血管', '心電圖', '忍受', '志工', '志業', '快取', '快餐', '思考', '思路', '思辨', '急件', '急性', '急救箱', '急用']\n"
     ]
    }
   ],
   "source": [
    "# 查看稀疏矩陣的特徵內容\n",
    "feature_names = vect.get_feature_names()\n",
    "\n",
    "print(\"length of features:\\n{}\".format(len(feature_names))) \n",
    "print(\"Show 100 features:\\n{}\".format(feature_names[5000:5100])) "
   ]
  },
  {
   "cell_type": "markdown",
   "metadata": {},
   "source": [
    "## 5. 建立ML model "
   ]
  },
  {
   "cell_type": "markdown",
   "metadata": {},
   "source": [
    "#### a. label encoding to job category"
   ]
  },
  {
   "cell_type": "code",
   "execution_count": 31,
   "metadata": {},
   "outputs": [],
   "source": [
    "from sklearn import preprocessing"
   ]
  },
  {
   "cell_type": "code",
   "execution_count": 43,
   "metadata": {},
   "outputs": [
    {
     "name": "stdout",
     "output_type": "stream",
     "text": [
      "X的總樣本數量:  131083\n",
      "X的樣本的特徵數量:  10000\n"
     ]
    }
   ],
   "source": [
    "X = transform_content.toarray() \n",
    "\n",
    "print('X的總樣本數量: ', len(X))\n",
    "print('X的樣本的特徵數量: ', len(X[0]))"
   ]
  },
  {
   "cell_type": "code",
   "execution_count": 44,
   "metadata": {},
   "outputs": [
    {
     "name": "stdout",
     "output_type": "stream",
     "text": [
      "原始的資料類別數量:  18\n",
      "原始的資料標籤:  ['傳播藝術╱設計類', '其他職類', '學術╱教育╱輔導類', '客服╱門市╱業務╱貿易類', '操作╱技術╱維修類', '文字╱傳媒工作類', '營建╱製圖類', '生產製造╱品管╱環衛類', '研發相關類', '經營╱人資類', '行政╱總務╱法務類', '行銷╱企劃╱專案管理類', '財會╱金融專業類', '資材╱物流╱運輸類', '資訊軟體系統類', '軍警消╱保全類', '醫療╱保健服務類', '餐飲╱旅遊 ╱美容美髮類']\n",
      "轉換後的前10筆資料:  [ 3  3 12 12  4 17 12  3 12  7]\n"
     ]
    }
   ],
   "source": [
    "le = preprocessing.LabelEncoder()\n",
    "le.fit(lst_job_cat)\n",
    "y = le.transform(lst_job_cat)\n",
    "\n",
    "print('原始的資料類別數量: ', len(list(le.classes_)))\n",
    "print('原始的資料標籤: ', list(le.classes_))\n",
    "print('轉換後的前10筆資料: ', y[0:10])"
   ]
  },
  {
   "cell_type": "markdown",
   "metadata": {},
   "source": [
    "#### b. train test split"
   ]
  },
  {
   "cell_type": "code",
   "execution_count": 34,
   "metadata": {},
   "outputs": [],
   "source": [
    "from sklearn.model_selection import train_test_split"
   ]
  },
  {
   "cell_type": "code",
   "execution_count": 46,
   "metadata": {},
   "outputs": [],
   "source": [
    "# Splitting the dataset into the Training set and Test set\n",
    "\n",
    "X_train, X_test, y_train, y_test = train_test_split(X, y, test_size=0.2, random_state=0)"
   ]
  },
  {
   "cell_type": "markdown",
   "metadata": {},
   "source": [
    "#### c. build MultinomialNB model"
   ]
  },
  {
   "cell_type": "code",
   "execution_count": 47,
   "metadata": {},
   "outputs": [
    {
     "data": {
      "text/plain": [
       "MultinomialNB(alpha=0.1, class_prior=None, fit_prior=True)"
      ]
     },
     "execution_count": 47,
     "metadata": {},
     "output_type": "execute_result"
    }
   ],
   "source": [
    "from sklearn.metrics import accuracy_score\n",
    "from sklearn.naive_bayes import MultinomialNB\n",
    "from joblib import dump, load\n",
    "\n",
    "# 参数 alpha，用于控制模型复杂度。alpha 越大，平滑化越强，模型复杂度就越低。\n",
    "\n",
    "model = MultinomialNB(alpha = 0.1) \n",
    "model.fit(X_train, y_train) "
   ]
  },
  {
   "cell_type": "code",
   "execution_count": 48,
   "metadata": {},
   "outputs": [],
   "source": [
    "# 儲存 MultinomialNB 模型 \n",
    "# dump(model, 'model/MultinomialNB.joblib') "
   ]
  },
  {
   "cell_type": "code",
   "execution_count": 55,
   "metadata": {},
   "outputs": [
    {
     "name": "stdout",
     "output_type": "stream",
     "text": [
      "get accuracy score: \n"
     ]
    },
    {
     "data": {
      "text/plain": [
       "0.8383873059465232"
      ]
     },
     "execution_count": 55,
     "metadata": {},
     "output_type": "execute_result"
    }
   ],
   "source": [
    "y_pred = model.predict(X_test)\n",
    "print('get accuracy score: ')\n",
    "accuracy_score(y_test, y_pred)"
   ]
  },
  {
   "cell_type": "markdown",
   "metadata": {},
   "source": [
    "#### d. use GridSearchCV to find best parameter"
   ]
  },
  {
   "cell_type": "code",
   "execution_count": 39,
   "metadata": {},
   "outputs": [
    {
     "name": "stdout",
     "output_type": "stream",
     "text": [
      "Best cross-validation score: 0.84\n",
      "Best parameters:\n",
      "{'multinomialnb__alpha': 0.01}\n"
     ]
    }
   ],
   "source": [
    "from sklearn.model_selection import GridSearchCV\n",
    "from sklearn.pipeline import make_pipeline \n",
    "\n",
    "\n",
    "pipe = make_pipeline(MultinomialNB()) \n",
    "param_grid = {\"multinomialnb__alpha\": [0.001, 0.01, 0.1, 1] } \n",
    " \n",
    "grid = GridSearchCV(pipe, param_grid, cv=5) \n",
    "grid.fit(X_train, y_train) \n",
    "print(\"Best cross-validation score: {:.2f}\".format(grid.best_score_)) \n",
    "print(\"Best parameters:\\n{}\".format(grid.best_params_))"
   ]
  },
  {
   "cell_type": "markdown",
   "metadata": {},
   "source": [
    "## 6.嘗試使用 TfidfVectorizer，比較效果"
   ]
  },
  {
   "cell_type": "code",
   "execution_count": 40,
   "metadata": {},
   "outputs": [],
   "source": [
    "from sklearn.feature_extraction.text import TfidfVectorizer "
   ]
  },
  {
   "cell_type": "code",
   "execution_count": 50,
   "metadata": {},
   "outputs": [
    {
     "name": "stdout",
     "output_type": "stream",
     "text": [
      "get accuracy score: \n"
     ]
    },
    {
     "data": {
      "text/plain": [
       "0.8451767936834879"
      ]
     },
     "execution_count": 50,
     "metadata": {},
     "output_type": "execute_result"
    }
   ],
   "source": [
    "vect_tfidf = TfidfVectorizer(min_df=10, stop_words=\"english\", max_features=10000).fit(lst_jobs)\n",
    "\n",
    "transform_content_tfidf = vect_tfidf.transform(lst_jobs) \n",
    "X_tfidf = transform_content_tfidf.toarray() \n",
    "\n",
    "X_train_tfidf, X_test_tfidf, y_train, y_test = train_test_split(X_tfidf, y, test_size=0.2, random_state=0)\n",
    "\n",
    "model = MultinomialNB(alpha = 0.1) \n",
    "model.fit(X_train_tfidf, y_train) \n",
    "\n",
    "y_pred = model.predict(X_test_tfidf)\n",
    "print('get accuracy score: ')\n",
    "accuracy_score(y_test, y_pred)"
   ]
  },
  {
   "cell_type": "markdown",
   "metadata": {},
   "source": [
    "## 7. 顯示模型結果: Confusion Matrix"
   ]
  },
  {
   "cell_type": "code",
   "execution_count": 51,
   "metadata": {},
   "outputs": [],
   "source": [
    "from sklearn.metrics import plot_confusion_matrix"
   ]
  },
  {
   "cell_type": "code",
   "execution_count": 52,
   "metadata": {},
   "outputs": [
    {
     "data": {
      "text/plain": [
       "<sklearn.metrics._plot.confusion_matrix.ConfusionMatrixDisplay at 0x2367093d8c8>"
      ]
     },
     "execution_count": 52,
     "metadata": {},
     "output_type": "execute_result"
    },
    {
     "data": {
      "image/png": "[encoded data removed]",
      "text/plain": [
       "<Figure size 432x288 with 2 Axes>"
      ]
     },
     "metadata": {
      "needs_background": "light"
     },
     "output_type": "display_data"
    }
   ],
   "source": [
    "plot_confusion_matrix(model, X_test, y_test)"
   ]
  },
  {
   "cell_type": "markdown",
   "metadata": {},
   "source": [
    "## 8. 顯示模型結果: Classification Report"
   ]
  },
  {
   "cell_type": "code",
   "execution_count": 53,
   "metadata": {},
   "outputs": [],
   "source": [
    "from sklearn.metrics import classification_report"
   ]
  },
  {
   "cell_type": "code",
   "execution_count": 56,
   "metadata": {},
   "outputs": [
    {
     "name": "stdout",
     "output_type": "stream",
     "text": [
      "              precision    recall  f1-score   support\n",
      "\n",
      "           0       0.83      0.82      0.83       731\n",
      "           1       0.89      0.81      0.85       380\n",
      "           2       0.91      0.91      0.91       920\n",
      "           3       0.90      0.82      0.86      5066\n",
      "           4       0.88      0.86      0.87      2265\n",
      "           5       0.73      0.78      0.75       129\n",
      "           6       0.81      0.85      0.83      1208\n",
      "           7       0.80      0.76      0.78      1566\n",
      "           8       0.66      0.77      0.71      1274\n",
      "           9       0.51      0.55      0.53       613\n",
      "          10       0.63      0.63      0.63      1260\n",
      "          11       0.70      0.77      0.73      1383\n",
      "          12       0.89      0.92      0.91      1078\n",
      "          13       0.88      0.88      0.88      1064\n",
      "          14       0.88      0.92      0.90      1737\n",
      "          15       0.95      0.93      0.94       443\n",
      "          16       0.92      0.93      0.93      1088\n",
      "          17       0.91      0.92      0.92      4012\n",
      "\n",
      "    accuracy                           0.84     26217\n",
      "   macro avg       0.82      0.82      0.82     26217\n",
      "weighted avg       0.84      0.84      0.84     26217\n",
      "\n"
     ]
    }
   ],
   "source": [
    "print(classification_report(y_test, y_pred, labels=[i for i in range(0, 18)]))"
   ]
  },
  {
   "cell_type": "code",
   "execution_count": 60,
   "metadata": {},
   "outputs": [
    {
     "name": "stdout",
     "output_type": "stream",
     "text": [
      "原始的資料標籤: \n",
      "0 傳播藝術╱設計類\n",
      "1 其他職類\n",
      "2 學術╱教育╱輔導類\n",
      "3 客服╱門市╱業務╱貿易類\n",
      "4 操作╱技術╱維修類\n",
      "5 文字╱傳媒工作類\n",
      "6 營建╱製圖類\n",
      "7 生產製造╱品管╱環衛類\n",
      "8 研發相關類\n",
      "9 經營╱人資類\n",
      "10 行政╱總務╱法務類\n",
      "11 行銷╱企劃╱專案管理類\n",
      "12 財會╱金融專業類\n",
      "13 資材╱物流╱運輸類\n",
      "14 資訊軟體系統類\n",
      "15 軍警消╱保全類\n",
      "16 醫療╱保健服務類\n",
      "17 餐飲╱旅遊 ╱美容美髮類\n"
     ]
    }
   ],
   "source": [
    "print('原始的資料標籤: ' )\n",
    "for i ,j in enumerate(list(le.classes_)):\n",
    "    print(i,j)"
   ]
  },
  {
   "cell_type": "code",
   "execution_count": null,
   "metadata": {},
   "outputs": [],
   "source": []
  }
 ],
 "metadata": {
  "kernelspec": {
   "display_name": "Python 3",
   "language": "python",
   "name": "python3"
  },
  "language_info": {
   "codemirror_mode": {
    "name": "ipython",
    "version": 3
   },
   "file_extension": ".py",
   "mimetype": "text/x-python",
   "name": "python",
   "nbconvert_exporter": "python",
   "pygments_lexer": "ipython3",
   "version": "3.7.6"
  }
 },
 "nbformat": 4,
 "nbformat_minor": 4
}
