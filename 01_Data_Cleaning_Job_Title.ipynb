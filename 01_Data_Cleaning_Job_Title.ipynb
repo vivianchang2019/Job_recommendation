{
 "cells": [
  {
   "cell_type": "markdown",
   "metadata": {},
   "source": [
    "# 清洗104人力銀行職缺的\"職缺名稱\"資料\n",
    "\n",
    "包含下列步驟 \n",
    "> 字串清洗\n",
    "\n",
    "> 計算職位名稱出現頻率，創建\"職位名稱名單\"與\"排除名單\"(Stopwords)。\n",
    "\n",
    "> 清洗前的\"職位名稱欄位\"(jobName)與\"職位名稱名單\"對應，創建新欄位(jobName_clean)\n"
   ]
  },
  {
   "cell_type": "markdown",
   "metadata": {},
   "source": [
    "#### 效果展示\n",
    "\n",
    "    汐止分院護理人員    ----> 護理人員 \n",
    "    汐止分院-專科護理師 ----> 專科護理師\n",
    "    麵包製作人員        ----> 麵包製作人員\n",
    "    理財專員           ----> 理財專員 \n",
    "    天母店 餐廳正職人員 ----> 餐廳正職人員 "
   ]
  },
  {
   "cell_type": "markdown",
   "metadata": {},
   "source": [
    "## 1. Read Job data from MongoDB"
   ]
  },
  {
   "cell_type": "code",
   "execution_count": 1,
   "metadata": {},
   "outputs": [],
   "source": [
    "import pymongo\n",
    "from secrets import HOST"
   ]
  },
  {
   "cell_type": "markdown",
   "metadata": {},
   "source": [
    "建立MongoDB連線，並取出資料中的職缺名稱與分類"
   ]
  },
  {
   "cell_type": "code",
   "execution_count": 2,
   "metadata": {},
   "outputs": [],
   "source": [
    "def mongo_connect_build(db_name, col_name): \n",
    "    \n",
    "    global mycol\n",
    "    client = pymongo.MongoClient(HOST)  # 跟 mongodb建立連線\n",
    "\n",
    "    db = client[db_name] # 選擇使用的db\n",
    "    mycol = db[col_name] # 選擇collection"
   ]
  },
  {
   "cell_type": "code",
   "execution_count": 3,
   "metadata": {},
   "outputs": [],
   "source": [
    "# filter out job title data from JSON file\n",
    "\n",
    "def extract_job_title(job_data):\n",
    "    '''\n",
    "    input: dictionary data from mongoDB\n",
    "    output: list of data containing job title and category\n",
    "    '''\n",
    "    lst_jobTile = []\n",
    "\n",
    "    for i in job_data:\n",
    "        job_URL = list(i.keys())[1] # get the \"URL shortcut\" of each job\n",
    "        job_content = i[job_URL]\n",
    "        job_name = job_content['jobName']\n",
    "        \n",
    "        # get job category if column exist\n",
    "        try:  \n",
    "            jobCategory = job_content['jobCategory'][0]['description'] \n",
    "        except:\n",
    "            jobCategory = None  \n",
    "\n",
    "        dict_job = {'jobURL': job_URL, 'jobName': job_name, 'jobCategory': jobCategory }\n",
    "        lst_jobTile.append(dict_job)\n",
    "        \n",
    "    return lst_jobTile"
   ]
  },
  {
   "cell_type": "code",
   "execution_count": 4,
   "metadata": {},
   "outputs": [],
   "source": [
    "mongo_connect_build('Topic_104', 'Jobs') \n",
    "job_data = mycol.find() # 從mongoDB尋找多筆資料\n",
    "lst_jobTitle = extract_job_title(job_data) # extract job title "
   ]
  },
  {
   "cell_type": "code",
   "execution_count": 5,
   "metadata": {},
   "outputs": [
    {
     "name": "stdout",
     "output_type": "stream",
     "text": [
      "{'jobURL': '1006w', 'jobName': '汐止分院護理人員(內外科病房.加護病房.門診.安寧病房.護理之家)', 'jobCategory': '護理師及護士'}\n",
      "{'jobURL': '100ry', 'jobName': '汐止分院-專科護理師(內科.外科)', 'jobCategory': '護理師及護士'}\n",
      "{'jobURL': '100w0', 'jobName': '麵包製作人員(正職)(台北南西店)', 'jobCategory': '麵包師'}\n",
      "{'jobURL': '1020i', 'jobName': '理財專員(土城)(凱基證券)', 'jobCategory': '金融營業員'}\n",
      "{'jobURL': '1034s', 'jobName': '天母店 餐廳正職人員', 'jobCategory': '餐飲服務生'}\n",
      "{'jobURL': '1047q', 'jobName': '國內業務主任', 'jobCategory': '國內業務人員'}\n",
      "{'jobURL': '106af', 'jobName': '正職行政人員(士林劍潭教學中心)', 'jobCategory': '補習班導師／管理人員'}\n",
      "{'jobURL': '107xd', 'jobName': '系統工程師(技術服務部)', 'jobCategory': '網路管理工程師'}\n",
      "{'jobURL': '10ccd', 'jobName': '[NB]軟體品保工程師(士林)', 'jobCategory': '品管／品保工程師'}\n",
      "{'jobURL': '1n5g', 'jobName': '國內業務專員', 'jobCategory': '國內業務人員'}\n"
     ]
    }
   ],
   "source": [
    "# 顯示資料清洗前職缺名稱\n",
    "for i in lst_jobTitle[0:10]: \n",
    "    print(i)"
   ]
  },
  {
   "cell_type": "markdown",
   "metadata": {},
   "source": [
    "## 2. Create Job Title list  (創建清洗後職缺名稱表單)"
   ]
  },
  {
   "cell_type": "code",
   "execution_count": 6,
   "metadata": {},
   "outputs": [],
   "source": [
    "import re"
   ]
  },
  {
   "cell_type": "markdown",
   "metadata": {},
   "source": [
    "### a.移除所有職缺名稱中，有括號的部分"
   ]
  },
  {
   "cell_type": "code",
   "execution_count": 7,
   "metadata": {},
   "outputs": [
    {
     "name": "stdout",
     "output_type": "stream",
     "text": [
      "{'jobURL': '1006w', 'jobName': '汐止分院護理人員', 'jobCategory': '護理師及護士'}\n",
      "{'jobURL': '100ry', 'jobName': '汐止分院-專科護理師', 'jobCategory': '護理師及護士'}\n",
      "{'jobURL': '100w0', 'jobName': '麵包製作人員', 'jobCategory': '麵包師'}\n",
      "{'jobURL': '1020i', 'jobName': '理財專員', 'jobCategory': '金融營業員'}\n",
      "{'jobURL': '1034s', 'jobName': '天母店 餐廳正職人員', 'jobCategory': '餐飲服務生'}\n",
      "{'jobURL': '1047q', 'jobName': '國內業務主任', 'jobCategory': '國內業務人員'}\n",
      "{'jobURL': '106af', 'jobName': '正職行政人員', 'jobCategory': '補習班導師／管理人員'}\n",
      "{'jobURL': '107xd', 'jobName': '系統工程師', 'jobCategory': '網路管理工程師'}\n",
      "{'jobURL': '10ccd', 'jobName': '軟體品保工程師', 'jobCategory': '品管／品保工程師'}\n",
      "{'jobURL': '1n5g', 'jobName': '國內業務專員', 'jobCategory': '國內業務人員'}\n"
     ]
    }
   ],
   "source": [
    "for i in lst_jobTitle:\n",
    "    i['jobName'] = re.sub(u\"\\\\.|k|,|\\+|\\\\(.*?\\\\)|\\\\{.*?}|\\\\[.*?]|\\\\【.*?】|\\\\（.*?）|\\\\(.*?）|\\\\<.*?>|\\d|\", \"\", i['jobName'])\n",
    "\n",
    "for i in lst_jobTitle[0:10]:\n",
    "    print(i)"
   ]
  },
  {
   "cell_type": "markdown",
   "metadata": {},
   "source": [
    "### b. 計算\"職缺名稱\"出現頻率"
   ]
  },
  {
   "cell_type": "code",
   "execution_count": 8,
   "metadata": {
    "scrolled": false
   },
   "outputs": [],
   "source": [
    "def isEnglish(s): # 檢查字元是否為英文\n",
    "    try:\n",
    "        s.encode(encoding='utf-8').decode('ascii')\n",
    "    except UnicodeDecodeError:\n",
    "        return False\n",
    "    else:\n",
    "        return True\n",
    "\n",
    "\n",
    "def count_job_CN(lst_jobTitle): # count the frequency of words in job title\n",
    "    jobTitle_count = {}\n",
    "    \n",
    "    for i in lst_jobTitle:\n",
    "        if isEnglish(i['jobName'])== False : # 處理非英文職缺\n",
    "            JobName = re.sub(r'[^\\w\\s]',' ',i['jobName'])  # remove all punctuations\n",
    "            JobName = JobName.replace('_', ' ')\n",
    "\n",
    "            for word in JobName.split(' '): \n",
    "                word = word.strip()\n",
    "                if len(word) > 1: \n",
    "                    if word not in jobTitle_count.keys():\n",
    "                        jobTitle_count[word] = 1\n",
    "                    else:\n",
    "                        jobTitle_count[word] += 1\n",
    "                        \n",
    "    def sort_dict_by_value(x):  \n",
    "        return {k: v for k, v in sorted(x.items(), key=lambda item: item[1], reverse=True)}\n",
    "\n",
    "    result = sort_dict_by_value(jobTitle_count)\n",
    "    return result"
   ]
  },
  {
   "cell_type": "code",
   "execution_count": 9,
   "metadata": {},
   "outputs": [],
   "source": [
    "count_result = count_job_CN(lst_jobTitle)  # 計算職位出現頻率"
   ]
  },
  {
   "cell_type": "markdown",
   "metadata": {},
   "source": [
    "顯示20筆結果，結果顯示需要進一步清洗非職缺字元"
   ]
  },
  {
   "cell_type": "code",
   "execution_count": 10,
   "metadata": {},
   "outputs": [
    {
     "name": "stdout",
     "output_type": "stream",
     "text": [
      "職缺名稱: 儲備幹部 ， 出現頻率: 2156 \n",
      "職缺名稱: 業務助理 ， 出現頻率: 1550 \n",
      "職缺名稱: 正職人員 ， 出現頻率: 1345 \n",
      "職缺名稱: 業務專員 ， 出現頻率: 1280 \n",
      "職缺名稱: 門市人員 ， 出現頻率: 1094 \n",
      "職缺名稱: 業務人員 ， 出現頻率: 1044 \n",
      "職缺名稱: 工程師 ， 出現頻率: 1024 \n",
      "職缺名稱: 兼職 ， 出現頻率: 993 \n",
      "職缺名稱: Engineer ， 出現頻率: 951 \n",
      "職缺名稱: 行政助理 ， 出現頻率: 880 \n",
      "職缺名稱: 工讀生 ， 出現頻率: 864 \n",
      "職缺名稱: 兼職人員 ， 出現頻率: 864 \n",
      "職缺名稱: 作業員 ， 出現頻率: 853 \n",
      "職缺名稱: 台北 ， 出現頻率: 816 \n",
      "職缺名稱: 軟體工程師 ， 出現頻率: 749 \n",
      "職缺名稱: 無經驗可 ， 出現頻率: 671 \n",
      "職缺名稱: 急徵 ， 出現頻率: 667 \n",
      "職缺名稱: 計時人員 ， 出現頻率: 663 \n",
      "職缺名稱: Manager ， 出現頻率: 633 \n",
      "職缺名稱: 時薪 ， 出現頻率: 624 \n"
     ]
    }
   ],
   "source": [
    "for k,v in list(count_result.items())[0:20]: \n",
    "    print('職缺名稱: {} ， 出現頻率: {} '.format(k,v))"
   ]
  },
  {
   "cell_type": "markdown",
   "metadata": {},
   "source": [
    "### c. 創建職業名稱表\n",
    "\n",
    "利用自行輸入職位表，跟排除表，篩選正確職缺"
   ]
  },
  {
   "cell_type": "code",
   "execution_count": 11,
   "metadata": {},
   "outputs": [],
   "source": [
    "# 人工輸入職缺, 開啟'Jobtitle_HandMade.txt'檔案\n",
    "with open(file='jieba_data/Jobtitle_HandMade.txt',mode='r', encoding=\"UTF-8\") as file:\n",
    "    handmade_words = file.read().split('\\n')\n",
    "\n",
    "# stopword 排除字元表單 ,開啟'Jobtitle_stopwords.txt'檔案\n",
    "with open(file='jieba_data/Jobtitle_stopwords.txt',mode='r', encoding=\"UTF-8\") as file:\n",
    "    stop_words = file.read().split('\\n')"
   ]
  },
  {
   "cell_type": "code",
   "execution_count": 12,
   "metadata": {
    "scrolled": false
   },
   "outputs": [],
   "source": [
    "# 定義創建職業名稱函數\n",
    "\n",
    "def create_jobTitle(dict_jobCount, handmade_words):\n",
    "    \n",
    "    # 創建職業名稱list\n",
    "    job_lst_clean = []\n",
    "    \n",
    "    # 排除詞彙 : 如果詞彙出現頻率 < 40, 詞彙長度 < 2, 或是詞彙屬於stopword\n",
    "    for k, v in dict_jobCount.items(): \n",
    "        if (v < 40) or (len(k) < 2) or (k in stop_words): \n",
    "            continue\n",
    "        else:\n",
    "            job_lst_clean.append(k)\n",
    "\n",
    "    # 加入人工輸入職缺\n",
    "    for i in handmade_words: \n",
    "        if i.strip() not in job_lst_clean:\n",
    "            job_lst_clean.append(i)\n",
    "        \n",
    "    # 更改中英職缺排序，中文職缺優先\n",
    "    job_lst_clean_CN = []\n",
    "    job_lst_clean_EN = []\n",
    "    \n",
    "    for job in job_lst_clean:\n",
    "        if isEnglish(job) == True:\n",
    "            job_lst_clean_EN.append(job)\n",
    "        else:\n",
    "            job_lst_clean_CN.append(job)\n",
    "        \n",
    "\n",
    "    # 根據職缺長度排序\n",
    "    job_lst_clean_CN = sorted(job_lst_clean_CN, key = len, reverse = True)\n",
    "    job_lst_clean_EN = sorted(job_lst_clean_EN, key = len, reverse = True)\n",
    "    \n",
    "    job_lst_clean_CN = job_lst_clean_CN + job_lst_clean_EN\n",
    "    \n",
    "    return job_lst_clean_CN"
   ]
  },
  {
   "cell_type": "markdown",
   "metadata": {},
   "source": [
    "創建職業名稱名單list"
   ]
  },
  {
   "cell_type": "code",
   "execution_count": 13,
   "metadata": {},
   "outputs": [
    {
     "name": "stdout",
     "output_type": "stream",
     "text": [
      "總共產生職稱數量:  898\n"
     ]
    }
   ],
   "source": [
    "job_lst_clean = create_jobTitle(count_result, handmade_words)  \n",
    "\n",
    "print(\"總共產生職稱數量: \" ,len(job_lst_clean))"
   ]
  },
  {
   "cell_type": "markdown",
   "metadata": {},
   "source": [
    "顯示部分創建後結果"
   ]
  },
  {
   "cell_type": "code",
   "execution_count": 14,
   "metadata": {},
   "outputs": [
    {
     "name": "stdout",
     "output_type": "stream",
     "text": [
      "職缺名稱:  設備助理工程師\n",
      "職缺名稱:  資訊軟體工程師\n",
      "職缺名稱:  前端網頁工程師\n",
      "職缺名稱:  生產技術工程師\n",
      "職缺名稱:  技術服務工程師\n",
      "職缺名稱:  製程助理工程師\n",
      "職缺名稱:  硬體設計工程師\n",
      "職缺名稱:  業務支援工程師\n",
      "職缺名稱:  系統應用工程師\n",
      "職缺名稱:  機構研發工程師\n",
      "職缺名稱:  軟體助理工程師\n",
      "職缺名稱:  產品設計工程師\n",
      "職缺名稱:  系統整合工程師\n",
      "職缺名稱:  資深機構工程師\n",
      "職缺名稱:  Java工程師\n",
      "職缺名稱:  電子研發工程師\n",
      "職缺名稱:  IC佈局工程師\n",
      "職缺名稱:  韌體設計工程師\n",
      "職缺名稱:  系統維運工程師\n",
      "職缺名稱:  機電繪圖工程師\n"
     ]
    }
   ],
   "source": [
    "for word in job_lst_clean[100:120]: \n",
    "    print('職缺名稱: ', word)"
   ]
  },
  {
   "cell_type": "markdown",
   "metadata": {},
   "source": [
    "## 3. Mapping Job title (將清洗過的職缺與原職缺做比對，產生新的欄位)"
   ]
  },
  {
   "cell_type": "code",
   "execution_count": 15,
   "metadata": {},
   "outputs": [],
   "source": [
    "def add_jobtitle(lst_jobTitle, job_lst_clean):\n",
    "    '''\n",
    "    input: \n",
    "    lst_jobTitle -> 清洗前的職缺資料，格式為list of dictionary\n",
    "    job_lst_clean -> 清洗後的職缺名單\n",
    "    \n",
    "    output:\n",
    "    lst_jobTitle 加上清洗後的職缺欄位\n",
    "    \n",
    "    '''\n",
    "    count = 0\n",
    "    for i in lst_jobTitle:\n",
    "        jobName = i['jobName']\n",
    "        match_title = None \n",
    "\n",
    "        # match jobtitle with jobName\n",
    "        for JOB in job_lst_clean:\n",
    "            if re.search(rf\"\\s*{JOB}\\s*\", jobName, re.IGNORECASE):  \n",
    "                match_title = JOB\n",
    "                break\n",
    "\n",
    "        # check whether match is successful. If not, use origianl job name.\n",
    "        if match_title==None:\n",
    "            match_title = jobName\n",
    "\n",
    "        i['jobName_clean'] = match_title"
   ]
  },
  {
   "cell_type": "markdown",
   "metadata": {},
   "source": [
    "取5筆職缺展示清洗前後效果"
   ]
  },
  {
   "cell_type": "code",
   "execution_count": 16,
   "metadata": {},
   "outputs": [],
   "source": [
    "add_jobtitle(lst_jobTitle[0:5], job_lst_clean)"
   ]
  },
  {
   "cell_type": "code",
   "execution_count": 17,
   "metadata": {},
   "outputs": [
    {
     "name": "stdout",
     "output_type": "stream",
     "text": [
      "汐止分院護理人員 ----> 護理人員\n",
      "汐止分院-專科護理師 ----> 專科護理師\n",
      "麵包製作人員 ----> 麵包製作人員\n",
      "理財專員 ----> 理財專員\n",
      "天母店 餐廳正職人員 ----> 餐廳正職人員\n"
     ]
    }
   ],
   "source": [
    "for i in lst_jobTitle[0:5]:\n",
    "    print(i['jobName'], '---->', i['jobName_clean'])"
   ]
  },
  {
   "cell_type": "code",
   "execution_count": null,
   "metadata": {},
   "outputs": [],
   "source": []
  }
 ],
 "metadata": {
  "kernelspec": {
   "display_name": "Python 3",
   "language": "python",
   "name": "python3"
  },
  "language_info": {
   "codemirror_mode": {
    "name": "ipython",
    "version": 3
   },
   "file_extension": ".py",
   "mimetype": "text/x-python",
   "name": "python",
   "nbconvert_exporter": "python",
   "pygments_lexer": "ipython3",
   "version": "3.7.6"
  }
 },
 "nbformat": 4,
 "nbformat_minor": 4
}
