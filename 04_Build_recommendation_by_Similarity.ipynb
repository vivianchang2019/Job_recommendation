{
 "cells": [
  {
   "cell_type": "markdown",
   "metadata": {},
   "source": [
    "# 建立推薦程式(用CV推薦職缺)，使用訓練好的模型分類，計算相似度\n",
    "\n",
    "程式步驟 (使用 scikit-learn)\n",
    "\n",
    "> 1. 使用者輸入CV，以及工作條件\n",
    "\n",
    "> 2. 清洗CV，轉換成BOW， 丟入訓練模型，顯示預測分類結果。\n",
    "\n",
    "> 3. 利用預測分類結果，與使用者輸入工作條件，從mongoDB撈取職缺\n",
    "\n",
    "> 4. 將職缺轉換成BOW\n",
    "\n",
    "> 5. 計算CV與職缺的相似度，推薦相似度最近的10筆工作\n"
   ]
  },
  {
   "cell_type": "markdown",
   "metadata": {},
   "source": [
    "效果展示\n",
    "\n",
    "> 測試CV內容\n",
    "\n",
    "    '''最近工作\\n\\n公司：\\tXX醫院\\t行業：\\t醫療/護理/衛生\\n職位：\\t醫生\\n最高學歷\\t\\n\n",
    "    最高學歷\\n\\n學校：\\t中醫藥大學\\n學歷：\\t本科\\t專業：\\t\\n醫藥學\\n工作經驗\\t\\n工作經驗\\n\\n公司：\\t\\n\n",
    "    XX醫院\\n2012/7–2017/7\\n職位：\\t醫生\\n行業：\\t醫療/護理/衛生\\n部門：\\t醫藥部\\n工作內容：\\n1.\n",
    "    了解各種儀器設備的使用方法。2.參與手術工作，鍛煉手術操作能力。3.熟悉實際操作中所出現的問題並通過各種\n",
    "    方法避免和克服。4.勤學好問，大膽展示自我，學會了要禮貌待人，要踏實幹事，要提高個人綜合素質。\\n教育經歷\\t\\n\n",
    "    教育經歷\\n\\n學校：\\t\\n中醫藥大學\\n2007/9–2011/6\\n專業：\\t醫藥學\\t本科\\t\\n自我評價\\t\\n自我評價\\n\\n在校期\n",
    "    間，學習了解剖學、生物化學、生理學、病理學、精神學等等課程，在校成績優異，擔任學生幹部的職務，曾多次獲得過\n",
    "    學校獎學金，平時積極主動參加校內活動，曾負責在專業內組織過醫學演講。學習態度端正，能夠主動學習，認真對待每\n",
    "    一次學習的機會，我希望在學習理論知識的同時，能夠增強自己的實踐經驗，我 相信沒有做不到，只有不想做。\\n求職\n",
    "    意向\\t\\n求職意向\\n\\n到崗時間：\\t一個月之內\\n工作性質：\\t全職\\n希望行業：\\t醫療/護理/衛生\\n目標地點：\\t\n",
    "    北京\\n期望月薪：\\t面議/月\\n目標職能：\\t醫生\\n語言能力\\t\\n語言能力\\n\\n英語：\\t\\n良好\\n\\n聽說：\\t\\n良好\n",
    "    \\n\\n讀寫：\\t\\n良好\\n\\n證書\\t\\n證書\\n\\n大學英語四級'''\n",
    "\n",
    "> 推薦結果\n",
    "\n",
    "    1. 衛教護理師-兼職 (北區) 康樂保股份有限公司\n",
    "    ====================\n",
    "    2. 門市業務人員(台北市) 維康醫療用品 _美德耐股份有限公司\n",
    "    ====================\n",
    "    3. 亞東紀念醫院-巡迴健檢護理師 長德醫院管理顧問有限公司\n",
    "    ====================\n",
    "    4. 照顧服務員 財團法人台灣省私立健順養護中心\n"
   ]
  },
  {
   "cell_type": "markdown",
   "metadata": {},
   "source": [
    "## 1. Clean User input CV"
   ]
  },
  {
   "cell_type": "markdown",
   "metadata": {},
   "source": [
    "模擬用戶輸入數據"
   ]
  },
  {
   "cell_type": "code",
   "execution_count": 63,
   "metadata": {},
   "outputs": [],
   "source": [
    "# User input data\n",
    "\n",
    "test_cv = '''最近工作\\n\\n公司：\\tXX醫院\\t行業：\\t醫療/護理/衛生\\n職位：\\t醫生\\n最高學歷\\t\\n\n",
    "最高學歷\\n\\n學校：\\t中醫藥大學\\n學歷：\\t本科\\t專業：\\t\\n醫藥學\\n工作經驗\\t\\n工作經驗\\n\\n公司：\\t\\n\n",
    "XX醫院\\n2012/7–2017/7\\n職位：\\t醫生\\n行業：\\t醫療/護理/衛生\\n部門：\\t醫藥部\\n工作內容：\\n1.\n",
    "了解各種儀器設備的使用方法。2.參與手術工作，鍛煉手術操作能力。3.熟悉實際操作中所出現的問題並通過各種\n",
    "方法避免和克服。4.勤學好問，大膽展示自我，學會了要禮貌待人，要踏實幹事，要提高個人綜合素質。\\n教育經歷\\t\\n\n",
    "教育經歷\\n\\n學校：\\t\\n中醫藥大學\\n2007/9–2011/6\\n專業：\\t醫藥學\\t本科\\t\\n自我評價\\t\\n自我評價\\n\\n在校期\n",
    "間，學習了解剖學、生物化學、生理學、病理學、精神學等等課程，在校成績優異，擔任學生幹部的職務，曾多次獲得過\n",
    "學校獎學金，平時積極主動參加校內活動，曾負責在專業內組織過醫學演講。學習態度端正，能夠主動學習，認真對待每\n",
    "一次學習的機會，我希望在學習理論知識的同時，能夠增強自己的實踐經驗，我 相信沒有做不到，只有不想做。\\n求職\n",
    "意向\\t\\n求職意向\\n\\n到崗時間：\\t一個月之內\\n工作性質：\\t全職\\n希望行業：\\t醫療/護理/衛生\\n目標地點：\\t\n",
    "北京\\n期望月薪：\\t面議/月\\n目標職能：\\t醫生\\n語言能力\\t\\n語言能力\\n\\n英語：\\t\\n良好\\n\\n聽說：\\t\\n良好\n",
    "\\n\\n讀寫：\\t\\n良好\\n\\n證書\\t\\n證書\\n\\n大學英語四級'''\n",
    "\n",
    "test_work_area = '台北市'\n",
    "test_work_exp = 6\n",
    "test_edu = '大學'\n"
   ]
  },
  {
   "cell_type": "markdown",
   "metadata": {},
   "source": [
    "定義清洗函數"
   ]
  },
  {
   "cell_type": "code",
   "execution_count": 21,
   "metadata": {},
   "outputs": [],
   "source": [
    "import jieba\n",
    "import re"
   ]
  },
  {
   "cell_type": "code",
   "execution_count": 22,
   "metadata": {},
   "outputs": [],
   "source": [
    "# data cleaning\n",
    "def string_clean(CV_data): \n",
    "    '''\n",
    "    input: string (original CV description)\n",
    "    output: string (clean CV description)\n",
    "    '''\n",
    "    job_desc = CV_data.split('\\n') # 根據換行符號轉乘 List格式\n",
    "    job_words = ''\n",
    "    \n",
    "    for words in job_desc:\n",
    "        words = words.replace('\\t', ' ').replace('\\r', ' ')\n",
    "        words = re.sub(r'[^\\w\\s]',' ', words)  # remove all punctuations\n",
    "        words = re.sub(r'\\d+', ' ', words)  # remove all numbers\n",
    "        words = words.strip() # remove white space\n",
    "        words += ' '\n",
    "        job_words += words\n",
    "        \n",
    "    return (job_words)"
   ]
  },
  {
   "cell_type": "code",
   "execution_count": 23,
   "metadata": {},
   "outputs": [],
   "source": [
    "jieba.load_userdict('jieba_data/Jobcontent_dict.txt') # 指定辭典檔"
   ]
  },
  {
   "cell_type": "code",
   "execution_count": 24,
   "metadata": {},
   "outputs": [],
   "source": [
    "# 排除字元表單 stopword, 開啟 'Jobcontent_stopwords.txt'檔案\n",
    "\n",
    "with open(file='jieba_data/Jobcontent_stopwords.txt',mode='r', encoding=\"UTF-8\") as file:\n",
    "    stop_words = file.read().split('\\n')\n",
    "    stop_words = [i.strip() for i in stop_words]"
   ]
  },
  {
   "cell_type": "code",
   "execution_count": 25,
   "metadata": {},
   "outputs": [],
   "source": [
    "def isEnglish(s): # 檢查字元是否為英文\n",
    "    try:\n",
    "        s.encode(encoding='utf-8').decode('ascii')\n",
    "    except UnicodeDecodeError:\n",
    "        return False\n",
    "    else:\n",
    "        return True\n",
    "\n",
    "def jieba_cut(data, stop_words):\n",
    "    \n",
    "    # 使用結巴斷詞\n",
    "    seg_result = jieba.cut(data, cut_all=False)\n",
    "\n",
    "    # 篩選斷詞，去掉單一中文字\n",
    "    lst_seg = []\n",
    "    \n",
    "    for i in list(seg_result):\n",
    "        i = i.strip()\n",
    "        if len(i) < 1:  #排除空值\n",
    "            continue\n",
    "        elif i in stop_words: # 排除stopwords\n",
    "            continue\n",
    "        elif isEnglish(i) == False and len(i) == 1: #排除單一中文字\n",
    "            continue\n",
    "        else:\n",
    "            lst_seg.append(i)\n",
    "   \n",
    "    return lst_seg"
   ]
  },
  {
   "cell_type": "code",
   "execution_count": 38,
   "metadata": {},
   "outputs": [],
   "source": [
    "test_cv_clean = string_clean(test_cv)\n",
    "test_cv_clean = jieba_cut(test_cv_clean, stop_words)\n",
    "test_cv_clean = [' '.join(test_cv_clean)]"
   ]
  },
  {
   "cell_type": "code",
   "execution_count": 39,
   "metadata": {},
   "outputs": [
    {
     "data": {
      "text/plain": [
       "['XX 醫院 行業 醫療 護理 衛生 職位 醫生 學歷 學歷 學校 醫藥 大學 學歷 本科 專業 醫藥 XX 醫院 職位 醫生 行業 醫療 護理 衛生 部門 醫藥 儀器 設備 方法 手術 鍛煉 手術 操作能力 操作 通過 方法 避免 克服 勤學 好問 展示 幹事 教育 經歷 教育 經歷 學校 醫藥 大學 專業 醫藥 本科 評價 評價 解剖 生物 化學 病理 課程 成績 擔任 學生 幹部 職務 獲得過 學校 參加校 專業 組織 醫學 演講 對待 理論 知識 增強 到崗 全職 行業 醫療 護理 衛生 期望 醫生 語言 語言 英語 讀寫 證書 證書 大學 英語']"
      ]
     },
     "execution_count": 39,
     "metadata": {},
     "output_type": "execute_result"
    }
   ],
   "source": [
    "test_cv_clean"
   ]
  },
  {
   "cell_type": "markdown",
   "metadata": {},
   "source": [
    "## 2. Transform data, and predict the classification"
   ]
  },
  {
   "cell_type": "code",
   "execution_count": 40,
   "metadata": {},
   "outputs": [],
   "source": [
    "from sklearn.feature_extraction.text import CountVectorizer\n",
    "from sklearn.naive_bayes import MultinomialNB\n",
    "from sklearn import preprocessing\n",
    "from joblib import dump, load\n",
    "import pickle"
   ]
  },
  {
   "cell_type": "code",
   "execution_count": 41,
   "metadata": {
    "scrolled": true
   },
   "outputs": [],
   "source": [
    "# The scikit-learn version is 0.22.1."
   ]
  },
  {
   "cell_type": "code",
   "execution_count": 42,
   "metadata": {},
   "outputs": [],
   "source": [
    "def cv_category_predict(cv_data):\n",
    "\n",
    "    vectorizer = pickle.load(open(\"model/vectorizer.pickel\", \"rb\")) \n",
    "    transform_content = vectorizer.transform(cv_data) # CountVectorizer transform\n",
    "    X_test = transform_content.toarray()\n",
    "    # vectorizer.inverse_transform(X_test)\n",
    "\n",
    "    model = load('model/MultinomialNB.joblib') \n",
    "    y_pred = model.predict(X_test)  # MultinomialNB transform\n",
    "\n",
    "    le = pickle.load(open(\"model/le.pickel\", \"rb\"))\n",
    "    y_pred_category = le.inverse_transform(y_pred)\n",
    "    y_pred_category = y_pred_category[0]\n",
    "    \n",
    "    return y_pred_category"
   ]
  },
  {
   "cell_type": "code",
   "execution_count": 44,
   "metadata": {},
   "outputs": [],
   "source": [
    "test_cv_category = cv_category_predict(test_cv_clean)"
   ]
  },
  {
   "cell_type": "markdown",
   "metadata": {},
   "source": [
    "顯示預測結果"
   ]
  },
  {
   "cell_type": "code",
   "execution_count": 64,
   "metadata": {},
   "outputs": [
    {
     "name": "stdout",
     "output_type": "stream",
     "text": [
      "CV data after jieba:  ['XX 醫院 行業 醫療 護理 衛生 職位 醫生 學歷 學歷 學校 醫藥 大學 學歷 本科 專業 醫藥 XX 醫院 職位 醫生 行業 醫療 護理 衛生 部門 醫藥 儀器 設備 方法 手術 鍛煉 手術 操作能力 操作 通過 方法 避免 克服 勤學 好問 展示 幹事 教育 經歷 教育 經歷 學校 醫藥 大學 專業 醫藥 本科 評價 評價 解剖 生物 化學 病理 課程 成績 擔任 學生 幹部 職務 獲得過 學校 參加校 專業 組織 醫學 演講 對待 理論 知識 增強 到崗 全職 行業 醫療 護理 衛生 期望 醫生 語言 語言 英語 讀寫 證書 證書 大學 英語']\n",
      "====================\n",
      "Predicted category:  醫療╱保健服務類\n"
     ]
    }
   ],
   "source": [
    "print('CV data after jieba: ', test_cv_clean) \n",
    "print('='*20)\n",
    "print('Predicted category: ', test_cv_category)"
   ]
  },
  {
   "cell_type": "markdown",
   "metadata": {},
   "source": [
    "\n",
    "## 3. 連線至職缺，利用條件篩選"
   ]
  },
  {
   "cell_type": "markdown",
   "metadata": {},
   "source": [
    "#### 使用 mongoDB 連線篩選職缺"
   ]
  },
  {
   "cell_type": "code",
   "execution_count": 69,
   "metadata": {},
   "outputs": [],
   "source": [
    "import pymongo\n",
    "import pandas as pd\n",
    "from secrets import HOST"
   ]
  },
  {
   "cell_type": "code",
   "execution_count": 103,
   "metadata": {},
   "outputs": [],
   "source": [
    "def mongo_select_jobs(category, area = None,  workExp = None, edu = None): \n",
    "    \n",
    "    global mycol\n",
    "    client = pymongo.MongoClient(HOST) \n",
    "\n",
    "    db = client['final_104'] \n",
    "    mycol = db['final_data'] \n",
    "\n",
    "    \n",
    "    filter_dict = {'jobCat_main': category} # create filter for mongoDB\n",
    "    \n",
    "    if area != None:  \n",
    "        filter_dict['Work_area_clean'] = area # filter data by area\n",
    "\n",
    "    data = mycol.find(filter_dict,{'_id':0}) # get data from mongoDB\n",
    "    output = [i for i in data]\n",
    "    \n",
    "    # turn output into dataframe\n",
    "    df = pd.DataFrame(output)\n",
    "    \n",
    "     # filter data by work experience\n",
    "    if workExp is not None:\n",
    "        lst_workExp = list(i for i in range(0, workExp+1))\n",
    "        df = df[df['workExp_clean'].astype(int).isin(lst_workExp)]    \n",
    "    \n",
    "    # filter data by education status\n",
    "    if edu is not None:\n",
    "        df = df[df['Edu_clean'].str.contains(\"大學\")]\n",
    "\n",
    "    filter_result = df.values.tolist()\n",
    "\n",
    "    # 將資料儲存成flask可用的dictionary格式\n",
    "\n",
    "    dict_data = {} \n",
    "\n",
    "    for i in filter_result:\n",
    "        jobURL, Job_Name, Company, Job_Description, concate_jieba = i[0], i[1], i[2], i[8], i[9]\n",
    "        dict_data[jobURL] = { \n",
    "        'Job_Name': Job_Name,\n",
    "        'Company': Company,\n",
    "        'Job_Description': Job_Description,\n",
    "        'concate_jieba': concate_jieba }\n",
    "        \n",
    "    return dict_data    "
   ]
  },
  {
   "cell_type": "code",
   "execution_count": 104,
   "metadata": {},
   "outputs": [
    {
     "name": "stdout",
     "output_type": "stream",
     "text": [
      "總共有幾筆資料:  921\n"
     ]
    }
   ],
   "source": [
    "# 利用預測分類結果，與使用者輸入工作條件，從mongoDB撈取職缺\n",
    "jobs_query = mongo_select_jobs(test_cv_category, test_work_area, test_work_exp, test_edu)\n",
    "print('總共有幾筆資料: ' , len(jobs_query))"
   ]
  },
  {
   "cell_type": "markdown",
   "metadata": {},
   "source": [
    "## 4. 將結巴後的職缺轉換成BOW"
   ]
  },
  {
   "cell_type": "code",
   "execution_count": 106,
   "metadata": {},
   "outputs": [],
   "source": [
    " # 將結巴後的斷詞，利用CountVectorizer轉換減少字詞數量\n",
    "def turn_content_BOW(content):\n",
    "    X_content = [ \" \".join(content)]\n",
    "    vectorizer = pickle.load(open(\"model/vectorizer.pickel\", \"rb\")) \n",
    "    transform_content = vectorizer.transform(X_content) \n",
    "    X_content_array = transform_content.toarray()\n",
    "    return X_content_array"
   ]
  },
  {
   "cell_type": "markdown",
   "metadata": {},
   "source": [
    "## 5. 計算相似度，使用 cosine similarity"
   ]
  },
  {
   "cell_type": "code",
   "execution_count": 107,
   "metadata": {},
   "outputs": [],
   "source": [
    "from sklearn.metrics.pairwise import cosine_similarity"
   ]
  },
  {
   "cell_type": "code",
   "execution_count": 108,
   "metadata": {},
   "outputs": [],
   "source": [
    "def compute_similarity(cv_BOW, job_id, job_jieba_data):\n",
    "    \n",
    "    job_BOW = turn_content_BOW(job_jieba_data)\n",
    "    job_prob = cosine_similarity(cv_BOW, job_BOW)\n",
    "    job_prob = round(job_prob.tolist()[0][0], 6)\n",
    "    \n",
    "    return job_prob, job_id "
   ]
  },
  {
   "cell_type": "code",
   "execution_count": 122,
   "metadata": {},
   "outputs": [],
   "source": [
    "def show_recommendation_result(cv_clean, jobs_query):\n",
    "    cv_BOW = turn_content_BOW(cv_clean)\n",
    "\n",
    "    dict_prob_id = {}\n",
    "\n",
    "    for i,j in jobs_query.items():\n",
    "        job_jieba_data = j['concate_jieba']\n",
    "        similarity = compute_similarity(cv_BOW, i, job_jieba_data)\n",
    "        dict_prob_id[similarity[0]] = similarity[1]\n",
    "        result = [(k, dict_prob_id[k]) for k in sorted(dict_prob_id.keys(), reverse = True)[0:10]]\n",
    "    \n",
    "    list_ten_result = []\n",
    "    \n",
    "    for i,j in result:\n",
    "        data = jobs_query[j]\n",
    "        lst_result = [i, data['Job_Name'], data['Company'], data['Job_Description'], j]\n",
    "        list_ten_result.append(lst_result)\n",
    "\n",
    "    return(list_ten_result)\n",
    "\n"
   ]
  },
  {
   "cell_type": "code",
   "execution_count": 123,
   "metadata": {},
   "outputs": [
    {
     "data": {
      "text/plain": [
       "[[0.365896, '衛教護理師-兼職 (北區)', '康樂保股份有限公司', '病患腸造口術後衛教\\n \\n具備護理執照', '514gg'],\n",
       " [0.355389,\n",
       "  '門市業務人員(台北市)',\n",
       "  '維康醫療用品 _美德耐股份有限公司',\n",
       "  '醫療用品/藥局門市之業務人員需具醫護相關背景醫藥用品銷售，拜訪醫院相關人員支援門市促銷活動具良好溝通協調能力與抗壓性\\n \\n積極，具服務熱忱醫護相關科系畢或相關經驗尤佳具醫療藥品銷售經驗一年以上者尤佳',\n",
       "  '6nqky'],\n",
       " [0.30933,\n",
       "  '亞東紀念醫院-巡迴健檢護理師',\n",
       "  '長德醫院管理顧問有限公司',\n",
       "  '1、工作區域:巡迴體檢,以北臺灣為主。2、工作內容:負責執行巡迴體檢相關專業工作及相關行政事宜。3、工作時間:無輪夜班、正常工時。4、具護理師或護士證書。5、熟悉醫學中心護理服務程序，樂在溝通協調互動親和。6、善於與人溝通，反應能力快、機動性高、能獨立作業。7、具職業病安全衛生講習結業證書者優先錄取。8、其他主管交付工作及臨時交辦事項。9、底薪5萬以上，實薪面洽10、男女均可11、保障年薪60萬-100萬12、歡迎有相關行業者加入行列,薪資面議\\n \\n1、可取得個人國家級醫學中心之護理執業履歷。2、對巡迴健檢實務有相當的信心與熱忱。3、個人有相當期許，並對高獎金有強烈企圖心。',\n",
       "  'zad4'],\n",
       " [0.295689,\n",
       "  '照顧服務員',\n",
       "  '財團法人台灣省私立健順養護中心',\n",
       "  '照顧長輩日常生活  護理評估、醫療照護  給藥、家屬溝通 輔療性活動帶領\\n \\n意者可電子郵件或電話主動和我們連絡',\n",
       "  '6wzu3'],\n",
       " [0.284067,\n",
       "  '醫美護理諮詢師（台北）',\n",
       "  '漢蒂妮醫美診所',\n",
       "  '1.需具備護士/護理師證照。  2.醫美專業諮詢銷售服務、術前術後衛教宣導。 3.有開刀房經驗佳，維護工作環境整潔,器械保養消毒。 4.依照診所標準作業流程執行護理業務,以及整形外科相關庶務。 5.進行靜脈注射,肌肉注射,打點滴 6.提供基本的病患基礎醫療照顧,如傷口包紮.換藥等\\n \\n1.具備細心.認真.負責任.之正確工作態度錄取條件及工作內容: 2.底薪＋獎金ps.履歷各項資料完整優先考慮(如:學歷、工作經驗、專業證照、自傳)',\n",
       "  '6jmdf'],\n",
       " [0.278604,\n",
       "  '德威國際牙醫醫院-牙醫助理【全台第一家牙醫醫院】',\n",
       "  '德威國際口腔醫療體系_德威生物科技股份有限公司',\n",
       "  '1.接待患者、協助醫師看診、消毒器械、清潔診所內環境。2.具耐心責任感與熱忱有活力。 3.勤奮具上進心，有意願接受院所長期培訓成為優秀專業人員佳。4.休假及福利依勞基法規定辦理。5.有經驗者薪資另議。6.本院提供完整在職教育訓練，無經驗者可，在本院可學得一技之長，提升自己職場能力。7.全省口腔醫療產業最完整之體系，升遷管道多元。**試用期過後依考核調整薪資**\\n \\n1.具服務業經驗者佳2.笑容親切，樂於服務人群3.願意接受培訓臨床管理職者歡迎您的加入4.具護理師執照/口腔衛生學系/醫藥衛生相關科系背景者提供薪資加給',\n",
       "  '61yem'],\n",
       " [0.275449,\n",
       "  '北區專業植牙跟刀',\n",
       "  '鼎昕實業有限公司',\n",
       "  '1.醫院組專業醫療產品推廣拜訪2.植牙排刀、跟刀備貨等相關事宜3.具護理背景或醫院&診所實際植牙跟刀經驗尤佳4.獨立能力抗壓性強,能自主管理者佳5.具統整思考能力,接受專業訓練6.完成主管交辦事宜\\n \\n',\n",
       "  '6o9z8'],\n",
       " [0.27454,\n",
       "  '亞東紀念醫院-巡迴健檢行政人員(計時人員)',\n",
       "  '長德醫院管理顧問有限公司',\n",
       "  '1、工作區域:巡迴體檢,以北臺灣為主。2、工作內容:負責執行巡迴體檢相關專業工作及相關行政事宜。3、工作時間:無輪夜班、正常工時。4、善於與人溝通，反應能力快、機動性高、能獨立作業。5、其他主管交付工作及臨時交辦事項。6、男女均可7、歡迎有相關行業者加入行列,薪資面議\\n \\n1、對巡迴健檢實務有相當的信心與熱忱。',\n",
       "  '6z7vs'],\n",
       " [0.26736,\n",
       "  '護理長(無夜班/薪資高)',\n",
       "  '臺北市北投健康管理醫院',\n",
       "  '1.秉承督導以上人員之指揮，執行護理業務。2.負責單位內人力之分配與應用。3.推動單位人員教育與訓練業務及照護品質管理。\\n \\n',\n",
       "  '4p4jc'],\n",
       " [0.261354,\n",
       "  '護理師',\n",
       "  '仁荔健康診所',\n",
       "  '正職、兼職護理師提供基本的病患基礎醫藥照顧， 如：抽血、打針、包紮傷口、換藥、疫苗及幫忙文書處理等。 觀察、記錄並回報病人在接受醫療後狀態的改變週一至週五: 08:00-12:00 14:30-18:00 週六早上 08:00-12:00 薪$39000  勞、健保及勞退 三節獎金 及年終獎金1個月 兼職護理師 週一至週五 08:00-12:00 14:30-18:00 時薪$210 ； 18:00-21:00及週六早上  時薪$260\\n \\n',\n",
       "  '69kvc']]"
      ]
     },
     "execution_count": 123,
     "metadata": {},
     "output_type": "execute_result"
    }
   ],
   "source": [
    "# show 10 job recommendation to user\n",
    "final_result = show_recommendation_result(test_cv_clean, jobs_query)\n",
    "final_result"
   ]
  },
  {
   "cell_type": "code",
   "execution_count": null,
   "metadata": {},
   "outputs": [],
   "source": []
  }
 ],
 "metadata": {
  "kernelspec": {
   "display_name": "Python 3",
   "language": "python",
   "name": "python3"
  },
  "language_info": {
   "codemirror_mode": {
    "name": "ipython",
    "version": 3
   },
   "file_extension": ".py",
   "mimetype": "text/x-python",
   "name": "python",
   "nbconvert_exporter": "python",
   "pygments_lexer": "ipython3",
   "version": "3.7.6"
  }
 },
 "nbformat": 4,
 "nbformat_minor": 4
}
